{
  "cells": [
    {
      "cell_type": "markdown",
      "metadata": {
        "id": "view-in-github",
        "colab_type": "text"
      },
      "source": [
        "<a href=\"https://colab.research.google.com/github/roman91DE/Analyzing-the-influence-of-Selection-on-Genetic-Programming/blob/master/eda.ipynb\" target=\"_parent\"><img src=\"https://colab.research.google.com/assets/colab-badge.svg\" alt=\"Open In Colab\"/></a>"
      ]
    },
    {
      "cell_type": "code",
      "execution_count": null,
      "id": "eb62e06c",
      "metadata": {
        "id": "eb62e06c"
      },
      "outputs": [],
      "source": [
        "from random import random\n",
        "from copy import deepcopy\n",
        "import numpy as np\n",
        "import numpy.typing as npt"
      ]
    },
    {
      "cell_type": "code",
      "execution_count": null,
      "id": "3fb5d2df",
      "metadata": {
        "id": "3fb5d2df"
      },
      "outputs": [],
      "source": [
        "def random_solution(length: int) -> npt.ArrayLike:\n",
        "    return np.random.randint(0, 2, size=length, dtype=np.uint8)\n",
        "\n",
        "def random_population(popsize:int, length: int) -> list[npt.ArrayLike]:\n",
        "    return [random_solution(length) for _ in range(popsize)]\n",
        "\n",
        "def binary_hamming_distance(solution1: npt.ArrayLike, solution2: npt.ArrayLike) -> int:\n",
        "    distance = 0\n",
        "    for a, b in zip(solution1, solution2):\n",
        "        if a != b:\n",
        "            distance += 1\n",
        "    return distance\n",
        "\n",
        "def slow_binary_hamming_distance(solution1: npt.ArrayLike, solution2: npt.ArrayLike) -> int:\n",
        "    return len(solution1) - sum(solution1 == solution2)\n",
        "\n",
        "def get_neighborhood(solution: npt.ArrayLike) -> list[npt.ArrayLike]:\n",
        "    neighborhood = []\n",
        "    for idx in range(len(solution)):\n",
        "        neighbor = deepcopy(solution)\n",
        "        neighbor[idx] = not neighbor[idx]\n",
        "        neighborhood.append(neighbor)\n",
        "    return neighborhood\n",
        "            \n",
        "\n",
        "def fitness(solution: npt.ArrayLike):\n",
        "    return sum(solution)"
      ]
    },
    {
      "cell_type": "code",
      "execution_count": null,
      "id": "c73096ba",
      "metadata": {
        "id": "c73096ba"
      },
      "outputs": [],
      "source": [
        "def get_probabilistic_model(elite_pop: list[npt.ArrayLike]) -> npt.ArrayLike:\n",
        "    \n",
        "    model = np.zeros(len(elite_pop[0]))    \n",
        "    for genotype in elite_pop:\n",
        "        model += genotype\n",
        "        \n",
        "    model /= len(elite_pop)    \n",
        "    return model\n",
        "\n",
        "def sample_model(model: npt.ArrayLike) -> npt.ArrayLike:\n",
        "    probs = np.random.random(size=len(model))\n",
        "    return (np.uint8(probs <= model))\n",
        "    "
      ]
    },
    {
      "cell_type": "code",
      "execution_count": null,
      "id": "7606079f",
      "metadata": {
        "id": "7606079f"
      },
      "outputs": [],
      "source": [
        "def EDA(\n",
        "    popsize: int,\n",
        "    elitesize: int,\n",
        "    onemax_size: int,\n",
        "    max_generations: int,\n",
        "    verbose: bool = False,\n",
        ") -> None:\n",
        "    \n",
        "    population = random_population(popsize, onemax_size)\n",
        "    population.sort(key=lambda x : fitness(x), reverse=True)\n",
        "    generation = 0\n",
        "    \n",
        "    best_solution = population[0] \n",
        "    best_fitness = fitness(best_solution)\n",
        "\n",
        "    while ((generation < max_generations) and (best_fitness < onemax_size)):\n",
        "        \n",
        "        generation += 1\n",
        "        \n",
        "        pb_model = get_probabilistic_model(population[:elitesize])\n",
        "        population = []\n",
        "        \n",
        "        while len(population) < popsize:\n",
        "            population.append(\n",
        "                sample_model(pb_model)\n",
        "            )\n",
        "            \n",
        "        population.sort(key=lambda x : fitness(x), reverse=True)\n",
        "        \n",
        "        best_solution = population[0] \n",
        "        best_fitness = fitness(best_solution)\n",
        "        \n",
        "        if verbose:\n",
        "            print(f\"Current Generation: {generation}\")\n",
        "            print(f\"Current probabilistic model: {pb_model}\")\n",
        "            print(\"Population:\")\n",
        "            for indiv in population:\n",
        "                print(f\"{indiv}/fit={fitness(indiv)}\")\n",
        "    \n",
        "    print(f\"Best Solution found: {best_solution}\\nFitness: {best_fitness}\")\n",
        "    \n",
        "    "
      ]
    },
    {
      "cell_type": "code",
      "execution_count": null,
      "id": "d6d81c68",
      "metadata": {
        "id": "d6d81c68",
        "outputId": "41119811-1c4d-4b81-89bb-3296c559fc6f"
      },
      "outputs": [
        {
          "name": "stdout",
          "output_type": "stream",
          "text": [
            "Best Solution found: [1 1 1 1 1 1 1 1 1 1 1 1 1 1 1 1 1 1 1 1 1 1 1 1 1 1 1 1 1 1 1 1 1 1 1 1 1\n",
            " 1 1 1 1 1 1 1 1 1 1 1 1 1 1 1 1 1 1 1 1 1 1 0 1 1 1 1 1 1 1 1 1 1 1 1 1 1\n",
            " 1 1 1 1 1 1]\n",
            "Fitness: 79\n"
          ]
        }
      ],
      "source": [
        "EDA(\n",
        "    popsize=100,\n",
        "    elitesize=10,\n",
        "    onemax_size=80,\n",
        "    max_generations=1000,\n",
        "    verbose=False\n",
        ")"
      ]
    },
    {
      "cell_type": "code",
      "execution_count": null,
      "id": "d8eadcc7",
      "metadata": {
        "id": "d8eadcc7"
      },
      "outputs": [],
      "source": [
        "def GA(\n",
        "    popsize: int,\n",
        "    elitesize: int,\n",
        "    onemax_size: int,\n",
        "    max_generations: int,\n",
        "    verbose: bool = False,\n",
        ") -> None:\n",
        "    \n",
        "    population = random_population(popsize, onemax_size)\n",
        "    population.sort(key=lambda x : fitness(x), reverse=True)\n",
        "    generation = 0\n",
        "    \n",
        "    best_solution = population[0] \n",
        "    best_fitness = fitness(best_solution)\n",
        "\n",
        "    while ((generation < max_generations) and (best_fitness < onemax_size)):\n",
        "        \n",
        "        generation += 1\n",
        "        \n",
        "        mating_pool = population[:elitesize]\n",
        "        new_pop = []\n",
        "\n",
        "        while len(new_pop) < popsize:\n",
        "          pass\n",
        "            \n",
        "        population.sort(key=lambda x : fitness(x), reverse=True)\n",
        "        \n",
        "        best_solution = population[0] \n",
        "        best_fitness = fitness(best_solution)\n",
        "        \n",
        "        if verbose:\n",
        "            print(f\"Current Generation: {generation}\")\n",
        "            print(f\"Current probabilistic model: {pb_model}\")\n",
        "            print(\"Population:\")\n",
        "            for indiv in population:\n",
        "                print(f\"{indiv}/fit={fitness(indiv)}\")\n",
        "    \n",
        "    print(f\"Best Solution found: {best_solution}\\nFitness: {best_fitness}\")\n",
        "    \n",
        "    "
      ]
    },
    {
      "cell_type": "code",
      "execution_count": null,
      "id": "e8295051",
      "metadata": {
        "colab": {
          "base_uri": "https://localhost:8080/"
        },
        "id": "e8295051",
        "outputId": "96ef1708-8ed8-4b58-de65-171dc2199724"
      },
      "outputs": [
        {
          "output_type": "stream",
          "name": "stdout",
          "text": [
            "fatal: not a git repository (or any of the parent directories): .git\n",
            "fatal: not a git repository (or any of the parent directories): .git\n",
            "fatal: not a git repository (or any of the parent directories): .git\n"
          ]
        }
      ],
      "source": [
        "! git add * ; git commit -m \"commit from nb\" ; git push"
      ]
    }
  ],
  "metadata": {
    "kernelspec": {
      "display_name": "Python 3.10.4 ('datascience')",
      "language": "python",
      "name": "python3"
    },
    "language_info": {
      "codemirror_mode": {
        "name": "ipython",
        "version": 3
      },
      "file_extension": ".py",
      "mimetype": "text/x-python",
      "name": "python",
      "nbconvert_exporter": "python",
      "pygments_lexer": "ipython3",
      "version": "3.10.4"
    },
    "vscode": {
      "interpreter": {
        "hash": "76f6da4aa6f48114c4f1895c1cc9da6466fa52fe13abf4192b76dd5d8e91a52d"
      }
    },
    "colab": {
      "provenance": [],
      "collapsed_sections": [],
      "include_colab_link": true
    }
  },
  "nbformat": 4,
  "nbformat_minor": 5
}