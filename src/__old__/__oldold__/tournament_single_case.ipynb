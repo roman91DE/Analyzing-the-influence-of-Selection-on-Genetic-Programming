{
 "cells": [
  {
   "cell_type": "markdown",
   "metadata": {},
   "source": [
    "# Research Experiments on the effect of parent Selection on Generalization for symbolic Regression in GP\n",
    "\n",
    "* Masterseminar: SoSe 2022\n",
    "* JGU Mainz\n",
    "* FB 03 Recht-und Wirtschaftswissenschaften\n",
    "* Lehrstuhl für Wirtschaftsinformatik und BWL\n",
    "\n",
    "## Dependencies"
   ]
  },
  {
   "cell_type": "code",
   "execution_count": 3,
   "metadata": {},
   "outputs": [],
   "source": [
    "import numpy as np\n",
    "import pandas as pd\n",
    "import operator\n",
    "\n",
    "from deap import gp, tools, creator, base, algorithms\n",
    "from sklearn.model_selection import train_test_split\n",
    "from typing import Tuple, Dict\n",
    "import math\n",
    "from random import randint\n"
   ]
  },
  {
   "cell_type": "markdown",
   "metadata": {},
   "source": [
    "## Energy efficiency Data Set\n",
    "\n",
    "Source: https://archive.ics.uci.edu/ml/datasets/energy+efficiency"
   ]
  },
  {
   "cell_type": "code",
   "execution_count": 4,
   "metadata": {},
   "outputs": [],
   "source": [
    "# (re-)download file to ./data\n",
    "\n",
    "# !wget https://archive.ics.uci.edu/ml/machine-learning-databases/00242/ENB2012_data.xlsx -P ./data"
   ]
  },
  {
   "cell_type": "code",
   "execution_count": 5,
   "metadata": {},
   "outputs": [],
   "source": [
    "D_PATH = \"data/ENB2012_data.xlsx\"\n",
    "\n",
    "# TODO: research optimal splitsize!\n",
    "TRAINING_D_SPLITSIZE = 0.5\n",
    "\n",
    "def get_dataSets(datapath: str, train_size: float) -> Tuple[pd.DataFrame, pd.DataFrame]:\n",
    "    \"\"\"Read (excel) dataset at <datapath> and return two randomly split DFs for training/testing\"\"\"\n",
    "    df = pd.read_excel(datapath)\n",
    "    return train_test_split(df, train_size=train_size, test_size=(1-train_size))    \n",
    "\n",
    "trainDF, testDF = get_dataSets(D_PATH, TRAINING_D_SPLITSIZE)"
   ]
  },
  {
   "cell_type": "code",
   "execution_count": 6,
   "metadata": {},
   "outputs": [
    {
     "data": {
      "text/html": [
       "<div>\n",
       "<style scoped>\n",
       "    .dataframe tbody tr th:only-of-type {\n",
       "        vertical-align: middle;\n",
       "    }\n",
       "\n",
       "    .dataframe tbody tr th {\n",
       "        vertical-align: top;\n",
       "    }\n",
       "\n",
       "    .dataframe thead th {\n",
       "        text-align: right;\n",
       "    }\n",
       "</style>\n",
       "<table border=\"1\" class=\"dataframe\">\n",
       "  <thead>\n",
       "    <tr style=\"text-align: right;\">\n",
       "      <th></th>\n",
       "      <th>X1</th>\n",
       "      <th>X2</th>\n",
       "      <th>X3</th>\n",
       "      <th>X4</th>\n",
       "      <th>X5</th>\n",
       "      <th>X6</th>\n",
       "      <th>X7</th>\n",
       "      <th>X8</th>\n",
       "      <th>Y1</th>\n",
       "      <th>Y2</th>\n",
       "    </tr>\n",
       "  </thead>\n",
       "  <tbody>\n",
       "    <tr>\n",
       "      <th>734</th>\n",
       "      <td>0.82</td>\n",
       "      <td>612.5</td>\n",
       "      <td>318.5</td>\n",
       "      <td>147.0</td>\n",
       "      <td>7.0</td>\n",
       "      <td>4</td>\n",
       "      <td>0.4</td>\n",
       "      <td>5</td>\n",
       "      <td>29.06</td>\n",
       "      <td>33.84</td>\n",
       "    </tr>\n",
       "    <tr>\n",
       "      <th>25</th>\n",
       "      <td>0.74</td>\n",
       "      <td>686.0</td>\n",
       "      <td>245.0</td>\n",
       "      <td>220.5</td>\n",
       "      <td>3.5</td>\n",
       "      <td>3</td>\n",
       "      <td>0.0</td>\n",
       "      <td>0</td>\n",
       "      <td>6.05</td>\n",
       "      <td>11.19</td>\n",
       "    </tr>\n",
       "    <tr>\n",
       "      <th>180</th>\n",
       "      <td>0.66</td>\n",
       "      <td>759.5</td>\n",
       "      <td>318.5</td>\n",
       "      <td>220.5</td>\n",
       "      <td>3.5</td>\n",
       "      <td>2</td>\n",
       "      <td>0.1</td>\n",
       "      <td>3</td>\n",
       "      <td>11.59</td>\n",
       "      <td>13.46</td>\n",
       "    </tr>\n",
       "    <tr>\n",
       "      <th>730</th>\n",
       "      <td>0.86</td>\n",
       "      <td>588.0</td>\n",
       "      <td>294.0</td>\n",
       "      <td>147.0</td>\n",
       "      <td>7.0</td>\n",
       "      <td>4</td>\n",
       "      <td>0.4</td>\n",
       "      <td>5</td>\n",
       "      <td>31.12</td>\n",
       "      <td>36.26</td>\n",
       "    </tr>\n",
       "    <tr>\n",
       "      <th>651</th>\n",
       "      <td>0.74</td>\n",
       "      <td>686.0</td>\n",
       "      <td>245.0</td>\n",
       "      <td>220.5</td>\n",
       "      <td>3.5</td>\n",
       "      <td>5</td>\n",
       "      <td>0.4</td>\n",
       "      <td>3</td>\n",
       "      <td>13.78</td>\n",
       "      <td>16.60</td>\n",
       "    </tr>\n",
       "  </tbody>\n",
       "</table>\n",
       "</div>"
      ],
      "text/plain": [
       "       X1     X2     X3     X4   X5  X6   X7  X8     Y1     Y2\n",
       "734  0.82  612.5  318.5  147.0  7.0   4  0.4   5  29.06  33.84\n",
       "25   0.74  686.0  245.0  220.5  3.5   3  0.0   0   6.05  11.19\n",
       "180  0.66  759.5  318.5  220.5  3.5   2  0.1   3  11.59  13.46\n",
       "730  0.86  588.0  294.0  147.0  7.0   4  0.4   5  31.12  36.26\n",
       "651  0.74  686.0  245.0  220.5  3.5   5  0.4   3  13.78  16.60"
      ]
     },
     "execution_count": 6,
     "metadata": {},
     "output_type": "execute_result"
    }
   ],
   "source": [
    "trainDF.head()"
   ]
  },
  {
   "cell_type": "code",
   "execution_count": 7,
   "metadata": {},
   "outputs": [
    {
     "name": "stdout",
     "output_type": "stream",
     "text": [
      "<class 'numpy.ndarray'> \n",
      " [8.200e-01 6.125e+02 3.185e+02 1.470e+02 7.000e+00 4.000e+00 4.000e-01\n",
      " 5.000e+00 2.906e+01 3.384e+01]\n"
     ]
    }
   ],
   "source": [
    "# FIXME: Remove after testing\n",
    "\n",
    "# load a single test case\n",
    "for _, elem in trainDF.iterrows():\n",
    "    test_case = elem\n",
    "    break\n",
    "\n",
    "test_case_arr = test_case.values\n",
    "\n",
    "print(\n",
    "    type(test_case_arr),\n",
    "    \"\\n\",\n",
    "    test_case_arr\n",
    ")"
   ]
  },
  {
   "cell_type": "markdown",
   "metadata": {},
   "source": [
    "## Data Visualization"
   ]
  },
  {
   "cell_type": "code",
   "execution_count": 8,
   "metadata": {},
   "outputs": [],
   "source": [
    "from matplotlib import pyplot as plt\n",
    "import networkx as nx\n",
    "import pygraphviz as pgv\n",
    "\n",
    "%matplotlib inline\n",
    "\n",
    "def plot_exprTree(expr_tree, title:str) -> None:\n",
    "    \"\"\"plots an expression tree\"\"\"\n",
    "    nodes, edges, labels = gp.graph(expr_tree)\n",
    "\n",
    "    g = nx.Graph()\n",
    "    g.add_nodes_from(nodes)\n",
    "    g.add_edges_from(edges)\n",
    "    \n",
    "    pos = nx.drawing.nx_agraph.graphviz_layout(g, prog=\"dot\")\n",
    "\n",
    "    nx.draw_networkx_nodes(g, pos)\n",
    "    nx.draw_networkx_edges(g, pos)\n",
    "    nx.draw_networkx_labels(g, pos, labels)\n",
    "\n",
    "    plt.title(title)\n",
    "    plt.show()"
   ]
  },
  {
   "cell_type": "markdown",
   "metadata": {},
   "source": [
    "## GP System Setup"
   ]
  },
  {
   "cell_type": "markdown",
   "metadata": {},
   "source": [
    "### Primitive set"
   ]
  },
  {
   "cell_type": "code",
   "execution_count": 9,
   "metadata": {},
   "outputs": [],
   "source": [
    "UVS = {\n",
    "    \"ARG0\" : \"X1\",\n",
    "    \"ARG1\" : \"X2\",\n",
    "    \"ARG2\" : \"X3\",\n",
    "    \"ARG3\" : \"X4\",\n",
    "    \"ARG4\" : \"X5\",\n",
    "    \"ARG5\" : \"X6\",\n",
    "    \"ARG6\" : \"X7\",\n",
    "    \"ARG7\" : \"X8\",\n",
    "}\n",
    "\n",
    "# register the Primitive Set\n",
    "pset = gp.PrimitiveSet(\"MAIN\", arity=len(UVS))\n",
    "\n",
    "# rename ARGS to match the dataset\n",
    "for arg, des in UVS.items():\n",
    "    pset.renameArguments(arg=des)\n"
   ]
  },
  {
   "cell_type": "code",
   "execution_count": 10,
   "metadata": {},
   "outputs": [],
   "source": [
    "# adding functions\n",
    "\n",
    "def saveDiv(lhs, rhs) -> float:\n",
    "    \"\"\"\n",
    "    GP-save implementation of Division\n",
    "    [@poli08:fieldguide, p.22]\n",
    "    \"\"\"\n",
    "    if rhs == 0:\n",
    "        return 1\n",
    "    return lhs / rhs\n",
    "\n",
    "\n",
    "operators = (\n",
    "    (operator.add, 2),\n",
    "    (operator.sub, 2),\n",
    "    (operator.mul, 2),\n",
    "    (saveDiv, 2),\n",
    "    (math.sin, 1),\n",
    "    (math.cos, 1),\n",
    "    # FIXME: (math.exp, 1),\n",
    "    # FIXME: (math.log, 1),\n",
    "    (operator.neg, 1)\n",
    ")\n",
    "\n",
    "for (func, arity) in operators:\n",
    "    pset.addPrimitive(func, arity)\n",
    "\n",
    "pset.addEphemeralConstant(\"rand1\", lambda: randint(-1,1))"
   ]
  },
  {
   "cell_type": "markdown",
   "metadata": {},
   "source": [
    "### Custom Types"
   ]
  },
  {
   "cell_type": "code",
   "execution_count": 11,
   "metadata": {},
   "outputs": [],
   "source": [
    "# min fitness object\n",
    "\n",
    "# objective: minimize MAD for y1\n",
    "\n",
    "creator.create(\"FitnessMin\", base.Fitness, weights=(-1.0,))\n",
    "\n",
    "# TODO add y2? Do multiobjective symreg?"
   ]
  },
  {
   "cell_type": "code",
   "execution_count": 12,
   "metadata": {},
   "outputs": [],
   "source": [
    "# individuals program\n",
    "creator.create(\"Individual\", gp.PrimitiveTree, fitness=creator.FitnessMin)"
   ]
  },
  {
   "cell_type": "markdown",
   "metadata": {},
   "source": [
    "## Algorithmic specifications"
   ]
  },
  {
   "cell_type": "code",
   "execution_count": 13,
   "metadata": {},
   "outputs": [],
   "source": [
    "# TODO: research alternatives\n",
    "\n",
    "toolbox = base.Toolbox()\n",
    "toolbox.register(\"expr\", gp.genHalfAndHalf, pset=pset, min_=1, max_=2)\n",
    "toolbox.register(\"individual\", tools.initIterate, creator.Individual, toolbox.expr)\n",
    "toolbox.register(\"population\", tools.initRepeat, list, toolbox.individual)\n",
    "toolbox.register(\"compile\", gp.compile, pset=pset)"
   ]
  },
  {
   "cell_type": "code",
   "execution_count": 14,
   "metadata": {},
   "outputs": [],
   "source": [
    "# fitness function for single fitness case:\n",
    "\n",
    "def evaluate_single_case_y1_symReg(\n",
    "    individual:creator.Individual,\n",
    "    case:pd.core.series.Series\n",
    "    ) -> tuple[float]:\n",
    "    \"\"\"\n",
    "    Evaluates an individual program for a single fitness case (=row of pd.dataframe), computes and returns the absolute error for prediction and outcome for y1 and model prediction (returns an iterable for fitness_min compatability)\n",
    "    \"\"\"\n",
    "\n",
    "    # Transform the tree expression in a callable function\n",
    "    func = toolbox.compile(expr=individual)\n",
    "    \n",
    "    # compute individual with case variables\n",
    "    y1_prediction = func(*case[0:8:].values)\n",
    "    # optimal value:\n",
    "    y1_value = case[8:9:].values[0]\n",
    "    # compute absolute difference and return as fitness\n",
    "    abs_err = abs(y1_prediction - y1_value)\n",
    "    return (abs_err, )"
   ]
  },
  {
   "cell_type": "code",
   "execution_count": 15,
   "metadata": {},
   "outputs": [],
   "source": [
    "# GP system setup\n",
    "\n",
    "# FIXME: this limits evolution to a single test case that was drawn from trainDF!\n",
    "toolbox.register(\"evaluate\", evaluate_single_case_y1_symReg, case=test_case)\n",
    "\n",
    "# registration:\n",
    "toolbox.register(\"select\", tools.selTournament, tournsize=3)\n",
    "toolbox.register(\"mate\", gp.cxOnePoint)\n",
    "toolbox.register(\"expr_mut\", gp.genFull, min_=0, max_=2)\n",
    "toolbox.register(\"mutate\", gp.mutUniform, expr=toolbox.expr_mut, pset=pset)\n",
    "\n",
    "# decoration:\n",
    "toolbox.decorate(\"mate\", gp.staticLimit(key=operator.attrgetter(\"height\"), max_value=17))\n",
    "toolbox.decorate(\"mutate\", gp.staticLimit(key=operator.attrgetter(\"height\"), max_value=17))"
   ]
  },
  {
   "cell_type": "markdown",
   "metadata": {},
   "source": [
    "## Statistics"
   ]
  },
  {
   "cell_type": "code",
   "execution_count": 16,
   "metadata": {},
   "outputs": [],
   "source": [
    "stats_fit = tools.Statistics(lambda ind: ind.fitness.values)\n",
    "stats_size = tools.Statistics(len)\n",
    "mstats = tools.MultiStatistics(fitness=stats_fit, size=stats_size)\n",
    "mstats.register(\"avg\", np.mean)\n",
    "mstats.register(\"std\", np.std)\n",
    "mstats.register(\"min\", np.min)\n",
    "mstats.register(\"max\", np.max)"
   ]
  },
  {
   "cell_type": "code",
   "execution_count": 17,
   "metadata": {},
   "outputs": [
    {
     "name": "stdout",
     "output_type": "stream",
     "text": [
      "   \t      \t                    fitness                    \t                      size                     \n",
      "   \t      \t-----------------------------------------------\t-----------------------------------------------\n",
      "gen\tnevals\tavg    \tgen\tmax   \tmin \tnevals\tstd    \tavg    \tgen\tmax\tmin\tnevals\tstd    \n",
      "0  \t300   \t4733.08\t0  \t780354\t5.94\t300   \t48867.5\t3.48333\t0  \t7  \t2  \t300   \t1.45936\n",
      "1  \t156   \t65.9407\t1  \t4002.84\t5.54\t156   \t280.552\t3.47   \t1  \t9  \t1  \t156   \t1.38652\n",
      "2  \t157   \t146.545\t2  \t27342.3\t1.06\t157   \t1587.77\t3.39   \t2  \t9  \t1  \t157   \t1.30047\n",
      "3  \t146   \t61.5103\t3  \t2200.84\t0.618924\t146   \t204.772\t3.5    \t3  \t10 \t1  \t146   \t1.27671\n",
      "4  \t166   \t44.9846\t4  \t3155.94\t0.04    \t166   \t220.76 \t3.40333\t4  \t9  \t1  \t166   \t1.16361\n",
      "5  \t164   \t31.8186\t5  \t3033.44\t0.648894\t164   \t184.541\t3.41333\t5  \t9  \t1  \t164   \t1.22031\n",
      "6  \t151   \t79.6209\t6  \t3091.56\t0.416802\t151   \t399.781\t3.34   \t6  \t9  \t1  \t151   \t1.21288\n",
      "7  \t151   \t46.4014\t7  \t3033.44\t0.416802\t151   \t279.211\t3.28   \t7  \t9  \t1  \t151   \t0.956521\n",
      "8  \t148   \t127.976\t8  \t7173.94\t0.0639543\t148   \t687.256\t3.49333\t8  \t9  \t3  \t148   \t1.1676  \n",
      "9  \t140   \t124.043\t9  \t12220.9\t0.0639543\t140   \t910.593\t3.76667\t9  \t11 \t1  \t140   \t1.47611 \n",
      "10 \t173   \t172.247\t10 \t27547.8\t0.0639543\t173   \t1641.39\t4.32667\t10 \t14 \t1  \t173   \t1.89735 \n",
      "11 \t149   \t43.4981\t11 \t2200.44\t0.0639543\t149   \t183.703\t4.86667\t11 \t12 \t2  \t149   \t1.95846 \n",
      "12 \t163   \t558.469\t12 \t151969 \t0.0231573\t163   \t8759.59\t5.72333\t12 \t11 \t1  \t163   \t1.99836 \n",
      "13 \t148   \t396.935\t13 \t101413 \t0.0231573\t148   \t5850.28\t6.51667\t13 \t13 \t1  \t148   \t2.07277 \n",
      "14 \t176   \t41.8682\t14 \t1847.89\t0.0231573\t176   \t155.52 \t7.11667\t14 \t16 \t1  \t176   \t2.42413 \n",
      "15 \t174   \t46.1432\t15 \t1853.75\t0.0231573\t174   \t184.242\t7.40667\t15 \t21 \t1  \t174   \t2.59768 \n",
      "16 \t155   \t1733.44\t16 \t507187 \t0.0186143\t155   \t29232  \t7.60333\t16 \t19 \t2  \t155   \t2.69431 \n",
      "17 \t145   \t44.2685\t17 \t5539.67\t0.0186143\t145   \t342.806\t8.20333\t17 \t27 \t1  \t145   \t3.63712 \n",
      "18 \t151   \t216.023\t18 \t36044.1\t0.0134635\t151   \t2208.12\t7.47   \t18 \t21 \t3  \t151   \t3.25818 \n",
      "19 \t169   \t1331.45\t19 \t378194 \t0.0186143\t169   \t21797  \t7.33333\t19 \t21 \t1  \t169   \t3.2887  \n",
      "20 \t139   \t117.536\t20 \t20432.6\t0.0186143\t139   \t1196.43\t7.13   \t20 \t19 \t1  \t139   \t3.15908 \n",
      "21 \t177   \t402.333\t21 \t57068.7\t0.0186143\t177   \t4251.79\t6.73333\t21 \t21 \t1  \t177   \t3.09444 \n",
      "22 \t170   \t46.9251\t22 \t3035.52\t0.0186143\t170   \t237.879\t6.93667\t22 \t21 \t1  \t170   \t3.15373 \n",
      "23 \t166   \t728.258\t23 \t195313 \t0.0186143\t166   \t11257.9\t7.68667\t23 \t21 \t1  \t166   \t3.41592 \n",
      "24 \t155   \t74.4683\t24 \t14026.1\t0.0186143\t155   \t817.868\t8.68667\t24 \t21 \t1  \t155   \t3.69889 \n",
      "25 \t173   \t79.1604\t25 \t9805.76\t0.0186143\t173   \t623.038\t9.82667\t25 \t21 \t1  \t173   \t3.78197 \n",
      "26 \t168   \t49.4873\t26 \t3558.97\t0.0186143\t168   \t306.552\t10.3433\t26 \t21 \t1  \t168   \t3.86594 \n",
      "27 \t160   \t1712.86\t27 \t507207 \t0.0186143\t160   \t29233.8\t11.36  \t27 \t25 \t3  \t160   \t3.77762 \n",
      "28 \t169   \t444.209\t28 \t123681 \t0.014806 \t169   \t7131.02\t11.3567\t28 \t25 \t1  \t169   \t4.04921 \n",
      "29 \t157   \t25.0608\t29 \t3091.53\t0.014806 \t157   \t197.08 \t11.4933\t29 \t27 \t2  \t157   \t4.06324 \n",
      "30 \t160   \t22.5761\t30 \t1823.25\t0.014806 \t160   \t169.027\t11.8067\t30 \t21 \t3  \t160   \t3.58831 \n",
      "31 \t167   \t13.9142\t31 \t1621.56\t0.00601429\t167   \t116.233\t11.7333\t31 \t27 \t2  \t167   \t4.17399 \n",
      "32 \t161   \t9.46487\t32 \t1709.84\t0.00601429\t161   \t99.718 \t12.07  \t32 \t25 \t3  \t161   \t3.58587 \n",
      "33 \t183   \t14.6596\t33 \t947.81 \t0.00601429\t183   \t90.3516\t12.2833\t33 \t26 \t1  \t183   \t4.23986 \n",
      "34 \t154   \t30.7585\t34 \t3550.48\t0.00416684\t154   \t238.421\t12.51  \t34 \t34 \t1  \t154   \t4.65008 \n",
      "35 \t170   \t95.771 \t35 \t14277.6\t0.00601429\t170   \t886.432\t12.8733\t35 \t34 \t1  \t170   \t4.92517 \n",
      "36 \t156   \t114.822\t36 \t21412.9\t0.00601429\t156   \t1272.14\t12.88  \t36 \t26 \t2  \t156   \t4.39988 \n",
      "37 \t169   \t845.308\t37 \t234098 \t0.00601429\t169   \t13498.9\t13.6333\t37 \t33 \t1  \t169   \t5.32343 \n",
      "38 \t162   \t63.5863\t38 \t3550.48\t0.00366706\t162   \t396.347\t14.0933\t38 \t30 \t3  \t162   \t4.81227 \n",
      "39 \t149   \t103.982\t39 \t3550.48\t0.00366706\t149   \t545.162\t14.9333\t39 \t40 \t3  \t149   \t5.66941 \n",
      "40 \t161   \t103.517\t40 \t15162.5\t0.00601429\t161   \t931.825\t15.26  \t40 \t33 \t1  \t161   \t5.21719 \n"
     ]
    }
   ],
   "source": [
    "pop = toolbox.population(n=300)\n",
    "hof = tools.HallOfFame(1)\n",
    "pop, log = algorithms.eaSimple(pop, toolbox, 0.5, 0.1, 40, stats=mstats,\n",
    "                                  halloffame=hof, verbose=True)"
   ]
  },
  {
   "cell_type": "code",
   "execution_count": 18,
   "metadata": {},
   "outputs": [
    {
     "name": "stdout",
     "output_type": "stream",
     "text": [
      "mul(add(ARG7, cos(add(ARG7, cos(sin(saveDiv(mul(sin(ARG4), sub(ARG4, sin(ARG5))), ARG7)))))), ARG7)\n"
     ]
    },
    {
     "data": {
      "image/png": "[encoded data removed]",
      "text/plain": [
       "<Figure size 432x288 with 1 Axes>"
      ]
     },
     "metadata": {},
     "output_type": "display_data"
    }
   ],
   "source": [
    "for elite in hof:\n",
    "    print (elite)\n",
    "    plot_exprTree(elite, \"Best Solution\")"
   ]
  },
  {
   "cell_type": "code",
   "execution_count": null,
   "metadata": {},
   "outputs": [],
   "source": []
  }
 ],
 "metadata": {
  "interpreter": {
   "hash": "76ccdc9e1609e02ff543acc18e37045188f863069557f4e8891716419ee222bc"
  },
  "kernelspec": {
   "display_name": "Python 3 (ipykernel)",
   "language": "python",
   "name": "python3"
  },
  "language_info": {
   "codemirror_mode": {
    "name": "ipython",
    "version": 3
   },
   "file_extension": ".py",
   "mimetype": "text/x-python",
   "name": "python",
   "nbconvert_exporter": "python",
   "pygments_lexer": "ipython3",
   "version": "3.10.4"
  }
 },
 "nbformat": 4,
 "nbformat_minor": 2
}
