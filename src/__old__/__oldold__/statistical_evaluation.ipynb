{
 "cells": [
  {
   "cell_type": "code",
   "execution_count": 107,
   "metadata": {},
   "outputs": [],
   "source": [
    "from scipy.stats import mannwhitneyu, normaltest\n",
    "import pandas as pd\n",
    "import numpy as np\n",
    "from matplotlib import pyplot as plt\n",
    "from typing import Tuple\n",
    "\n",
    "%matplotlib inline"
   ]
  },
  {
   "cell_type": "code",
   "execution_count": 101,
   "metadata": {
    "scrolled": true
   },
   "outputs": [
    {
     "data": {
      "text/html": [
       "<div>\n",
       "<style scoped>\n",
       "    .dataframe tbody tr th:only-of-type {\n",
       "        vertical-align: middle;\n",
       "    }\n",
       "\n",
       "    .dataframe tbody tr th {\n",
       "        vertical-align: top;\n",
       "    }\n",
       "\n",
       "    .dataframe thead th {\n",
       "        text-align: right;\n",
       "    }\n",
       "</style>\n",
       "<table border=\"1\" class=\"dataframe\">\n",
       "  <thead>\n",
       "    <tr style=\"text-align: right;\">\n",
       "      <th></th>\n",
       "      <th>fit_train_tournament</th>\n",
       "      <th>fit_test_tournament</th>\n",
       "      <th>fit_train_elexicase</th>\n",
       "      <th>fit_test_elexicase</th>\n",
       "    </tr>\n",
       "  </thead>\n",
       "  <tbody>\n",
       "    <tr>\n",
       "      <th>count</th>\n",
       "      <td>100.000000</td>\n",
       "      <td>100.000000</td>\n",
       "      <td>100.000000</td>\n",
       "      <td>100.000000</td>\n",
       "    </tr>\n",
       "    <tr>\n",
       "      <th>mean</th>\n",
       "      <td>3.573253</td>\n",
       "      <td>3.563622</td>\n",
       "      <td>3.111886</td>\n",
       "      <td>3.137443</td>\n",
       "    </tr>\n",
       "    <tr>\n",
       "      <th>std</th>\n",
       "      <td>0.768300</td>\n",
       "      <td>0.764872</td>\n",
       "      <td>0.685969</td>\n",
       "      <td>0.653923</td>\n",
       "    </tr>\n",
       "    <tr>\n",
       "      <th>min</th>\n",
       "      <td>2.321738</td>\n",
       "      <td>2.196453</td>\n",
       "      <td>1.576327</td>\n",
       "      <td>1.678117</td>\n",
       "    </tr>\n",
       "    <tr>\n",
       "      <th>25%</th>\n",
       "      <td>3.227019</td>\n",
       "      <td>3.222105</td>\n",
       "      <td>2.606338</td>\n",
       "      <td>2.618120</td>\n",
       "    </tr>\n",
       "    <tr>\n",
       "      <th>50%</th>\n",
       "      <td>3.463482</td>\n",
       "      <td>3.482026</td>\n",
       "      <td>3.196373</td>\n",
       "      <td>3.174337</td>\n",
       "    </tr>\n",
       "    <tr>\n",
       "      <th>75%</th>\n",
       "      <td>3.793771</td>\n",
       "      <td>3.692923</td>\n",
       "      <td>3.598737</td>\n",
       "      <td>3.621362</td>\n",
       "    </tr>\n",
       "    <tr>\n",
       "      <th>max</th>\n",
       "      <td>8.262926</td>\n",
       "      <td>8.522100</td>\n",
       "      <td>5.155625</td>\n",
       "      <td>4.948786</td>\n",
       "    </tr>\n",
       "  </tbody>\n",
       "</table>\n",
       "</div>"
      ],
      "text/plain": [
       "       fit_train_tournament  fit_test_tournament  fit_train_elexicase  \\\n",
       "count            100.000000           100.000000           100.000000   \n",
       "mean               3.573253             3.563622             3.111886   \n",
       "std                0.768300             0.764872             0.685969   \n",
       "min                2.321738             2.196453             1.576327   \n",
       "25%                3.227019             3.222105             2.606338   \n",
       "50%                3.463482             3.482026             3.196373   \n",
       "75%                3.793771             3.692923             3.598737   \n",
       "max                8.262926             8.522100             5.155625   \n",
       "\n",
       "       fit_test_elexicase  \n",
       "count          100.000000  \n",
       "mean             3.137443  \n",
       "std              0.653923  \n",
       "min              1.678117  \n",
       "25%              2.618120  \n",
       "50%              3.174337  \n",
       "75%              3.621362  \n",
       "max              4.948786  "
      ]
     },
     "execution_count": 101,
     "metadata": {},
     "output_type": "execute_result"
    }
   ],
   "source": [
    "# descriptive statistics for experiment run with MAE as fitness\n",
    "results_absolute.describe().to_csv(\"../docs/rmd/tables/descriptive_stats_absolute.csv\")\n",
    "results_absolute.describe().to_markdown(\"../docs/rmd/tables/descriptive_stats_absolute.md\")\n",
    "results_absolute.describe()"
   ]
  },
  {
   "cell_type": "code",
   "execution_count": 90,
   "metadata": {},
   "outputs": [
    {
     "data": {
      "text/html": [
       "<div>\n",
       "<style scoped>\n",
       "    .dataframe tbody tr th:only-of-type {\n",
       "        vertical-align: middle;\n",
       "    }\n",
       "\n",
       "    .dataframe tbody tr th {\n",
       "        vertical-align: top;\n",
       "    }\n",
       "\n",
       "    .dataframe thead th {\n",
       "        text-align: right;\n",
       "    }\n",
       "</style>\n",
       "<table border=\"1\" class=\"dataframe\">\n",
       "  <thead>\n",
       "    <tr style=\"text-align: right;\">\n",
       "      <th></th>\n",
       "      <th>fit_train_tournament</th>\n",
       "      <th>fit_test_tournament</th>\n",
       "      <th>fit_train_elexicase</th>\n",
       "      <th>fit_test_elexicase</th>\n",
       "    </tr>\n",
       "  </thead>\n",
       "  <tbody>\n",
       "    <tr>\n",
       "      <th>count</th>\n",
       "      <td>100.000000</td>\n",
       "      <td>100.000000</td>\n",
       "      <td>100.000000</td>\n",
       "      <td>100.000000</td>\n",
       "    </tr>\n",
       "    <tr>\n",
       "      <th>mean</th>\n",
       "      <td>23.610171</td>\n",
       "      <td>23.934988</td>\n",
       "      <td>19.988472</td>\n",
       "      <td>20.442400</td>\n",
       "    </tr>\n",
       "    <tr>\n",
       "      <th>std</th>\n",
       "      <td>11.162920</td>\n",
       "      <td>11.212483</td>\n",
       "      <td>12.009220</td>\n",
       "      <td>11.960861</td>\n",
       "    </tr>\n",
       "    <tr>\n",
       "      <th>min</th>\n",
       "      <td>10.988769</td>\n",
       "      <td>11.146286</td>\n",
       "      <td>3.165682</td>\n",
       "      <td>2.948830</td>\n",
       "    </tr>\n",
       "    <tr>\n",
       "      <th>25%</th>\n",
       "      <td>17.741688</td>\n",
       "      <td>17.799039</td>\n",
       "      <td>11.073847</td>\n",
       "      <td>12.935433</td>\n",
       "    </tr>\n",
       "    <tr>\n",
       "      <th>50%</th>\n",
       "      <td>21.016834</td>\n",
       "      <td>21.177051</td>\n",
       "      <td>17.381606</td>\n",
       "      <td>18.179904</td>\n",
       "    </tr>\n",
       "    <tr>\n",
       "      <th>75%</th>\n",
       "      <td>24.475491</td>\n",
       "      <td>24.485895</td>\n",
       "      <td>25.630302</td>\n",
       "      <td>24.435983</td>\n",
       "    </tr>\n",
       "    <tr>\n",
       "      <th>max</th>\n",
       "      <td>73.716858</td>\n",
       "      <td>70.483450</td>\n",
       "      <td>66.005119</td>\n",
       "      <td>64.794064</td>\n",
       "    </tr>\n",
       "  </tbody>\n",
       "</table>\n",
       "</div>"
      ],
      "text/plain": [
       "       fit_train_tournament  fit_test_tournament  fit_train_elexicase  \\\n",
       "count            100.000000           100.000000           100.000000   \n",
       "mean              23.610171            23.934988            19.988472   \n",
       "std               11.162920            11.212483            12.009220   \n",
       "min               10.988769            11.146286             3.165682   \n",
       "25%               17.741688            17.799039            11.073847   \n",
       "50%               21.016834            21.177051            17.381606   \n",
       "75%               24.475491            24.485895            25.630302   \n",
       "max               73.716858            70.483450            66.005119   \n",
       "\n",
       "       fit_test_elexicase  \n",
       "count          100.000000  \n",
       "mean            20.442400  \n",
       "std             11.960861  \n",
       "min              2.948830  \n",
       "25%             12.935433  \n",
       "50%             18.179904  \n",
       "75%             24.435983  \n",
       "max             64.794064  "
      ]
     },
     "execution_count": 90,
     "metadata": {},
     "output_type": "execute_result"
    }
   ],
   "source": [
    "# descriptive statistics for experiment run with MSE as fitness\n",
    "results_square.describe().to_csv(\"../docs/rmd/tables/descriptive_stats_square.csv\")\n",
    "results_square.describe().to_markdown(\"../docs/rmd/tables/descriptive_stats_square.md\")\n",
    "results_square.describe()"
   ]
  },
  {
   "cell_type": "code",
   "execution_count": 91,
   "metadata": {},
   "outputs": [],
   "source": [
    "n_squared = len(results_square)\n",
    "n_absolute = len(results_absolute)"
   ]
  },
  {
   "cell_type": "code",
   "execution_count": 92,
   "metadata": {},
   "outputs": [
    {
     "name": "stdout",
     "output_type": "stream",
     "text": [
      "MSE-Based: \n",
      "----\n",
      "Data Series: fit_train_tournament\n",
      "Statistic: 69.09240993119388\n",
      "P-Val: 9.925989529490364e-16\n",
      "\n",
      "Data Series: fit_test_tournament\n",
      "Statistic: 65.96269694585169\n",
      "P-Val: 4.746596913341957e-15\n",
      "\n",
      "Data Series: fit_train_elexicase\n",
      "Statistic: 39.033311122621996\n",
      "P-Val: 3.3421365083225614e-09\n",
      "\n",
      "Data Series: fit_test_elexicase\n",
      "Statistic: 41.15142953785429\n",
      "P-Val: 1.158992470768308e-09\n",
      "\n",
      "MAE-Based: \n",
      "----\n",
      "Data Series: fit_train_tournament\n",
      "Statistic: 94.51471948070684\n",
      "P-Val: 2.9949490283913427e-21\n",
      "\n",
      "Data Series: fit_test_tournament\n",
      "Statistic: 102.50056471468105\n",
      "P-Val: 5.52440075850509e-23\n",
      "\n",
      "Data Series: fit_train_elexicase\n",
      "Statistic: 0.0001971640933446212\n",
      "P-Val: 0.9999014228123779\n",
      "\n",
      "Data Series: fit_test_elexicase\n",
      "Statistic: 0.40404083863475304\n",
      "P-Val: 0.8170782435919183\n",
      "\n"
     ]
    }
   ],
   "source": [
    "# Check if data series are normal distributed at alpha=5%\n",
    "\n",
    "HEADERS = results_square.columns.values.tolist()\n",
    "\n",
    "print(\"MSE-Based: \\n----\")\n",
    "for header in HEADERS:\n",
    "\n",
    "    print(f\"Data Series: {header}\")\n",
    "    statistic, pval = normaltest(results_square[header])\n",
    "\n",
    "    print(f\"Statistic: {statistic}\\nP-Val: {pval}\\n\")\n",
    "\n",
    "\n",
    "\n",
    "print(\"MAE-Based: \\n----\")\n",
    "for header in HEADERS:\n",
    "\n",
    "    print(f\"Data Series: {header}\")\n",
    "    statistic, pval = normaltest(results_absolute[header])\n",
    "\n",
    "    print(f\"Statistic: {statistic}\\nP-Val: {pval}\\n\")\n"
   ]
  },
  {
   "cell_type": "code",
   "execution_count": 108,
   "metadata": {},
   "outputs": [],
   "source": [
    "def test_mannwhitneyu(df: pd.DataFrame, xheader: str, yheader: str) -> Tuple[float,float]:\n",
    "    \n",
    "    ALPHA = 0.05\n",
    "\n",
    "    statistic, pval = mannwhitneyu(x = df[xheader],y = df[yheader])\n",
    "    print(f\"Statistic: {statistic}\\nPVal: {pval}\\nPVal < ALPHA: {pval < ALPHA}\")\n",
    "\n",
    "    if pval > ALPHA:\n",
    "        print(f\"Results supports H0 for alpha={ALPHA}\\n H0: The distribution underlying sample {xheader} is the same as the distribution underlying sample {yheader}\")\n",
    "\n",
    "    else:\n",
    "        print(f\"H0 can be rejected for alpha={ALPHA}\\nThe distribution underlying sample {xheader} is NOT the same as the distribution underlying sample {yheader}\")\n",
    "    \n",
    "    return statistic, pval\n"
   ]
  },
  {
   "cell_type": "code",
   "execution_count": 110,
   "metadata": {},
   "outputs": [
    {
     "name": "stdout",
     "output_type": "stream",
     "text": [
      "Statistic: 6280.0\n",
      "PVal: 0.001770111863505041\n",
      "PVal < ALPHA: True\n",
      "H0 can be rejected for alpha=0.05\n",
      "The distribution underlying sample fit_train_tournament is NOT the same as the distribution underlying sample fit_train_elexicase\n"
     ]
    },
    {
     "data": {
      "image/png": "[encoded data removed]",
      "text/plain": [
       "<Figure size 432x288 with 1 Axes>"
      ]
     },
     "metadata": {
      "needs_background": "light"
     },
     "output_type": "display_data"
    }
   ],
   "source": [
    "fit_train_square_mwu = test_mannwhitneyu(results_square, \"fit_train_tournament\", \"fit_train_elexicase\")\n",
    "\n",
    "plt.figure()\n",
    "\n",
    "subplot_train_squared = results_square.boxplot(column=[HEADERS[0], HEADERS[2]])\n",
    "subplot_train_squared.set_ylabel(\"MSE\")\n",
    "subplot_train_squared.set_title(f\"Distribution for n={n_squared} runs\")\n",
    "\n",
    "plt.savefig(\"../docs/rmd/plots/box_train_square.png\")"
   ]
  },
  {
   "cell_type": "code",
   "execution_count": 111,
   "metadata": {},
   "outputs": [
    {
     "name": "stdout",
     "output_type": "stream",
     "text": [
      "Statistic: 6651.0\n",
      "PVal: 5.511234174151425e-05\n",
      "PVal < ALPHA: True\n",
      "H0 can be rejected for alpha=0.05\n",
      "The distribution underlying sample fit_train_tournament is NOT the same as the distribution underlying sample fit_train_elexicase\n"
     ]
    },
    {
     "data": {
      "image/png": "[encoded data removed]",
      "text/plain": [
       "<Figure size 432x288 with 1 Axes>"
      ]
     },
     "metadata": {
      "needs_background": "light"
     },
     "output_type": "display_data"
    }
   ],
   "source": [
    "fit_train_abs_mwu = test_mannwhitneyu(results_absolute, \"fit_train_tournament\", \"fit_train_elexicase\")\n",
    "\n",
    "plt.figure()\n",
    "\n",
    "subplot_train_absolute = results_absolute.boxplot(column=[HEADERS[0], HEADERS[2]])\n",
    "subplot_train_absolute.set_ylabel(\"MAE\")\n",
    "subplot_train_absolute.set_title(f\"Distribution for n={n_absolute} runs\")\n",
    "\n",
    "plt.savefig(\"../docs/rmd/plots/box_train_absolute.png\")"
   ]
  },
  {
   "cell_type": "code",
   "execution_count": 112,
   "metadata": {},
   "outputs": [
    {
     "name": "stdout",
     "output_type": "stream",
     "text": [
      "Statistic: 6273.0\n",
      "PVal: 0.0018758683827533095\n",
      "PVal < ALPHA: True\n",
      "H0 can be rejected for alpha=0.05\n",
      "The distribution underlying sample fit_test_tournament is NOT the same as the distribution underlying sample fit_test_elexicase\n"
     ]
    },
    {
     "data": {
      "image/png": "[encoded data removed]",
      "text/plain": [
       "<Figure size 432x288 with 1 Axes>"
      ]
     },
     "metadata": {
      "needs_background": "light"
     },
     "output_type": "display_data"
    }
   ],
   "source": [
    "fit_test_square_mwu = test_mannwhitneyu(results_square, \"fit_test_tournament\", \"fit_test_elexicase\")\n",
    "\n",
    "plt.figure()\n",
    "\n",
    "subplot_test_squared = results_square.boxplot(column=[HEADERS[1], HEADERS[3]])\n",
    "subplot_test_squared.set_ylabel(\"MSE\")\n",
    "subplot_test_squared.set_title(f\"Distribution for n={n_squared} runs\")\n",
    "\n",
    "plt.savefig(\"../docs/rmd/plots/box_test_square.png\")\n"
   ]
  },
  {
   "cell_type": "code",
   "execution_count": 113,
   "metadata": {},
   "outputs": [
    {
     "name": "stdout",
     "output_type": "stream",
     "text": [
      "Statistic: 6618.0\n",
      "PVal: 7.744099850396849e-05\n",
      "PVal < ALPHA: True\n",
      "H0 can be rejected for alpha=0.05\n",
      "The distribution underlying sample fit_test_tournament is NOT the same as the distribution underlying sample fit_test_elexicase\n"
     ]
    },
    {
     "data": {
      "image/png": "[encoded data removed]",
      "text/plain": [
       "<Figure size 432x288 with 1 Axes>"
      ]
     },
     "metadata": {
      "needs_background": "light"
     },
     "output_type": "display_data"
    }
   ],
   "source": [
    "fit_test_abs_mwu = test_mannwhitneyu(results_absolute, \"fit_test_tournament\", \"fit_test_elexicase\")\n",
    "\n",
    "plt.figure()\n",
    "\n",
    "subplot_test_absolute = results_absolute.boxplot(column=[HEADERS[1], HEADERS[3]])\n",
    "subplot_test_absolute.set_ylabel(\"MAE\")\n",
    "subplot_test_absolute.set_title(f\"Distribution for n={n_absolute} runs\")\n",
    "\n",
    "plt.savefig(\"../docs/rmd/plots/box_test_abs.png\")\n",
    "\n"
   ]
  },
  {
   "cell_type": "code",
   "execution_count": 124,
   "metadata": {},
   "outputs": [],
   "source": [
    "# save mwu results in csv files\n",
    "\n",
    "ALPHA = 0.05\n",
    "PATH = \"../docs/rmd/tables/testing_mwu.csv\"\n",
    "\n",
    "with open(PATH, \"w\") as file:\n",
    "    file.write(\"phase,fitness_function,statistic,p-val,lt_alpha\\n\")\n",
    "    file.write(f\"testing,mse,{fit_test_square_mwu[0]},{fit_test_square_mwu[1]},{fit_test_square_mwu[1] < ALPHA}\\n\")\n",
    "    file.write(f\"testing,mae,{fit_test_abs_mwu[0]},{fit_test_abs_mwu[1]},{fit_test_abs_mwu[1] < ALPHA}\\n\")\n",
    "\n",
    "PATH = \"../docs/rmd/tables/training_mwu.csv\"\n",
    "\n",
    "with open(PATH, \"w\") as file:\n",
    "    file.write(\"phase,fitness_function,statistic,p-val,lt_alpha\\n\")\n",
    "    file.write(f\"training,mse,{fit_train_square_mwu[0]},{fit_train_square_mwu[1]},{fit_train_square_mwu[1] < ALPHA}\\n\")\n",
    "    file.write(f\"training,mae,{fit_train_abs_mwu[0]},{fit_train_abs_mwu[1]},{fit_train_abs_mwu[1] < ALPHA}\\n\")\n",
    "\n",
    "    "
   ]
  }
 ],
 "metadata": {
  "interpreter": {
   "hash": "76ccdc9e1609e02ff543acc18e37045188f863069557f4e8891716419ee222bc"
  },
  "kernelspec": {
   "display_name": "Python 3 (ipykernel)",
   "language": "python",
   "name": "python3"
  },
  "language_info": {
   "codemirror_mode": {
    "name": "ipython",
    "version": 3
   },
   "file_extension": ".py",
   "mimetype": "text/x-python",
   "name": "python",
   "nbconvert_exporter": "python",
   "pygments_lexer": "ipython3",
   "version": "3.10.4"
  }
 },
 "nbformat": 4,
 "nbformat_minor": 2
}
