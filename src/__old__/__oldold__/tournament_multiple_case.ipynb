{
 "cells": [
  {
   "cell_type": "markdown",
   "metadata": {},
   "source": [
    "# Research Experiments on the effect of parent Selection on Generalization for symbolic Regression in GP\n",
    "\n",
    "## Tournament Selection\n",
    "\n",
    "* Masterseminar: SoSe 2022\n",
    "* JGU Mainz\n",
    "* FB 03 Recht-und Wirtschaftswissenschaften\n",
    "* Lehrstuhl für Wirtschaftsinformatik und BWL\n",
    "\n",
    "## Dependencies"
   ]
  },
  {
   "cell_type": "code",
   "execution_count": 1,
   "metadata": {},
   "outputs": [],
   "source": [
    "import numpy as np\n",
    "import pandas as pd\n",
    "import operator\n",
    "from deap import gp, tools, creator, base, algorithms\n",
    "from sklearn.model_selection import train_test_split\n",
    "from typing import Tuple, Dict, Callable\n",
    "import math\n",
    "from random import randint\n"
   ]
  },
  {
   "cell_type": "markdown",
   "metadata": {},
   "source": [
    "## Energy efficiency Data Set\n",
    "\n",
    "Source: https://archive.ics.uci.edu/ml/datasets/energy+efficiency"
   ]
  },
  {
   "cell_type": "code",
   "execution_count": 2,
   "metadata": {},
   "outputs": [],
   "source": [
    "# (re-)download file to ./data\n",
    "\n",
    "# !wget https://archive.ics.uci.edu/ml/machine-learning-databases/00242/ENB2012_data.xlsx -P ./data"
   ]
  },
  {
   "cell_type": "code",
   "execution_count": 3,
   "metadata": {},
   "outputs": [],
   "source": [
    "D_PATH = \"data/ENB2012_data.xlsx\"\n",
    "\n",
    "# TODO: research optimal splitsize!\n",
    "TRAINING_D_SPLITSIZE = 0.5\n",
    "\n",
    "def get_dataSets(datapath: str, train_size: float) -> Tuple[pd.DataFrame, pd.DataFrame]:\n",
    "    \"\"\"Read (excel) dataset at <datapath> and return two randomly split DFs for training/testing\"\"\"\n",
    "    df = pd.read_excel(datapath)\n",
    "    return train_test_split(df, train_size=train_size, test_size=(1-train_size))    \n",
    "\n",
    "trainDF, testDF = get_dataSets(D_PATH, TRAINING_D_SPLITSIZE)"
   ]
  },
  {
   "cell_type": "code",
   "execution_count": 4,
   "metadata": {},
   "outputs": [
    {
     "data": {
      "text/html": [
       "<div>\n",
       "<style scoped>\n",
       "    .dataframe tbody tr th:only-of-type {\n",
       "        vertical-align: middle;\n",
       "    }\n",
       "\n",
       "    .dataframe tbody tr th {\n",
       "        vertical-align: top;\n",
       "    }\n",
       "\n",
       "    .dataframe thead th {\n",
       "        text-align: right;\n",
       "    }\n",
       "</style>\n",
       "<table border=\"1\" class=\"dataframe\">\n",
       "  <thead>\n",
       "    <tr style=\"text-align: right;\">\n",
       "      <th></th>\n",
       "      <th>X1</th>\n",
       "      <th>X2</th>\n",
       "      <th>X3</th>\n",
       "      <th>X4</th>\n",
       "      <th>X5</th>\n",
       "      <th>X6</th>\n",
       "      <th>X7</th>\n",
       "      <th>X8</th>\n",
       "      <th>Y1</th>\n",
       "      <th>Y2</th>\n",
       "    </tr>\n",
       "  </thead>\n",
       "  <tbody>\n",
       "    <tr>\n",
       "      <th>179</th>\n",
       "      <td>0.69</td>\n",
       "      <td>735.0</td>\n",
       "      <td>294.0</td>\n",
       "      <td>220.5</td>\n",
       "      <td>3.5</td>\n",
       "      <td>5</td>\n",
       "      <td>0.10</td>\n",
       "      <td>3</td>\n",
       "      <td>11.14</td>\n",
       "      <td>14.40</td>\n",
       "    </tr>\n",
       "    <tr>\n",
       "      <th>599</th>\n",
       "      <td>0.76</td>\n",
       "      <td>661.5</td>\n",
       "      <td>416.5</td>\n",
       "      <td>122.5</td>\n",
       "      <td>7.0</td>\n",
       "      <td>5</td>\n",
       "      <td>0.40</td>\n",
       "      <td>2</td>\n",
       "      <td>40.42</td>\n",
       "      <td>39.70</td>\n",
       "    </tr>\n",
       "    <tr>\n",
       "      <th>474</th>\n",
       "      <td>0.64</td>\n",
       "      <td>784.0</td>\n",
       "      <td>343.0</td>\n",
       "      <td>220.5</td>\n",
       "      <td>3.5</td>\n",
       "      <td>4</td>\n",
       "      <td>0.25</td>\n",
       "      <td>4</td>\n",
       "      <td>16.56</td>\n",
       "      <td>20.37</td>\n",
       "    </tr>\n",
       "    <tr>\n",
       "      <th>127</th>\n",
       "      <td>0.71</td>\n",
       "      <td>710.5</td>\n",
       "      <td>269.5</td>\n",
       "      <td>220.5</td>\n",
       "      <td>3.5</td>\n",
       "      <td>5</td>\n",
       "      <td>0.10</td>\n",
       "      <td>2</td>\n",
       "      <td>10.68</td>\n",
       "      <td>14.21</td>\n",
       "    </tr>\n",
       "    <tr>\n",
       "      <th>462</th>\n",
       "      <td>0.71</td>\n",
       "      <td>710.5</td>\n",
       "      <td>269.5</td>\n",
       "      <td>220.5</td>\n",
       "      <td>3.5</td>\n",
       "      <td>4</td>\n",
       "      <td>0.25</td>\n",
       "      <td>4</td>\n",
       "      <td>12.17</td>\n",
       "      <td>15.20</td>\n",
       "    </tr>\n",
       "  </tbody>\n",
       "</table>\n",
       "</div>"
      ],
      "text/plain": [
       "       X1     X2     X3     X4   X5  X6    X7  X8     Y1     Y2\n",
       "179  0.69  735.0  294.0  220.5  3.5   5  0.10   3  11.14  14.40\n",
       "599  0.76  661.5  416.5  122.5  7.0   5  0.40   2  40.42  39.70\n",
       "474  0.64  784.0  343.0  220.5  3.5   4  0.25   4  16.56  20.37\n",
       "127  0.71  710.5  269.5  220.5  3.5   5  0.10   2  10.68  14.21\n",
       "462  0.71  710.5  269.5  220.5  3.5   4  0.25   4  12.17  15.20"
      ]
     },
     "execution_count": 4,
     "metadata": {},
     "output_type": "execute_result"
    }
   ],
   "source": [
    "trainDF.head()"
   ]
  },
  {
   "cell_type": "code",
   "execution_count": 5,
   "metadata": {},
   "outputs": [
    {
     "data": {
      "text/html": [
       "<div>\n",
       "<style scoped>\n",
       "    .dataframe tbody tr th:only-of-type {\n",
       "        vertical-align: middle;\n",
       "    }\n",
       "\n",
       "    .dataframe tbody tr th {\n",
       "        vertical-align: top;\n",
       "    }\n",
       "\n",
       "    .dataframe thead th {\n",
       "        text-align: right;\n",
       "    }\n",
       "</style>\n",
       "<table border=\"1\" class=\"dataframe\">\n",
       "  <thead>\n",
       "    <tr style=\"text-align: right;\">\n",
       "      <th></th>\n",
       "      <th>X1</th>\n",
       "      <th>X2</th>\n",
       "      <th>X3</th>\n",
       "      <th>X4</th>\n",
       "      <th>X5</th>\n",
       "      <th>X6</th>\n",
       "      <th>X7</th>\n",
       "      <th>X8</th>\n",
       "      <th>Y1</th>\n",
       "      <th>Y2</th>\n",
       "    </tr>\n",
       "  </thead>\n",
       "  <tbody>\n",
       "    <tr>\n",
       "      <th>count</th>\n",
       "      <td>384.000000</td>\n",
       "      <td>384.000000</td>\n",
       "      <td>384.000000</td>\n",
       "      <td>384.000000</td>\n",
       "      <td>384.000000</td>\n",
       "      <td>384.000000</td>\n",
       "      <td>384.000000</td>\n",
       "      <td>384.000000</td>\n",
       "      <td>384.000000</td>\n",
       "      <td>384.000000</td>\n",
       "    </tr>\n",
       "    <tr>\n",
       "      <th>mean</th>\n",
       "      <td>0.760000</td>\n",
       "      <td>675.153646</td>\n",
       "      <td>318.053385</td>\n",
       "      <td>178.550130</td>\n",
       "      <td>5.186198</td>\n",
       "      <td>3.473958</td>\n",
       "      <td>0.235677</td>\n",
       "      <td>2.783854</td>\n",
       "      <td>22.104557</td>\n",
       "      <td>24.329974</td>\n",
       "    </tr>\n",
       "    <tr>\n",
       "      <th>std</th>\n",
       "      <td>0.104444</td>\n",
       "      <td>87.424162</td>\n",
       "      <td>44.347228</td>\n",
       "      <td>44.788201</td>\n",
       "      <td>1.751118</td>\n",
       "      <td>1.109818</td>\n",
       "      <td>0.136883</td>\n",
       "      <td>1.564171</td>\n",
       "      <td>10.042611</td>\n",
       "      <td>9.453585</td>\n",
       "    </tr>\n",
       "    <tr>\n",
       "      <th>min</th>\n",
       "      <td>0.620000</td>\n",
       "      <td>514.500000</td>\n",
       "      <td>245.000000</td>\n",
       "      <td>110.250000</td>\n",
       "      <td>3.500000</td>\n",
       "      <td>2.000000</td>\n",
       "      <td>0.000000</td>\n",
       "      <td>0.000000</td>\n",
       "      <td>6.010000</td>\n",
       "      <td>10.900000</td>\n",
       "    </tr>\n",
       "    <tr>\n",
       "      <th>25%</th>\n",
       "      <td>0.660000</td>\n",
       "      <td>612.500000</td>\n",
       "      <td>294.000000</td>\n",
       "      <td>147.000000</td>\n",
       "      <td>3.500000</td>\n",
       "      <td>2.750000</td>\n",
       "      <td>0.100000</td>\n",
       "      <td>1.750000</td>\n",
       "      <td>12.950000</td>\n",
       "      <td>15.567500</td>\n",
       "    </tr>\n",
       "    <tr>\n",
       "      <th>50%</th>\n",
       "      <td>0.740000</td>\n",
       "      <td>686.000000</td>\n",
       "      <td>318.500000</td>\n",
       "      <td>220.500000</td>\n",
       "      <td>3.500000</td>\n",
       "      <td>3.000000</td>\n",
       "      <td>0.250000</td>\n",
       "      <td>3.000000</td>\n",
       "      <td>18.175000</td>\n",
       "      <td>21.365000</td>\n",
       "    </tr>\n",
       "    <tr>\n",
       "      <th>75%</th>\n",
       "      <td>0.820000</td>\n",
       "      <td>759.500000</td>\n",
       "      <td>343.000000</td>\n",
       "      <td>220.500000</td>\n",
       "      <td>7.000000</td>\n",
       "      <td>4.000000</td>\n",
       "      <td>0.400000</td>\n",
       "      <td>4.000000</td>\n",
       "      <td>31.652500</td>\n",
       "      <td>32.842500</td>\n",
       "    </tr>\n",
       "    <tr>\n",
       "      <th>max</th>\n",
       "      <td>0.980000</td>\n",
       "      <td>808.500000</td>\n",
       "      <td>416.500000</td>\n",
       "      <td>220.500000</td>\n",
       "      <td>7.000000</td>\n",
       "      <td>5.000000</td>\n",
       "      <td>0.400000</td>\n",
       "      <td>5.000000</td>\n",
       "      <td>43.100000</td>\n",
       "      <td>48.030000</td>\n",
       "    </tr>\n",
       "  </tbody>\n",
       "</table>\n",
       "</div>"
      ],
      "text/plain": [
       "               X1          X2          X3          X4          X5          X6  \\\n",
       "count  384.000000  384.000000  384.000000  384.000000  384.000000  384.000000   \n",
       "mean     0.760000  675.153646  318.053385  178.550130    5.186198    3.473958   \n",
       "std      0.104444   87.424162   44.347228   44.788201    1.751118    1.109818   \n",
       "min      0.620000  514.500000  245.000000  110.250000    3.500000    2.000000   \n",
       "25%      0.660000  612.500000  294.000000  147.000000    3.500000    2.750000   \n",
       "50%      0.740000  686.000000  318.500000  220.500000    3.500000    3.000000   \n",
       "75%      0.820000  759.500000  343.000000  220.500000    7.000000    4.000000   \n",
       "max      0.980000  808.500000  416.500000  220.500000    7.000000    5.000000   \n",
       "\n",
       "               X7          X8          Y1          Y2  \n",
       "count  384.000000  384.000000  384.000000  384.000000  \n",
       "mean     0.235677    2.783854   22.104557   24.329974  \n",
       "std      0.136883    1.564171   10.042611    9.453585  \n",
       "min      0.000000    0.000000    6.010000   10.900000  \n",
       "25%      0.100000    1.750000   12.950000   15.567500  \n",
       "50%      0.250000    3.000000   18.175000   21.365000  \n",
       "75%      0.400000    4.000000   31.652500   32.842500  \n",
       "max      0.400000    5.000000   43.100000   48.030000  "
      ]
     },
     "execution_count": 5,
     "metadata": {},
     "output_type": "execute_result"
    }
   ],
   "source": [
    "trainDF.describe()"
   ]
  },
  {
   "cell_type": "markdown",
   "metadata": {},
   "source": [
    "## Data Visualization"
   ]
  },
  {
   "cell_type": "code",
   "execution_count": 6,
   "metadata": {},
   "outputs": [],
   "source": [
    "from matplotlib import pyplot as plt\n",
    "import networkx as nx\n",
    "import pygraphviz as pgv\n",
    "\n",
    "%matplotlib inline\n",
    "\n",
    "def plot_exprTree(expr_tree, title:str) -> None:\n",
    "    \"\"\"plots an expression tree\"\"\"\n",
    "    nodes, edges, labels = gp.graph(expr_tree)\n",
    "\n",
    "    g = nx.Graph()\n",
    "    g.add_nodes_from(nodes)\n",
    "    g.add_edges_from(edges)\n",
    "    \n",
    "    pos = nx.drawing.nx_agraph.graphviz_layout(g, prog=\"dot\")\n",
    "\n",
    "    nx.draw_networkx_nodes(g, pos)\n",
    "    nx.draw_networkx_edges(g, pos)\n",
    "    nx.draw_networkx_labels(g, pos, labels)\n",
    "\n",
    "    plt.title(title)\n",
    "    plt.show()"
   ]
  },
  {
   "cell_type": "markdown",
   "metadata": {},
   "source": [
    "## GP System Setup"
   ]
  },
  {
   "cell_type": "markdown",
   "metadata": {},
   "source": [
    "### Primitive set"
   ]
  },
  {
   "cell_type": "code",
   "execution_count": 7,
   "metadata": {},
   "outputs": [],
   "source": [
    "UVS = {\n",
    "    \"ARG0\" : \"X1\",\n",
    "    \"ARG1\" : \"X2\",\n",
    "    \"ARG2\" : \"X3\",\n",
    "    \"ARG3\" : \"X4\",\n",
    "    \"ARG4\" : \"X5\",\n",
    "    \"ARG5\" : \"X6\",\n",
    "    \"ARG6\" : \"X7\",\n",
    "    \"ARG7\" : \"X8\",\n",
    "}\n",
    "\n",
    "# register the Primitive Set\n",
    "pset = gp.PrimitiveSet(\"MAIN\", arity=len(UVS))\n",
    "\n",
    "# rename ARGS to match the dataset\n",
    "for arg, des in UVS.items():\n",
    "    pset.renameArguments(arg=des)\n"
   ]
  },
  {
   "cell_type": "code",
   "execution_count": 8,
   "metadata": {},
   "outputs": [],
   "source": [
    "# adding functions\n",
    "\n",
    "def saveDiv(lhs, rhs) -> float:\n",
    "    \"\"\"\n",
    "    GP-save implementation of Division\n",
    "    [@poli08:fieldguide, p.22]\n",
    "    \"\"\"\n",
    "    if rhs == 0:\n",
    "        return 1\n",
    "    return lhs / rhs\n",
    "\n",
    "\n",
    "operators = (\n",
    "    (operator.add, 2),\n",
    "    (operator.sub, 2),\n",
    "    (operator.mul, 2),\n",
    "    (saveDiv, 2),\n",
    "    (math.sin, 1),\n",
    "    (math.cos, 1),\n",
    "    # FIXME: (math.exp, 1),\n",
    "    # FIXME: (math.log, 1),\n",
    "    (operator.neg, 1)\n",
    ")\n",
    "\n",
    "for (func, arity) in operators:\n",
    "    pset.addPrimitive(func, arity)\n",
    "\n",
    "pset.addEphemeralConstant(\"rand1\", lambda: randint(-1,1))"
   ]
  },
  {
   "cell_type": "markdown",
   "metadata": {},
   "source": [
    "### Custom Types"
   ]
  },
  {
   "cell_type": "code",
   "execution_count": 9,
   "metadata": {},
   "outputs": [],
   "source": [
    "# min fitness object\n",
    "\n",
    "# objective: minimize MAD for y1\n",
    "\n",
    "creator.create(\"FitnessMin\", base.Fitness, weights=(-1.0,))\n"
   ]
  },
  {
   "cell_type": "code",
   "execution_count": 10,
   "metadata": {},
   "outputs": [],
   "source": [
    "# individuals program\n",
    "creator.create(\"Individual\", gp.PrimitiveTree, fitness=creator.FitnessMin)"
   ]
  },
  {
   "cell_type": "markdown",
   "metadata": {},
   "source": [
    "## GP SPecs"
   ]
  },
  {
   "cell_type": "code",
   "execution_count": 11,
   "metadata": {},
   "outputs": [],
   "source": [
    "# TODO: research alternatives\n",
    "\n",
    "toolbox = base.Toolbox()\n",
    "toolbox.register(\"expr\", gp.genHalfAndHalf, pset=pset, min_=1, max_=2)\n",
    "toolbox.register(\"individual\", tools.initIterate, creator.Individual, toolbox.expr)\n",
    "toolbox.register(\"population\", tools.initRepeat, list, toolbox.individual)\n",
    "toolbox.register(\"compile\", gp.compile, pset=pset)"
   ]
  },
  {
   "cell_type": "code",
   "execution_count": 12,
   "metadata": {},
   "outputs": [],
   "source": [
    "# fitness function for all fitness case:\n",
    "def evaluate_df_y1_symReg (individual:creator.Individual, df:pd.core.frame.DataFrame) -> tuple[float]:\n",
    "    \"\"\"\n",
    "    Evaluates an individual program for all fitness cases (=rows of pd.dataframe) inside the dataframe, computes and returns the mean absolute error for prediction and outcome for y1 and model prediction\n",
    "    \"\"\"\n",
    "    # Transform the tree expression in a callable function\n",
    "    compiled_individual = toolbox.compile(expr=individual)\n",
    "\n",
    "    def evaluate_single_case_y1_symReg(func:Callable, case:pd.core.series.Series) -> float:\n",
    "        \"\"\"\n",
    "        Evaluates an individual, compiled program for a single fitness case (=row of pd.dataframe), computes and returns the absolute error for prediction and outcome for y1 and model prediction\n",
    "        \"\"\"\n",
    "        # compute individual with case variables\n",
    "        y1_prediction = func(*case[0:8:].values)\n",
    "\n",
    "        # optimal value:\n",
    "        y1_value = case[8:9:].values[0]\n",
    "\n",
    "        # compute absolute difference and return\n",
    "        abs_error = abs(y1_prediction - y1_value)\n",
    "        return (abs_error)\n",
    "    \n",
    "    n = len(df)\n",
    "    abs_error_aggregate = 0.0\n",
    "\n",
    "    # iterate through all fitness cases and aggregate absolute errors\n",
    "    for _, fitness_case in df.iterrows():\n",
    "        abs_error_aggregate += evaluate_single_case_y1_symReg(func=compiled_individual, case=fitness_case)\n",
    "    \n",
    "    # compute and return MAE\n",
    "    mean_absolute_error = abs_error_aggregate / n\n",
    "    return (mean_absolute_error, )\n"
   ]
  },
  {
   "cell_type": "code",
   "execution_count": 13,
   "metadata": {},
   "outputs": [],
   "source": [
    "# GP system setup\n",
    "\n",
    "toolbox.register(\"evaluate\", evaluate_df_y1_symReg, df=trainDF)\n",
    "\n",
    "# registration:\n",
    "toolbox.register(\"select\", tools.selTournament, tournsize=3)\n",
    "toolbox.register(\"mate\", gp.cxOnePoint)\n",
    "toolbox.register(\"expr_mut\", gp.genFull, min_=0, max_=2)\n",
    "toolbox.register(\"mutate\", gp.mutUniform, expr=toolbox.expr_mut, pset=pset)\n",
    "\n",
    "# decoration:\n",
    "toolbox.decorate(\"mate\", gp.staticLimit(key=operator.attrgetter(\"height\"), max_value=17))\n",
    "toolbox.decorate(\"mutate\", gp.staticLimit(key=operator.attrgetter(\"height\"), max_value=17))"
   ]
  },
  {
   "cell_type": "markdown",
   "metadata": {},
   "source": [
    "## Statistics"
   ]
  },
  {
   "cell_type": "code",
   "execution_count": 14,
   "metadata": {},
   "outputs": [],
   "source": [
    "stats_fit = tools.Statistics(lambda ind: ind.fitness.values)\n",
    "stats_size = tools.Statistics(len)\n",
    "mstats = tools.MultiStatistics(fitness=stats_fit, size=stats_size)\n",
    "mstats.register(\"avg\", np.mean)\n",
    "mstats.register(\"std\", np.std)\n",
    "mstats.register(\"min\", np.min)\n",
    "mstats.register(\"max\", np.max)"
   ]
  },
  {
   "cell_type": "code",
   "execution_count": 15,
   "metadata": {},
   "outputs": [
    {
     "name": "stdout",
     "output_type": "stream",
     "text": [
      "   \t      \t                    fitness                    \t                      size                     \n",
      "   \t      \t-----------------------------------------------\t-----------------------------------------------\n",
      "gen\tnevals\tavg    \tgen\tmax   \tmin    \tnevals\tstd    \tavg    \tgen\tmax\tmin\tnevals\tstd    \n",
      "0  \t300   \t2952.93\t0  \t465823\t6.89867\t300   \t28644.9\t3.48667\t0  \t7  \t2  \t300   \t1.51542\n",
      "1  \t169   \t85.2108\t1  \t8747.41\t6.89867\t169   \t532.146\t3.41   \t1  \t10 \t1  \t169   \t1.45209\n",
      "2  \t170   \t67.0706\t2  \t3462.67\t6.89867\t170   \t279.078\t3.68333\t2  \t13 \t1  \t170   \t1.73678\n",
      "3  \t166   \t130.196\t3  \t17575.5\t6.65289\t166   \t1072.51\t4.05667\t3  \t17 \t1  \t166   \t1.93222\n",
      "4  \t182   \t56.0418\t4  \t2014.95\t6.65289\t182   \t236.232\t3.98667\t4  \t17 \t1  \t182   \t1.77571\n",
      "5  \t164   \t239.421\t5  \t57325.7\t6.06753\t164   \t3321.62\t3.74333\t5  \t12 \t1  \t164   \t1.60545\n",
      "6  \t162   \t36.9664\t6  \t1723.51\t6.03665\t162   \t176.194\t3.80333\t6  \t10 \t1  \t162   \t1.48705\n"
     ]
    },
    {
     "ename": "KeyboardInterrupt",
     "evalue": "",
     "output_type": "error",
     "traceback": [
      "\u001b[0;31m---------------------------------------------------------------------------\u001b[0m",
      "\u001b[0;31mKeyboardInterrupt\u001b[0m                         Traceback (most recent call last)",
      "\u001b[1;32m/home/rmn/repos/geneticProgramming/seminar/src/tournament_multiple_case.ipynb Cell 23'\u001b[0m in \u001b[0;36m<cell line: 3>\u001b[0;34m()\u001b[0m\n\u001b[1;32m      <a href='vscode-notebook-cell:/home/rmn/repos/geneticProgramming/seminar/src/tournament_multiple_case.ipynb#ch0000022?line=0'>1</a>\u001b[0m pop \u001b[39m=\u001b[39m toolbox\u001b[39m.\u001b[39mpopulation(n\u001b[39m=\u001b[39m\u001b[39m300\u001b[39m)\n\u001b[1;32m      <a href='vscode-notebook-cell:/home/rmn/repos/geneticProgramming/seminar/src/tournament_multiple_case.ipynb#ch0000022?line=1'>2</a>\u001b[0m hof \u001b[39m=\u001b[39m tools\u001b[39m.\u001b[39mHallOfFame(\u001b[39m1\u001b[39m)\n\u001b[0;32m----> <a href='vscode-notebook-cell:/home/rmn/repos/geneticProgramming/seminar/src/tournament_multiple_case.ipynb#ch0000022?line=2'>3</a>\u001b[0m pop, log \u001b[39m=\u001b[39m algorithms\u001b[39m.\u001b[39;49meaSimple(pop, toolbox, \u001b[39m0.5\u001b[39;49m, \u001b[39m0.1\u001b[39;49m, \u001b[39m40\u001b[39;49m, stats\u001b[39m=\u001b[39;49mmstats, halloffame\u001b[39m=\u001b[39;49mhof, verbose\u001b[39m=\u001b[39;49m\u001b[39mTrue\u001b[39;49;00m)\n",
      "File \u001b[0;32m~/miniconda3/envs/gp_env_ubuntu/lib/python3.9/site-packages/deap/algorithms.py:173\u001b[0m, in \u001b[0;36meaSimple\u001b[0;34m(population, toolbox, cxpb, mutpb, ngen, stats, halloffame, verbose)\u001b[0m\n\u001b[1;32m    <a href='file:///home/rmn/miniconda3/envs/gp_env_ubuntu/lib/python3.9/site-packages/deap/algorithms.py?line=170'>171</a>\u001b[0m invalid_ind \u001b[39m=\u001b[39m [ind \u001b[39mfor\u001b[39;00m ind \u001b[39min\u001b[39;00m offspring \u001b[39mif\u001b[39;00m \u001b[39mnot\u001b[39;00m ind\u001b[39m.\u001b[39mfitness\u001b[39m.\u001b[39mvalid]\n\u001b[1;32m    <a href='file:///home/rmn/miniconda3/envs/gp_env_ubuntu/lib/python3.9/site-packages/deap/algorithms.py?line=171'>172</a>\u001b[0m fitnesses \u001b[39m=\u001b[39m toolbox\u001b[39m.\u001b[39mmap(toolbox\u001b[39m.\u001b[39mevaluate, invalid_ind)\n\u001b[0;32m--> <a href='file:///home/rmn/miniconda3/envs/gp_env_ubuntu/lib/python3.9/site-packages/deap/algorithms.py?line=172'>173</a>\u001b[0m \u001b[39mfor\u001b[39;00m ind, fit \u001b[39min\u001b[39;00m \u001b[39mzip\u001b[39m(invalid_ind, fitnesses):\n\u001b[1;32m    <a href='file:///home/rmn/miniconda3/envs/gp_env_ubuntu/lib/python3.9/site-packages/deap/algorithms.py?line=173'>174</a>\u001b[0m     ind\u001b[39m.\u001b[39mfitness\u001b[39m.\u001b[39mvalues \u001b[39m=\u001b[39m fit\n\u001b[1;32m    <a href='file:///home/rmn/miniconda3/envs/gp_env_ubuntu/lib/python3.9/site-packages/deap/algorithms.py?line=175'>176</a>\u001b[0m \u001b[39m# Update the hall of fame with the generated individuals\u001b[39;00m\n",
      "\u001b[1;32m/home/rmn/repos/geneticProgramming/seminar/src/tournament_multiple_case.ipynb Cell 19'\u001b[0m in \u001b[0;36mevaluate_df_y1_symReg\u001b[0;34m(individual, df)\u001b[0m\n\u001b[1;32m     <a href='vscode-notebook-cell:/home/rmn/repos/geneticProgramming/seminar/src/tournament_multiple_case.ipynb#ch0000018?line=25'>26</a>\u001b[0m \u001b[39m# iterate through all fitness cases and aggregate absolute errors\u001b[39;00m\n\u001b[1;32m     <a href='vscode-notebook-cell:/home/rmn/repos/geneticProgramming/seminar/src/tournament_multiple_case.ipynb#ch0000018?line=26'>27</a>\u001b[0m \u001b[39mfor\u001b[39;00m _, fitness_case \u001b[39min\u001b[39;00m df\u001b[39m.\u001b[39miterrows():\n\u001b[0;32m---> <a href='vscode-notebook-cell:/home/rmn/repos/geneticProgramming/seminar/src/tournament_multiple_case.ipynb#ch0000018?line=27'>28</a>\u001b[0m     abs_error_aggregate \u001b[39m+\u001b[39m\u001b[39m=\u001b[39m evaluate_single_case_y1_symReg(func\u001b[39m=\u001b[39;49mcompiled_individual, case\u001b[39m=\u001b[39;49mfitness_case)\n\u001b[1;32m     <a href='vscode-notebook-cell:/home/rmn/repos/geneticProgramming/seminar/src/tournament_multiple_case.ipynb#ch0000018?line=29'>30</a>\u001b[0m \u001b[39m# compute and return MAE\u001b[39;00m\n\u001b[1;32m     <a href='vscode-notebook-cell:/home/rmn/repos/geneticProgramming/seminar/src/tournament_multiple_case.ipynb#ch0000018?line=30'>31</a>\u001b[0m mean_absolute_error \u001b[39m=\u001b[39m abs_error_aggregate \u001b[39m/\u001b[39m n\n",
      "\u001b[1;32m/home/rmn/repos/geneticProgramming/seminar/src/tournament_multiple_case.ipynb Cell 19'\u001b[0m in \u001b[0;36mevaluate_df_y1_symReg.<locals>.evaluate_single_case_y1_symReg\u001b[0;34m(func, case)\u001b[0m\n\u001b[1;32m     <a href='vscode-notebook-cell:/home/rmn/repos/geneticProgramming/seminar/src/tournament_multiple_case.ipynb#ch0000018?line=13'>14</a>\u001b[0m y1_prediction \u001b[39m=\u001b[39m func(\u001b[39m*\u001b[39mcase[\u001b[39m0\u001b[39m:\u001b[39m8\u001b[39m:]\u001b[39m.\u001b[39mvalues)\n\u001b[1;32m     <a href='vscode-notebook-cell:/home/rmn/repos/geneticProgramming/seminar/src/tournament_multiple_case.ipynb#ch0000018?line=15'>16</a>\u001b[0m \u001b[39m# optimal value:\u001b[39;00m\n\u001b[0;32m---> <a href='vscode-notebook-cell:/home/rmn/repos/geneticProgramming/seminar/src/tournament_multiple_case.ipynb#ch0000018?line=16'>17</a>\u001b[0m y1_value \u001b[39m=\u001b[39m case[\u001b[39m8\u001b[39;49m:\u001b[39m9\u001b[39;49m:]\u001b[39m.\u001b[39mvalues[\u001b[39m0\u001b[39m]\n\u001b[1;32m     <a href='vscode-notebook-cell:/home/rmn/repos/geneticProgramming/seminar/src/tournament_multiple_case.ipynb#ch0000018?line=18'>19</a>\u001b[0m \u001b[39m# compute absolute difference and return\u001b[39;00m\n\u001b[1;32m     <a href='vscode-notebook-cell:/home/rmn/repos/geneticProgramming/seminar/src/tournament_multiple_case.ipynb#ch0000018?line=19'>20</a>\u001b[0m abs_error \u001b[39m=\u001b[39m \u001b[39mabs\u001b[39m(y1_prediction \u001b[39m-\u001b[39m y1_value)\n",
      "File \u001b[0;32m~/miniconda3/envs/gp_env_ubuntu/lib/python3.9/site-packages/pandas/core/series.py:984\u001b[0m, in \u001b[0;36mSeries.__getitem__\u001b[0;34m(self, key)\u001b[0m\n\u001b[1;32m    <a href='file:///home/rmn/miniconda3/envs/gp_env_ubuntu/lib/python3.9/site-packages/pandas/core/series.py?line=980'>981</a>\u001b[0m     key \u001b[39m=\u001b[39m np\u001b[39m.\u001b[39masarray(key, dtype\u001b[39m=\u001b[39m\u001b[39mbool\u001b[39m)\n\u001b[1;32m    <a href='file:///home/rmn/miniconda3/envs/gp_env_ubuntu/lib/python3.9/site-packages/pandas/core/series.py?line=981'>982</a>\u001b[0m     \u001b[39mreturn\u001b[39;00m \u001b[39mself\u001b[39m\u001b[39m.\u001b[39m_get_values(key)\n\u001b[0;32m--> <a href='file:///home/rmn/miniconda3/envs/gp_env_ubuntu/lib/python3.9/site-packages/pandas/core/series.py?line=983'>984</a>\u001b[0m \u001b[39mreturn\u001b[39;00m \u001b[39mself\u001b[39;49m\u001b[39m.\u001b[39;49m_get_with(key)\n",
      "File \u001b[0;32m~/miniconda3/envs/gp_env_ubuntu/lib/python3.9/site-packages/pandas/core/series.py:992\u001b[0m, in \u001b[0;36mSeries._get_with\u001b[0;34m(self, key)\u001b[0m\n\u001b[1;32m    <a href='file:///home/rmn/miniconda3/envs/gp_env_ubuntu/lib/python3.9/site-packages/pandas/core/series.py?line=987'>988</a>\u001b[0m \u001b[39mif\u001b[39;00m \u001b[39misinstance\u001b[39m(key, \u001b[39mslice\u001b[39m):\n\u001b[1;32m    <a href='file:///home/rmn/miniconda3/envs/gp_env_ubuntu/lib/python3.9/site-packages/pandas/core/series.py?line=988'>989</a>\u001b[0m     \u001b[39m# _convert_slice_indexer to determine if this slice is positional\u001b[39;00m\n\u001b[1;32m    <a href='file:///home/rmn/miniconda3/envs/gp_env_ubuntu/lib/python3.9/site-packages/pandas/core/series.py?line=989'>990</a>\u001b[0m     \u001b[39m#  or label based, and if the latter, convert to positional\u001b[39;00m\n\u001b[1;32m    <a href='file:///home/rmn/miniconda3/envs/gp_env_ubuntu/lib/python3.9/site-packages/pandas/core/series.py?line=990'>991</a>\u001b[0m     slobj \u001b[39m=\u001b[39m \u001b[39mself\u001b[39m\u001b[39m.\u001b[39mindex\u001b[39m.\u001b[39m_convert_slice_indexer(key, kind\u001b[39m=\u001b[39m\u001b[39m\"\u001b[39m\u001b[39mgetitem\u001b[39m\u001b[39m\"\u001b[39m)\n\u001b[0;32m--> <a href='file:///home/rmn/miniconda3/envs/gp_env_ubuntu/lib/python3.9/site-packages/pandas/core/series.py?line=991'>992</a>\u001b[0m     \u001b[39mreturn\u001b[39;00m \u001b[39mself\u001b[39;49m\u001b[39m.\u001b[39;49m_slice(slobj)\n\u001b[1;32m    <a href='file:///home/rmn/miniconda3/envs/gp_env_ubuntu/lib/python3.9/site-packages/pandas/core/series.py?line=992'>993</a>\u001b[0m \u001b[39melif\u001b[39;00m \u001b[39misinstance\u001b[39m(key, ABCDataFrame):\n\u001b[1;32m    <a href='file:///home/rmn/miniconda3/envs/gp_env_ubuntu/lib/python3.9/site-packages/pandas/core/series.py?line=993'>994</a>\u001b[0m     \u001b[39mraise\u001b[39;00m \u001b[39mTypeError\u001b[39;00m(\n\u001b[1;32m    <a href='file:///home/rmn/miniconda3/envs/gp_env_ubuntu/lib/python3.9/site-packages/pandas/core/series.py?line=994'>995</a>\u001b[0m         \u001b[39m\"\u001b[39m\u001b[39mIndexing a Series with DataFrame is not \u001b[39m\u001b[39m\"\u001b[39m\n\u001b[1;32m    <a href='file:///home/rmn/miniconda3/envs/gp_env_ubuntu/lib/python3.9/site-packages/pandas/core/series.py?line=995'>996</a>\u001b[0m         \u001b[39m\"\u001b[39m\u001b[39msupported, use the appropriate DataFrame column\u001b[39m\u001b[39m\"\u001b[39m\n\u001b[1;32m    <a href='file:///home/rmn/miniconda3/envs/gp_env_ubuntu/lib/python3.9/site-packages/pandas/core/series.py?line=996'>997</a>\u001b[0m     )\n",
      "File \u001b[0;32m~/miniconda3/envs/gp_env_ubuntu/lib/python3.9/site-packages/pandas/core/series.py:941\u001b[0m, in \u001b[0;36mSeries._slice\u001b[0;34m(self, slobj, axis)\u001b[0m\n\u001b[1;32m    <a href='file:///home/rmn/miniconda3/envs/gp_env_ubuntu/lib/python3.9/site-packages/pandas/core/series.py?line=937'>938</a>\u001b[0m \u001b[39mdef\u001b[39;00m \u001b[39m_slice\u001b[39m(\u001b[39mself\u001b[39m, slobj: \u001b[39mslice\u001b[39m, axis: \u001b[39mint\u001b[39m \u001b[39m=\u001b[39m \u001b[39m0\u001b[39m) \u001b[39m-\u001b[39m\u001b[39m>\u001b[39m Series:\n\u001b[1;32m    <a href='file:///home/rmn/miniconda3/envs/gp_env_ubuntu/lib/python3.9/site-packages/pandas/core/series.py?line=938'>939</a>\u001b[0m     \u001b[39m# axis kwarg is retained for compat with NDFrame method\u001b[39;00m\n\u001b[1;32m    <a href='file:///home/rmn/miniconda3/envs/gp_env_ubuntu/lib/python3.9/site-packages/pandas/core/series.py?line=939'>940</a>\u001b[0m     \u001b[39m#  _slice is *always* positional\u001b[39;00m\n\u001b[0;32m--> <a href='file:///home/rmn/miniconda3/envs/gp_env_ubuntu/lib/python3.9/site-packages/pandas/core/series.py?line=940'>941</a>\u001b[0m     \u001b[39mreturn\u001b[39;00m \u001b[39mself\u001b[39;49m\u001b[39m.\u001b[39;49m_get_values(slobj)\n",
      "File \u001b[0;32m~/miniconda3/envs/gp_env_ubuntu/lib/python3.9/site-packages/pandas/core/series.py:1045\u001b[0m, in \u001b[0;36mSeries._get_values\u001b[0;34m(self, indexer)\u001b[0m\n\u001b[1;32m   <a href='file:///home/rmn/miniconda3/envs/gp_env_ubuntu/lib/python3.9/site-packages/pandas/core/series.py?line=1042'>1043</a>\u001b[0m \u001b[39mtry\u001b[39;00m:\n\u001b[1;32m   <a href='file:///home/rmn/miniconda3/envs/gp_env_ubuntu/lib/python3.9/site-packages/pandas/core/series.py?line=1043'>1044</a>\u001b[0m     new_mgr \u001b[39m=\u001b[39m \u001b[39mself\u001b[39m\u001b[39m.\u001b[39m_mgr\u001b[39m.\u001b[39mgetitem_mgr(indexer)\n\u001b[0;32m-> <a href='file:///home/rmn/miniconda3/envs/gp_env_ubuntu/lib/python3.9/site-packages/pandas/core/series.py?line=1044'>1045</a>\u001b[0m     \u001b[39mreturn\u001b[39;00m \u001b[39mself\u001b[39;49m\u001b[39m.\u001b[39;49m_constructor(new_mgr)\u001b[39m.\u001b[39m__finalize__(\u001b[39mself\u001b[39m)\n\u001b[1;32m   <a href='file:///home/rmn/miniconda3/envs/gp_env_ubuntu/lib/python3.9/site-packages/pandas/core/series.py?line=1045'>1046</a>\u001b[0m \u001b[39mexcept\u001b[39;00m \u001b[39mValueError\u001b[39;00m:\n\u001b[1;32m   <a href='file:///home/rmn/miniconda3/envs/gp_env_ubuntu/lib/python3.9/site-packages/pandas/core/series.py?line=1046'>1047</a>\u001b[0m     \u001b[39m# mpl compat if we look up e.g. ser[:, np.newaxis];\u001b[39;00m\n\u001b[1;32m   <a href='file:///home/rmn/miniconda3/envs/gp_env_ubuntu/lib/python3.9/site-packages/pandas/core/series.py?line=1047'>1048</a>\u001b[0m     \u001b[39m#  see tests.series.timeseries.test_mpl_compat_hack\u001b[39;00m\n\u001b[1;32m   <a href='file:///home/rmn/miniconda3/envs/gp_env_ubuntu/lib/python3.9/site-packages/pandas/core/series.py?line=1048'>1049</a>\u001b[0m     \u001b[39m# the asarray is needed to avoid returning a 2D DatetimeArray\u001b[39;00m\n\u001b[1;32m   <a href='file:///home/rmn/miniconda3/envs/gp_env_ubuntu/lib/python3.9/site-packages/pandas/core/series.py?line=1049'>1050</a>\u001b[0m     \u001b[39mreturn\u001b[39;00m np\u001b[39m.\u001b[39masarray(\u001b[39mself\u001b[39m\u001b[39m.\u001b[39m_values[indexer])\n",
      "File \u001b[0;32m~/miniconda3/envs/gp_env_ubuntu/lib/python3.9/site-packages/pandas/core/series.py:345\u001b[0m, in \u001b[0;36mSeries.__init__\u001b[0;34m(self, data, index, dtype, name, copy, fastpath)\u001b[0m\n\u001b[1;32m    <a href='file:///home/rmn/miniconda3/envs/gp_env_ubuntu/lib/python3.9/site-packages/pandas/core/series.py?line=342'>343</a>\u001b[0m         \u001b[39mobject\u001b[39m\u001b[39m.\u001b[39m\u001b[39m__setattr__\u001b[39m(\u001b[39mself\u001b[39m, \u001b[39m\"\u001b[39m\u001b[39m_name\u001b[39m\u001b[39m\"\u001b[39m, name)\n\u001b[1;32m    <a href='file:///home/rmn/miniconda3/envs/gp_env_ubuntu/lib/python3.9/site-packages/pandas/core/series.py?line=343'>344</a>\u001b[0m     \u001b[39melse\u001b[39;00m:\n\u001b[0;32m--> <a href='file:///home/rmn/miniconda3/envs/gp_env_ubuntu/lib/python3.9/site-packages/pandas/core/series.py?line=344'>345</a>\u001b[0m         \u001b[39mself\u001b[39m\u001b[39m.\u001b[39mname \u001b[39m=\u001b[39m name\n\u001b[1;32m    <a href='file:///home/rmn/miniconda3/envs/gp_env_ubuntu/lib/python3.9/site-packages/pandas/core/series.py?line=345'>346</a>\u001b[0m     \u001b[39mreturn\u001b[39;00m\n\u001b[1;32m    <a href='file:///home/rmn/miniconda3/envs/gp_env_ubuntu/lib/python3.9/site-packages/pandas/core/series.py?line=347'>348</a>\u001b[0m \u001b[39m# we are called internally, so short-circuit\u001b[39;00m\n",
      "File \u001b[0;32m~/miniconda3/envs/gp_env_ubuntu/lib/python3.9/site-packages/pandas/core/generic.py:5597\u001b[0m, in \u001b[0;36mNDFrame.__setattr__\u001b[0;34m(self, name, value)\u001b[0m\n\u001b[1;32m   <a href='file:///home/rmn/miniconda3/envs/gp_env_ubuntu/lib/python3.9/site-packages/pandas/core/generic.py?line=5594'>5595</a>\u001b[0m     \u001b[39mobject\u001b[39m\u001b[39m.\u001b[39m\u001b[39m__setattr__\u001b[39m(\u001b[39mself\u001b[39m, name, value)\n\u001b[1;32m   <a href='file:///home/rmn/miniconda3/envs/gp_env_ubuntu/lib/python3.9/site-packages/pandas/core/generic.py?line=5595'>5596</a>\u001b[0m \u001b[39melif\u001b[39;00m name \u001b[39min\u001b[39;00m \u001b[39mself\u001b[39m\u001b[39m.\u001b[39m_metadata:\n\u001b[0;32m-> <a href='file:///home/rmn/miniconda3/envs/gp_env_ubuntu/lib/python3.9/site-packages/pandas/core/generic.py?line=5596'>5597</a>\u001b[0m     \u001b[39mobject\u001b[39;49m\u001b[39m.\u001b[39;49m\u001b[39m__setattr__\u001b[39;49m(\u001b[39mself\u001b[39;49m, name, value)\n\u001b[1;32m   <a href='file:///home/rmn/miniconda3/envs/gp_env_ubuntu/lib/python3.9/site-packages/pandas/core/generic.py?line=5597'>5598</a>\u001b[0m \u001b[39melse\u001b[39;00m:\n\u001b[1;32m   <a href='file:///home/rmn/miniconda3/envs/gp_env_ubuntu/lib/python3.9/site-packages/pandas/core/generic.py?line=5598'>5599</a>\u001b[0m     \u001b[39mtry\u001b[39;00m:\n",
      "File \u001b[0;32m~/miniconda3/envs/gp_env_ubuntu/lib/python3.9/site-packages/pandas/core/series.py:642\u001b[0m, in \u001b[0;36mSeries.name\u001b[0;34m(self, value)\u001b[0m\n\u001b[1;32m    <a href='file:///home/rmn/miniconda3/envs/gp_env_ubuntu/lib/python3.9/site-packages/pandas/core/series.py?line=639'>640</a>\u001b[0m \u001b[39m@name\u001b[39m\u001b[39m.\u001b[39msetter\n\u001b[1;32m    <a href='file:///home/rmn/miniconda3/envs/gp_env_ubuntu/lib/python3.9/site-packages/pandas/core/series.py?line=640'>641</a>\u001b[0m \u001b[39mdef\u001b[39;00m \u001b[39mname\u001b[39m(\u001b[39mself\u001b[39m, value: Hashable) \u001b[39m-\u001b[39m\u001b[39m>\u001b[39m \u001b[39mNone\u001b[39;00m:\n\u001b[0;32m--> <a href='file:///home/rmn/miniconda3/envs/gp_env_ubuntu/lib/python3.9/site-packages/pandas/core/series.py?line=641'>642</a>\u001b[0m     validate_all_hashable(value, error_name\u001b[39m=\u001b[39;49m\u001b[39mf\u001b[39;49m\u001b[39m\"\u001b[39;49m\u001b[39m{\u001b[39;49;00m\u001b[39mtype\u001b[39;49m(\u001b[39mself\u001b[39;49m)\u001b[39m.\u001b[39;49m\u001b[39m__name__\u001b[39;49m\u001b[39m}\u001b[39;49;00m\u001b[39m.name\u001b[39;49m\u001b[39m\"\u001b[39;49m)\n\u001b[1;32m    <a href='file:///home/rmn/miniconda3/envs/gp_env_ubuntu/lib/python3.9/site-packages/pandas/core/series.py?line=642'>643</a>\u001b[0m     \u001b[39mobject\u001b[39m\u001b[39m.\u001b[39m\u001b[39m__setattr__\u001b[39m(\u001b[39mself\u001b[39m, \u001b[39m\"\u001b[39m\u001b[39m_name\u001b[39m\u001b[39m\"\u001b[39m, value)\n",
      "File \u001b[0;32m~/miniconda3/envs/gp_env_ubuntu/lib/python3.9/site-packages/pandas/core/dtypes/common.py:1740\u001b[0m, in \u001b[0;36mvalidate_all_hashable\u001b[0;34m(error_name, *args)\u001b[0m\n\u001b[1;32m   <a href='file:///home/rmn/miniconda3/envs/gp_env_ubuntu/lib/python3.9/site-packages/pandas/core/dtypes/common.py?line=1720'>1721</a>\u001b[0m \u001b[39mdef\u001b[39;00m \u001b[39mvalidate_all_hashable\u001b[39m(\u001b[39m*\u001b[39margs, error_name: \u001b[39mstr\u001b[39m \u001b[39m|\u001b[39m \u001b[39mNone\u001b[39;00m \u001b[39m=\u001b[39m \u001b[39mNone\u001b[39;00m) \u001b[39m-\u001b[39m\u001b[39m>\u001b[39m \u001b[39mNone\u001b[39;00m:\n\u001b[1;32m   <a href='file:///home/rmn/miniconda3/envs/gp_env_ubuntu/lib/python3.9/site-packages/pandas/core/dtypes/common.py?line=1721'>1722</a>\u001b[0m     \u001b[39m\"\"\"\u001b[39;00m\n\u001b[1;32m   <a href='file:///home/rmn/miniconda3/envs/gp_env_ubuntu/lib/python3.9/site-packages/pandas/core/dtypes/common.py?line=1722'>1723</a>\u001b[0m \u001b[39m    Return None if all args are hashable, else raise a TypeError.\u001b[39;00m\n\u001b[1;32m   <a href='file:///home/rmn/miniconda3/envs/gp_env_ubuntu/lib/python3.9/site-packages/pandas/core/dtypes/common.py?line=1723'>1724</a>\u001b[0m \n\u001b[0;32m   (...)\u001b[0m\n\u001b[1;32m   <a href='file:///home/rmn/miniconda3/envs/gp_env_ubuntu/lib/python3.9/site-packages/pandas/core/dtypes/common.py?line=1737'>1738</a>\u001b[0m \u001b[39m    None\u001b[39;00m\n\u001b[1;32m   <a href='file:///home/rmn/miniconda3/envs/gp_env_ubuntu/lib/python3.9/site-packages/pandas/core/dtypes/common.py?line=1738'>1739</a>\u001b[0m \u001b[39m    \"\"\"\u001b[39;00m\n\u001b[0;32m-> <a href='file:///home/rmn/miniconda3/envs/gp_env_ubuntu/lib/python3.9/site-packages/pandas/core/dtypes/common.py?line=1739'>1740</a>\u001b[0m     \u001b[39mif\u001b[39;00m \u001b[39mnot\u001b[39;00m \u001b[39mall\u001b[39;49m(is_hashable(arg) \u001b[39mfor\u001b[39;49;00m arg \u001b[39min\u001b[39;49;00m args):\n\u001b[1;32m   <a href='file:///home/rmn/miniconda3/envs/gp_env_ubuntu/lib/python3.9/site-packages/pandas/core/dtypes/common.py?line=1740'>1741</a>\u001b[0m         \u001b[39mif\u001b[39;00m error_name:\n\u001b[1;32m   <a href='file:///home/rmn/miniconda3/envs/gp_env_ubuntu/lib/python3.9/site-packages/pandas/core/dtypes/common.py?line=1741'>1742</a>\u001b[0m             \u001b[39mraise\u001b[39;00m \u001b[39mTypeError\u001b[39;00m(\u001b[39mf\u001b[39m\u001b[39m\"\u001b[39m\u001b[39m{\u001b[39;00merror_name\u001b[39m}\u001b[39;00m\u001b[39m must be a hashable type\u001b[39m\u001b[39m\"\u001b[39m)\n",
      "\u001b[0;31mKeyboardInterrupt\u001b[0m: "
     ]
    }
   ],
   "source": [
    "pop = toolbox.population(n=300)\n",
    "hof = tools.HallOfFame(1)\n",
    "pop, log = algorithms.eaSimple(pop, toolbox, 0.5, 0.1, 40, stats=mstats, halloffame=hof, verbose=True)"
   ]
  },
  {
   "cell_type": "code",
   "execution_count": null,
   "metadata": {},
   "outputs": [
    {
     "name": "stdout",
     "output_type": "stream",
     "text": [
      "mul(add(add(add(add(ARG4, sin(ARG5)), saveDiv(ARG0, add(add(add(ARG4, sin(ARG5)), saveDiv(sin(ARG5), add(ARG5, ARG0))), ARG0))), 0), 0), add(add(ARG5, sin(mul(ARG5, ARG0))), sin(add(add(add(add(ARG4, saveDiv(ARG0, ARG1)), 0), 0), 0))))\n"
     ]
    },
    {
     "data": {
      "image/png": "[encoded data removed]",
      "image/svg+xml": "<?xml version=\"1.0\" encoding=\"utf-8\" standalone=\"no\"?>\n<!DOCTYPE svg PUBLIC \"-//W3C//DTD SVG 1.1//EN\"\n  \"http://www.w3.org/Graphics/SVG/1.1/DTD/svg11.dtd\">\n<svg xmlns:xlink=\"http://www.w3.org/1999/xlink\" width=\"349.2pt\" height=\"246.958125pt\" viewBox=\"0 0 349.2 246.958125\" xmlns=\"http://www.w3.org/2000/svg\" version=\"1.1\">\n <metadata>\n  <rdf:RDF xmlns:dc=\"http://purl.org/dc/elements/1.1/\" xmlns:cc=\"http://creativecommons.org/ns#\" xmlns:rdf=\"http://www.w3.org/1999/02/22-rdf-syntax-ns#\">\n   <cc:Work>\n    <dc:type rdf:resource=\"http://purl.org/dc/dcmitype/StillImage\"/>\n    <dc:date>2022-05-17T16:14:17.202341</dc:date>\n    <dc:format>image/svg+xml</dc:format>\n    <dc:creator>\n     <cc:Agent>\n      <dc:title>Matplotlib v3.5.1, https://matplotlib.org/</dc:title>\n     </cc:Agent>\n    </dc:creator>\n   </cc:Work>\n  </rdf:RDF>\n </metadata>\n <defs>\n  <style type=\"text/css\">*{stroke-linejoin: round; stroke-linecap: butt}</style>\n </defs>\n <g id=\"figure_1\">\n  <g id=\"patch_1\">\n   <path d=\"M 0 246.958125 \nL 349.2 246.958125 \nL 349.2 0 \nL 0 0 \nL 0 246.958125 \nz\n\" style=\"fill: none\"/>\n  </g>\n  <g id=\"axes_1\">\n   <g id=\"patch_2\">\n    <path d=\"M 7.2 239.758125 \nL 342 239.758125 \nL 342 22.318125 \nL 7.2 22.318125 \nz\n\"/>\n   </g>\n   <g id=\"LineCollection_1\">\n    <path d=\"M 214.127745 41.186885 \nL 194.363872 61.153827 \n\" clip-path=\"url(#p5811a91a23)\" style=\"fill: none; stroke: #000000\"/>\n    <path d=\"M 214.127745 41.186885 \nL 233.891617 61.153827 \n\" clip-path=\"url(#p5811a91a23)\" style=\"fill: none; stroke: #000000\"/>\n    <path d=\"M 194.363872 61.153827 \nL 154.836128 81.12077 \n\" clip-path=\"url(#p5811a91a23)\" style=\"fill: none; stroke: #000000\"/>\n    <path d=\"M 194.363872 61.153827 \nL 194.363872 81.12077 \n\" clip-path=\"url(#p5811a91a23)\" style=\"fill: none; stroke: #000000\"/>\n    <path d=\"M 154.836128 81.12077 \nL 115.308383 101.087712 \n\" clip-path=\"url(#p5811a91a23)\" style=\"fill: none; stroke: #000000\"/>\n    <path d=\"M 154.836128 81.12077 \nL 154.836128 101.087712 \n\" clip-path=\"url(#p5811a91a23)\" style=\"fill: none; stroke: #000000\"/>\n    <path d=\"M 115.308383 101.087712 \nL 75.780638 121.054654 \n\" clip-path=\"url(#p5811a91a23)\" style=\"fill: none; stroke: #000000\"/>\n    <path d=\"M 115.308383 101.087712 \nL 115.308383 121.054654 \n\" clip-path=\"url(#p5811a91a23)\" style=\"fill: none; stroke: #000000\"/>\n    <path d=\"M 75.780638 121.054654 \nL 36.252893 141.021596 \n\" clip-path=\"url(#p5811a91a23)\" style=\"fill: none; stroke: #000000\"/>\n    <path d=\"M 75.780638 121.054654 \nL 75.780638 141.021596 \n\" clip-path=\"url(#p5811a91a23)\" style=\"fill: none; stroke: #000000\"/>\n    <path d=\"M 75.780638 141.021596 \nL 75.780638 160.988538 \n\" clip-path=\"url(#p5811a91a23)\" style=\"fill: none; stroke: #000000\"/>\n    <path d=\"M 115.308383 121.054654 \nL 115.308383 141.021596 \n\" clip-path=\"url(#p5811a91a23)\" style=\"fill: none; stroke: #000000\"/>\n    <path d=\"M 115.308383 121.054654 \nL 154.836128 141.021596 \n\" clip-path=\"url(#p5811a91a23)\" style=\"fill: none; stroke: #000000\"/>\n    <path d=\"M 154.836128 141.021596 \nL 135.072255 160.988538 \n\" clip-path=\"url(#p5811a91a23)\" style=\"fill: none; stroke: #000000\"/>\n    <path d=\"M 154.836128 141.021596 \nL 174.6 160.988538 \n\" clip-path=\"url(#p5811a91a23)\" style=\"fill: none; stroke: #000000\"/>\n    <path d=\"M 135.072255 160.988538 \nL 95.54451 180.95548 \n\" clip-path=\"url(#p5811a91a23)\" style=\"fill: none; stroke: #000000\"/>\n    <path d=\"M 135.072255 160.988538 \nL 135.072255 180.95548 \n\" clip-path=\"url(#p5811a91a23)\" style=\"fill: none; stroke: #000000\"/>\n    <path d=\"M 95.54451 180.95548 \nL 56.016765 200.922423 \n\" clip-path=\"url(#p5811a91a23)\" style=\"fill: none; stroke: #000000\"/>\n    <path d=\"M 95.54451 180.95548 \nL 95.54451 200.922423 \n\" clip-path=\"url(#p5811a91a23)\" style=\"fill: none; stroke: #000000\"/>\n    <path d=\"M 95.54451 200.922423 \nL 95.54451 220.889365 \n\" clip-path=\"url(#p5811a91a23)\" style=\"fill: none; stroke: #000000\"/>\n    <path d=\"M 135.072255 180.95548 \nL 135.072255 200.922423 \n\" clip-path=\"url(#p5811a91a23)\" style=\"fill: none; stroke: #000000\"/>\n    <path d=\"M 135.072255 180.95548 \nL 174.6 200.922423 \n\" clip-path=\"url(#p5811a91a23)\" style=\"fill: none; stroke: #000000\"/>\n    <path d=\"M 135.072255 200.922423 \nL 135.072255 220.889365 \n\" clip-path=\"url(#p5811a91a23)\" style=\"fill: none; stroke: #000000\"/>\n    <path d=\"M 174.6 200.922423 \nL 174.6 220.889365 \n\" clip-path=\"url(#p5811a91a23)\" style=\"fill: none; stroke: #000000\"/>\n    <path d=\"M 174.6 200.922423 \nL 214.127745 220.889365 \n\" clip-path=\"url(#p5811a91a23)\" style=\"fill: none; stroke: #000000\"/>\n    <path d=\"M 233.891617 61.153827 \nL 233.891617 81.12077 \n\" clip-path=\"url(#p5811a91a23)\" style=\"fill: none; stroke: #000000\"/>\n    <path d=\"M 233.891617 61.153827 \nL 273.419362 81.12077 \n\" clip-path=\"url(#p5811a91a23)\" style=\"fill: none; stroke: #000000\"/>\n    <path d=\"M 233.891617 81.12077 \nL 194.363872 101.087712 \n\" clip-path=\"url(#p5811a91a23)\" style=\"fill: none; stroke: #000000\"/>\n    <path d=\"M 233.891617 81.12077 \nL 233.891617 101.087712 \n\" clip-path=\"url(#p5811a91a23)\" style=\"fill: none; stroke: #000000\"/>\n    <path d=\"M 233.891617 101.087712 \nL 233.891617 121.054654 \n\" clip-path=\"url(#p5811a91a23)\" style=\"fill: none; stroke: #000000\"/>\n    <path d=\"M 233.891617 121.054654 \nL 194.363872 141.021596 \n\" clip-path=\"url(#p5811a91a23)\" style=\"fill: none; stroke: #000000\"/>\n    <path d=\"M 233.891617 121.054654 \nL 233.891617 141.021596 \n\" clip-path=\"url(#p5811a91a23)\" style=\"fill: none; stroke: #000000\"/>\n    <path d=\"M 273.419362 81.12077 \nL 273.419362 101.087712 \n\" clip-path=\"url(#p5811a91a23)\" style=\"fill: none; stroke: #000000\"/>\n    <path d=\"M 273.419362 101.087712 \nL 273.419362 121.054654 \n\" clip-path=\"url(#p5811a91a23)\" style=\"fill: none; stroke: #000000\"/>\n    <path d=\"M 273.419362 101.087712 \nL 312.947107 121.054654 \n\" clip-path=\"url(#p5811a91a23)\" style=\"fill: none; stroke: #000000\"/>\n    <path d=\"M 273.419362 121.054654 \nL 273.419362 141.021596 \n\" clip-path=\"url(#p5811a91a23)\" style=\"fill: none; stroke: #000000\"/>\n    <path d=\"M 273.419362 121.054654 \nL 312.947107 141.021596 \n\" clip-path=\"url(#p5811a91a23)\" style=\"fill: none; stroke: #000000\"/>\n    <path d=\"M 273.419362 141.021596 \nL 253.65549 160.988538 \n\" clip-path=\"url(#p5811a91a23)\" style=\"fill: none; stroke: #000000\"/>\n    <path d=\"M 273.419362 141.021596 \nL 293.183235 160.988538 \n\" clip-path=\"url(#p5811a91a23)\" style=\"fill: none; stroke: #000000\"/>\n    <path d=\"M 253.65549 160.988538 \nL 233.891617 180.95548 \n\" clip-path=\"url(#p5811a91a23)\" style=\"fill: none; stroke: #000000\"/>\n    <path d=\"M 253.65549 160.988538 \nL 273.419362 180.95548 \n\" clip-path=\"url(#p5811a91a23)\" style=\"fill: none; stroke: #000000\"/>\n    <path d=\"M 273.419362 180.95548 \nL 253.65549 200.922423 \n\" clip-path=\"url(#p5811a91a23)\" style=\"fill: none; stroke: #000000\"/>\n    <path d=\"M 273.419362 180.95548 \nL 293.183235 200.922423 \n\" clip-path=\"url(#p5811a91a23)\" style=\"fill: none; stroke: #000000\"/>\n   </g>\n   <g id=\"matplotlib.axis_1\">\n    <g id=\"xtick_1\"/>\n    <g id=\"xtick_2\"/>\n    <g id=\"xtick_3\"/>\n    <g id=\"xtick_4\"/>\n    <g id=\"xtick_5\"/>\n    <g id=\"xtick_6\"/>\n   </g>\n   <g id=\"matplotlib.axis_2\">\n    <g id=\"ytick_1\"/>\n    <g id=\"ytick_2\"/>\n    <g id=\"ytick_3\"/>\n    <g id=\"ytick_4\"/>\n    <g id=\"ytick_5\"/>\n    <g id=\"ytick_6\"/>\n    <g id=\"ytick_7\"/>\n    <g id=\"ytick_8\"/>\n   </g>\n   <g id=\"PathCollection_1\">\n    <defs>\n     <path id=\"me18f795589\" d=\"M 0 8.660254 \nC 2.296726 8.660254 4.499694 7.747755 6.123724 6.123724 \nC 7.747755 4.499694 8.660254 2.296726 8.660254 0 \nC 8.660254 -2.296726 7.747755 -4.499694 6.123724 -6.123724 \nC 4.499694 -7.747755 2.296726 -8.660254 0 -8.660254 \nC -2.296726 -8.660254 -4.499694 -7.747755 -6.123724 -6.123724 \nC -7.747755 -4.499694 -8.660254 -2.296726 -8.660254 0 \nC -8.660254 2.296726 -7.747755 4.499694 -6.123724 6.123724 \nC -4.499694 7.747755 -2.296726 8.660254 0 8.660254 \nz\n\" style=\"stroke: #1f78b4\"/>\n    </defs>\n    <g clip-path=\"url(#p5811a91a23)\">\n     <use xlink:href=\"#me18f795589\" x=\"214.127745\" y=\"41.186885\" style=\"fill: #1f78b4; stroke: #1f78b4\"/>\n     <use xlink:href=\"#me18f795589\" x=\"194.363872\" y=\"61.153827\" style=\"fill: #1f78b4; stroke: #1f78b4\"/>\n     <use xlink:href=\"#me18f795589\" x=\"154.836128\" y=\"81.12077\" style=\"fill: #1f78b4; stroke: #1f78b4\"/>\n     <use xlink:href=\"#me18f795589\" x=\"115.308383\" y=\"101.087712\" style=\"fill: #1f78b4; stroke: #1f78b4\"/>\n     <use xlink:href=\"#me18f795589\" x=\"75.780638\" y=\"121.054654\" style=\"fill: #1f78b4; stroke: #1f78b4\"/>\n     <use xlink:href=\"#me18f795589\" x=\"36.252893\" y=\"141.021596\" style=\"fill: #1f78b4; stroke: #1f78b4\"/>\n     <use xlink:href=\"#me18f795589\" x=\"75.780638\" y=\"141.021596\" style=\"fill: #1f78b4; stroke: #1f78b4\"/>\n     <use xlink:href=\"#me18f795589\" x=\"75.780638\" y=\"160.988538\" style=\"fill: #1f78b4; stroke: #1f78b4\"/>\n     <use xlink:href=\"#me18f795589\" x=\"115.308383\" y=\"121.054654\" style=\"fill: #1f78b4; stroke: #1f78b4\"/>\n     <use xlink:href=\"#me18f795589\" x=\"115.308383\" y=\"141.021596\" style=\"fill: #1f78b4; stroke: #1f78b4\"/>\n     <use xlink:href=\"#me18f795589\" x=\"154.836128\" y=\"141.021596\" style=\"fill: #1f78b4; stroke: #1f78b4\"/>\n     <use xlink:href=\"#me18f795589\" x=\"135.072255\" y=\"160.988538\" style=\"fill: #1f78b4; stroke: #1f78b4\"/>\n     <use xlink:href=\"#me18f795589\" x=\"95.54451\" y=\"180.95548\" style=\"fill: #1f78b4; stroke: #1f78b4\"/>\n     <use xlink:href=\"#me18f795589\" x=\"56.016765\" y=\"200.922423\" style=\"fill: #1f78b4; stroke: #1f78b4\"/>\n     <use xlink:href=\"#me18f795589\" x=\"95.54451\" y=\"200.922423\" style=\"fill: #1f78b4; stroke: #1f78b4\"/>\n     <use xlink:href=\"#me18f795589\" x=\"95.54451\" y=\"220.889365\" style=\"fill: #1f78b4; stroke: #1f78b4\"/>\n     <use xlink:href=\"#me18f795589\" x=\"135.072255\" y=\"180.95548\" style=\"fill: #1f78b4; stroke: #1f78b4\"/>\n     <use xlink:href=\"#me18f795589\" x=\"135.072255\" y=\"200.922423\" style=\"fill: #1f78b4; stroke: #1f78b4\"/>\n     <use xlink:href=\"#me18f795589\" x=\"135.072255\" y=\"220.889365\" style=\"fill: #1f78b4; stroke: #1f78b4\"/>\n     <use xlink:href=\"#me18f795589\" x=\"174.6\" y=\"200.922423\" style=\"fill: #1f78b4; stroke: #1f78b4\"/>\n     <use xlink:href=\"#me18f795589\" x=\"174.6\" y=\"220.889365\" style=\"fill: #1f78b4; stroke: #1f78b4\"/>\n     <use xlink:href=\"#me18f795589\" x=\"214.127745\" y=\"220.889365\" style=\"fill: #1f78b4; stroke: #1f78b4\"/>\n     <use xlink:href=\"#me18f795589\" x=\"174.6\" y=\"160.988538\" style=\"fill: #1f78b4; stroke: #1f78b4\"/>\n     <use xlink:href=\"#me18f795589\" x=\"154.836128\" y=\"101.087712\" style=\"fill: #1f78b4; stroke: #1f78b4\"/>\n     <use xlink:href=\"#me18f795589\" x=\"194.363872\" y=\"81.12077\" style=\"fill: #1f78b4; stroke: #1f78b4\"/>\n     <use xlink:href=\"#me18f795589\" x=\"233.891617\" y=\"61.153827\" style=\"fill: #1f78b4; stroke: #1f78b4\"/>\n     <use xlink:href=\"#me18f795589\" x=\"233.891617\" y=\"81.12077\" style=\"fill: #1f78b4; stroke: #1f78b4\"/>\n     <use xlink:href=\"#me18f795589\" x=\"194.363872\" y=\"101.087712\" style=\"fill: #1f78b4; stroke: #1f78b4\"/>\n     <use xlink:href=\"#me18f795589\" x=\"233.891617\" y=\"101.087712\" style=\"fill: #1f78b4; stroke: #1f78b4\"/>\n     <use xlink:href=\"#me18f795589\" x=\"233.891617\" y=\"121.054654\" style=\"fill: #1f78b4; stroke: #1f78b4\"/>\n     <use xlink:href=\"#me18f795589\" x=\"194.363872\" y=\"141.021596\" style=\"fill: #1f78b4; stroke: #1f78b4\"/>\n     <use xlink:href=\"#me18f795589\" x=\"233.891617\" y=\"141.021596\" style=\"fill: #1f78b4; stroke: #1f78b4\"/>\n     <use xlink:href=\"#me18f795589\" x=\"273.419362\" y=\"81.12077\" style=\"fill: #1f78b4; stroke: #1f78b4\"/>\n     <use xlink:href=\"#me18f795589\" x=\"273.419362\" y=\"101.087712\" style=\"fill: #1f78b4; stroke: #1f78b4\"/>\n     <use xlink:href=\"#me18f795589\" x=\"273.419362\" y=\"121.054654\" style=\"fill: #1f78b4; stroke: #1f78b4\"/>\n     <use xlink:href=\"#me18f795589\" x=\"273.419362\" y=\"141.021596\" style=\"fill: #1f78b4; stroke: #1f78b4\"/>\n     <use xlink:href=\"#me18f795589\" x=\"253.65549\" y=\"160.988538\" style=\"fill: #1f78b4; stroke: #1f78b4\"/>\n     <use xlink:href=\"#me18f795589\" x=\"233.891617\" y=\"180.95548\" style=\"fill: #1f78b4; stroke: #1f78b4\"/>\n     <use xlink:href=\"#me18f795589\" x=\"273.419362\" y=\"180.95548\" style=\"fill: #1f78b4; stroke: #1f78b4\"/>\n     <use xlink:href=\"#me18f795589\" x=\"253.65549\" y=\"200.922423\" style=\"fill: #1f78b4; stroke: #1f78b4\"/>\n     <use xlink:href=\"#me18f795589\" x=\"293.183235\" y=\"200.922423\" style=\"fill: #1f78b4; stroke: #1f78b4\"/>\n     <use xlink:href=\"#me18f795589\" x=\"293.183235\" y=\"160.988538\" style=\"fill: #1f78b4; stroke: #1f78b4\"/>\n     <use xlink:href=\"#me18f795589\" x=\"312.947107\" y=\"141.021596\" style=\"fill: #1f78b4; stroke: #1f78b4\"/>\n     <use xlink:href=\"#me18f795589\" x=\"312.947107\" y=\"121.054654\" style=\"fill: #1f78b4; stroke: #1f78b4\"/>\n    </g>\n   </g>\n   <g id=\"patch_3\">\n    <path d=\"M 7.2 239.758125 \nL 7.2 22.318125 \n\" style=\"fill: none; stroke: #ffffff; stroke-width: 0.8; stroke-linejoin: miter; stroke-linecap: square\"/>\n   </g>\n   <g id=\"patch_4\">\n    <path d=\"M 342 239.758125 \nL 342 22.318125 \n\" style=\"fill: none; stroke: #ffffff; stroke-width: 0.8; stroke-linejoin: miter; stroke-linecap: square\"/>\n   </g>\n   <g id=\"patch_5\">\n    <path d=\"M 7.2 239.758125 \nL 342 239.758125 \n\" style=\"fill: none; stroke: #ffffff; stroke-width: 0.8; stroke-linejoin: miter; stroke-linecap: square\"/>\n   </g>\n   <g id=\"patch_6\">\n    <path d=\"M 7.2 22.318125 \nL 342 22.318125 \n\" style=\"fill: none; stroke: #ffffff; stroke-width: 0.8; stroke-linejoin: miter; stroke-linecap: square\"/>\n   </g>\n   <g id=\"text_1\">\n    <g clip-path=\"url(#p5811a91a23)\">\n     <!-- mul -->\n     <g transform=\"translate(202.813995 44.498135)scale(0.12 -0.12)\">\n      <defs>\n       <path id=\"DejaVuSans-6d\" d=\"M 3328 2828 \nQ 3544 3216 3844 3400 \nQ 4144 3584 4550 3584 \nQ 5097 3584 5394 3201 \nQ 5691 2819 5691 2113 \nL 5691 0 \nL 5113 0 \nL 5113 2094 \nQ 5113 2597 4934 2840 \nQ 4756 3084 4391 3084 \nQ 3944 3084 3684 2787 \nQ 3425 2491 3425 1978 \nL 3425 0 \nL 2847 0 \nL 2847 2094 \nQ 2847 2600 2669 2842 \nQ 2491 3084 2119 3084 \nQ 1678 3084 1418 2786 \nQ 1159 2488 1159 1978 \nL 1159 0 \nL 581 0 \nL 581 3500 \nL 1159 3500 \nL 1159 2956 \nQ 1356 3278 1631 3431 \nQ 1906 3584 2284 3584 \nQ 2666 3584 2933 3390 \nQ 3200 3197 3328 2828 \nz\n\" transform=\"scale(0.015625)\"/>\n       <path id=\"DejaVuSans-75\" d=\"M 544 1381 \nL 544 3500 \nL 1119 3500 \nL 1119 1403 \nQ 1119 906 1312 657 \nQ 1506 409 1894 409 \nQ 2359 409 2629 706 \nQ 2900 1003 2900 1516 \nL 2900 3500 \nL 3475 3500 \nL 3475 0 \nL 2900 0 \nL 2900 538 \nQ 2691 219 2414 64 \nQ 2138 -91 1772 -91 \nQ 1169 -91 856 284 \nQ 544 659 544 1381 \nz\nM 1991 3584 \nL 1991 3584 \nz\n\" transform=\"scale(0.015625)\"/>\n       <path id=\"DejaVuSans-6c\" d=\"M 603 4863 \nL 1178 4863 \nL 1178 0 \nL 603 0 \nL 603 4863 \nz\n\" transform=\"scale(0.015625)\"/>\n      </defs>\n      <use xlink:href=\"#DejaVuSans-6d\"/>\n      <use xlink:href=\"#DejaVuSans-75\" x=\"97.412109\"/>\n      <use xlink:href=\"#DejaVuSans-6c\" x=\"160.791016\"/>\n     </g>\n    </g>\n   </g>\n   <g id=\"text_2\">\n    <g clip-path=\"url(#p5811a91a23)\">\n     <!-- add -->\n     <g transform=\"translate(183.068872 64.465077)scale(0.12 -0.12)\">\n      <defs>\n       <path id=\"DejaVuSans-61\" d=\"M 2194 1759 \nQ 1497 1759 1228 1600 \nQ 959 1441 959 1056 \nQ 959 750 1161 570 \nQ 1363 391 1709 391 \nQ 2188 391 2477 730 \nQ 2766 1069 2766 1631 \nL 2766 1759 \nL 2194 1759 \nz\nM 3341 1997 \nL 3341 0 \nL 2766 0 \nL 2766 531 \nQ 2569 213 2275 61 \nQ 1981 -91 1556 -91 \nQ 1019 -91 701 211 \nQ 384 513 384 1019 \nQ 384 1609 779 1909 \nQ 1175 2209 1959 2209 \nL 2766 2209 \nL 2766 2266 \nQ 2766 2663 2505 2880 \nQ 2244 3097 1772 3097 \nQ 1472 3097 1187 3025 \nQ 903 2953 641 2809 \nL 641 3341 \nQ 956 3463 1253 3523 \nQ 1550 3584 1831 3584 \nQ 2591 3584 2966 3190 \nQ 3341 2797 3341 1997 \nz\n\" transform=\"scale(0.015625)\"/>\n       <path id=\"DejaVuSans-64\" d=\"M 2906 2969 \nL 2906 4863 \nL 3481 4863 \nL 3481 0 \nL 2906 0 \nL 2906 525 \nQ 2725 213 2448 61 \nQ 2172 -91 1784 -91 \nQ 1150 -91 751 415 \nQ 353 922 353 1747 \nQ 353 2572 751 3078 \nQ 1150 3584 1784 3584 \nQ 2172 3584 2448 3432 \nQ 2725 3281 2906 2969 \nz\nM 947 1747 \nQ 947 1113 1208 752 \nQ 1469 391 1925 391 \nQ 2381 391 2643 752 \nQ 2906 1113 2906 1747 \nQ 2906 2381 2643 2742 \nQ 2381 3103 1925 3103 \nQ 1469 3103 1208 2742 \nQ 947 2381 947 1747 \nz\n\" transform=\"scale(0.015625)\"/>\n      </defs>\n      <use xlink:href=\"#DejaVuSans-61\"/>\n      <use xlink:href=\"#DejaVuSans-64\" x=\"61.279297\"/>\n      <use xlink:href=\"#DejaVuSans-64\" x=\"124.755859\"/>\n     </g>\n    </g>\n   </g>\n   <g id=\"text_3\">\n    <g clip-path=\"url(#p5811a91a23)\">\n     <!-- add -->\n     <g transform=\"translate(143.541128 84.43202)scale(0.12 -0.12)\">\n      <use xlink:href=\"#DejaVuSans-61\"/>\n      <use xlink:href=\"#DejaVuSans-64\" x=\"61.279297\"/>\n      <use xlink:href=\"#DejaVuSans-64\" x=\"124.755859\"/>\n     </g>\n    </g>\n   </g>\n   <g id=\"text_4\">\n    <g clip-path=\"url(#p5811a91a23)\">\n     <!-- add -->\n     <g transform=\"translate(104.013383 104.398962)scale(0.12 -0.12)\">\n      <use xlink:href=\"#DejaVuSans-61\"/>\n      <use xlink:href=\"#DejaVuSans-64\" x=\"61.279297\"/>\n      <use xlink:href=\"#DejaVuSans-64\" x=\"124.755859\"/>\n     </g>\n    </g>\n   </g>\n   <g id=\"text_5\">\n    <g clip-path=\"url(#p5811a91a23)\">\n     <!-- add -->\n     <g transform=\"translate(64.485638 124.365904)scale(0.12 -0.12)\">\n      <use xlink:href=\"#DejaVuSans-61\"/>\n      <use xlink:href=\"#DejaVuSans-64\" x=\"61.279297\"/>\n      <use xlink:href=\"#DejaVuSans-64\" x=\"124.755859\"/>\n     </g>\n    </g>\n   </g>\n   <g id=\"text_6\">\n    <g clip-path=\"url(#p5811a91a23)\">\n     <!-- ARG4 -->\n     <g transform=\"translate(19.512893 144.332846)scale(0.12 -0.12)\">\n      <defs>\n       <path id=\"DejaVuSans-41\" d=\"M 2188 4044 \nL 1331 1722 \nL 3047 1722 \nL 2188 4044 \nz\nM 1831 4666 \nL 2547 4666 \nL 4325 0 \nL 3669 0 \nL 3244 1197 \nL 1141 1197 \nL 716 0 \nL 50 0 \nL 1831 4666 \nz\n\" transform=\"scale(0.015625)\"/>\n       <path id=\"DejaVuSans-52\" d=\"M 2841 2188 \nQ 3044 2119 3236 1894 \nQ 3428 1669 3622 1275 \nL 4263 0 \nL 3584 0 \nL 2988 1197 \nQ 2756 1666 2539 1819 \nQ 2322 1972 1947 1972 \nL 1259 1972 \nL 1259 0 \nL 628 0 \nL 628 4666 \nL 2053 4666 \nQ 2853 4666 3247 4331 \nQ 3641 3997 3641 3322 \nQ 3641 2881 3436 2590 \nQ 3231 2300 2841 2188 \nz\nM 1259 4147 \nL 1259 2491 \nL 2053 2491 \nQ 2509 2491 2742 2702 \nQ 2975 2913 2975 3322 \nQ 2975 3731 2742 3939 \nQ 2509 4147 2053 4147 \nL 1259 4147 \nz\n\" transform=\"scale(0.015625)\"/>\n       <path id=\"DejaVuSans-47\" d=\"M 3809 666 \nL 3809 1919 \nL 2778 1919 \nL 2778 2438 \nL 4434 2438 \nL 4434 434 \nQ 4069 175 3628 42 \nQ 3188 -91 2688 -91 \nQ 1594 -91 976 548 \nQ 359 1188 359 2328 \nQ 359 3472 976 4111 \nQ 1594 4750 2688 4750 \nQ 3144 4750 3555 4637 \nQ 3966 4525 4313 4306 \nL 4313 3634 \nQ 3963 3931 3569 4081 \nQ 3175 4231 2741 4231 \nQ 1884 4231 1454 3753 \nQ 1025 3275 1025 2328 \nQ 1025 1384 1454 906 \nQ 1884 428 2741 428 \nQ 3075 428 3337 486 \nQ 3600 544 3809 666 \nz\n\" transform=\"scale(0.015625)\"/>\n       <path id=\"DejaVuSans-34\" d=\"M 2419 4116 \nL 825 1625 \nL 2419 1625 \nL 2419 4116 \nz\nM 2253 4666 \nL 3047 4666 \nL 3047 1625 \nL 3713 1625 \nL 3713 1100 \nL 3047 1100 \nL 3047 0 \nL 2419 0 \nL 2419 1100 \nL 313 1100 \nL 313 1709 \nL 2253 4666 \nz\n\" transform=\"scale(0.015625)\"/>\n      </defs>\n      <use xlink:href=\"#DejaVuSans-41\"/>\n      <use xlink:href=\"#DejaVuSans-52\" x=\"68.408203\"/>\n      <use xlink:href=\"#DejaVuSans-47\" x=\"137.890625\"/>\n      <use xlink:href=\"#DejaVuSans-34\" x=\"215.380859\"/>\n     </g>\n    </g>\n   </g>\n   <g id=\"text_7\">\n    <g clip-path=\"url(#p5811a91a23)\">\n     <!-- sin -->\n     <g transform=\"translate(67.185638 144.332846)scale(0.12 -0.12)\">\n      <defs>\n       <path id=\"DejaVuSans-73\" d=\"M 2834 3397 \nL 2834 2853 \nQ 2591 2978 2328 3040 \nQ 2066 3103 1784 3103 \nQ 1356 3103 1142 2972 \nQ 928 2841 928 2578 \nQ 928 2378 1081 2264 \nQ 1234 2150 1697 2047 \nL 1894 2003 \nQ 2506 1872 2764 1633 \nQ 3022 1394 3022 966 \nQ 3022 478 2636 193 \nQ 2250 -91 1575 -91 \nQ 1294 -91 989 -36 \nQ 684 19 347 128 \nL 347 722 \nQ 666 556 975 473 \nQ 1284 391 1588 391 \nQ 1994 391 2212 530 \nQ 2431 669 2431 922 \nQ 2431 1156 2273 1281 \nQ 2116 1406 1581 1522 \nL 1381 1569 \nQ 847 1681 609 1914 \nQ 372 2147 372 2553 \nQ 372 3047 722 3315 \nQ 1072 3584 1716 3584 \nQ 2034 3584 2315 3537 \nQ 2597 3491 2834 3397 \nz\n\" transform=\"scale(0.015625)\"/>\n       <path id=\"DejaVuSans-69\" d=\"M 603 3500 \nL 1178 3500 \nL 1178 0 \nL 603 0 \nL 603 3500 \nz\nM 603 4863 \nL 1178 4863 \nL 1178 4134 \nL 603 4134 \nL 603 4863 \nz\n\" transform=\"scale(0.015625)\"/>\n       <path id=\"DejaVuSans-6e\" d=\"M 3513 2113 \nL 3513 0 \nL 2938 0 \nL 2938 2094 \nQ 2938 2591 2744 2837 \nQ 2550 3084 2163 3084 \nQ 1697 3084 1428 2787 \nQ 1159 2491 1159 1978 \nL 1159 0 \nL 581 0 \nL 581 3500 \nL 1159 3500 \nL 1159 2956 \nQ 1366 3272 1645 3428 \nQ 1925 3584 2291 3584 \nQ 2894 3584 3203 3211 \nQ 3513 2838 3513 2113 \nz\n\" transform=\"scale(0.015625)\"/>\n      </defs>\n      <use xlink:href=\"#DejaVuSans-73\"/>\n      <use xlink:href=\"#DejaVuSans-69\" x=\"52.099609\"/>\n      <use xlink:href=\"#DejaVuSans-6e\" x=\"79.882812\"/>\n     </g>\n    </g>\n   </g>\n   <g id=\"text_8\">\n    <g clip-path=\"url(#p5811a91a23)\">\n     <!-- ARG5 -->\n     <g transform=\"translate(59.040638 164.299788)scale(0.12 -0.12)\">\n      <defs>\n       <path id=\"DejaVuSans-35\" d=\"M 691 4666 \nL 3169 4666 \nL 3169 4134 \nL 1269 4134 \nL 1269 2991 \nQ 1406 3038 1543 3061 \nQ 1681 3084 1819 3084 \nQ 2600 3084 3056 2656 \nQ 3513 2228 3513 1497 \nQ 3513 744 3044 326 \nQ 2575 -91 1722 -91 \nQ 1428 -91 1123 -41 \nQ 819 9 494 109 \nL 494 744 \nQ 775 591 1075 516 \nQ 1375 441 1709 441 \nQ 2250 441 2565 725 \nQ 2881 1009 2881 1497 \nQ 2881 1984 2565 2268 \nQ 2250 2553 1709 2553 \nQ 1456 2553 1204 2497 \nQ 953 2441 691 2322 \nL 691 4666 \nz\n\" transform=\"scale(0.015625)\"/>\n      </defs>\n      <use xlink:href=\"#DejaVuSans-41\"/>\n      <use xlink:href=\"#DejaVuSans-52\" x=\"68.408203\"/>\n      <use xlink:href=\"#DejaVuSans-47\" x=\"137.890625\"/>\n      <use xlink:href=\"#DejaVuSans-35\" x=\"215.380859\"/>\n     </g>\n    </g>\n   </g>\n   <g id=\"text_9\">\n    <g clip-path=\"url(#p5811a91a23)\">\n     <!-- saveDiv -->\n     <g transform=\"translate(91.424633 124.365904)scale(0.12 -0.12)\">\n      <defs>\n       <path id=\"DejaVuSans-76\" d=\"M 191 3500 \nL 800 3500 \nL 1894 563 \nL 2988 3500 \nL 3597 3500 \nL 2284 0 \nL 1503 0 \nL 191 3500 \nz\n\" transform=\"scale(0.015625)\"/>\n       <path id=\"DejaVuSans-65\" d=\"M 3597 1894 \nL 3597 1613 \nL 953 1613 \nQ 991 1019 1311 708 \nQ 1631 397 2203 397 \nQ 2534 397 2845 478 \nQ 3156 559 3463 722 \nL 3463 178 \nQ 3153 47 2828 -22 \nQ 2503 -91 2169 -91 \nQ 1331 -91 842 396 \nQ 353 884 353 1716 \nQ 353 2575 817 3079 \nQ 1281 3584 2069 3584 \nQ 2775 3584 3186 3129 \nQ 3597 2675 3597 1894 \nz\nM 3022 2063 \nQ 3016 2534 2758 2815 \nQ 2500 3097 2075 3097 \nQ 1594 3097 1305 2825 \nQ 1016 2553 972 2059 \nL 3022 2063 \nz\n\" transform=\"scale(0.015625)\"/>\n       <path id=\"DejaVuSans-44\" d=\"M 1259 4147 \nL 1259 519 \nL 2022 519 \nQ 2988 519 3436 956 \nQ 3884 1394 3884 2338 \nQ 3884 3275 3436 3711 \nQ 2988 4147 2022 4147 \nL 1259 4147 \nz\nM 628 4666 \nL 1925 4666 \nQ 3281 4666 3915 4102 \nQ 4550 3538 4550 2338 \nQ 4550 1131 3912 565 \nQ 3275 0 1925 0 \nL 628 0 \nL 628 4666 \nz\n\" transform=\"scale(0.015625)\"/>\n      </defs>\n      <use xlink:href=\"#DejaVuSans-73\"/>\n      <use xlink:href=\"#DejaVuSans-61\" x=\"52.099609\"/>\n      <use xlink:href=\"#DejaVuSans-76\" x=\"113.378906\"/>\n      <use xlink:href=\"#DejaVuSans-65\" x=\"172.558594\"/>\n      <use xlink:href=\"#DejaVuSans-44\" x=\"234.082031\"/>\n      <use xlink:href=\"#DejaVuSans-69\" x=\"311.083984\"/>\n      <use xlink:href=\"#DejaVuSans-76\" x=\"338.867188\"/>\n     </g>\n    </g>\n   </g>\n   <g id=\"text_10\">\n    <g clip-path=\"url(#p5811a91a23)\">\n     <!-- ARG0 -->\n     <g transform=\"translate(98.568383 144.332846)scale(0.12 -0.12)\">\n      <defs>\n       <path id=\"DejaVuSans-30\" d=\"M 2034 4250 \nQ 1547 4250 1301 3770 \nQ 1056 3291 1056 2328 \nQ 1056 1369 1301 889 \nQ 1547 409 2034 409 \nQ 2525 409 2770 889 \nQ 3016 1369 3016 2328 \nQ 3016 3291 2770 3770 \nQ 2525 4250 2034 4250 \nz\nM 2034 4750 \nQ 2819 4750 3233 4129 \nQ 3647 3509 3647 2328 \nQ 3647 1150 3233 529 \nQ 2819 -91 2034 -91 \nQ 1250 -91 836 529 \nQ 422 1150 422 2328 \nQ 422 3509 836 4129 \nQ 1250 4750 2034 4750 \nz\n\" transform=\"scale(0.015625)\"/>\n      </defs>\n      <use xlink:href=\"#DejaVuSans-41\"/>\n      <use xlink:href=\"#DejaVuSans-52\" x=\"68.408203\"/>\n      <use xlink:href=\"#DejaVuSans-47\" x=\"137.890625\"/>\n      <use xlink:href=\"#DejaVuSans-30\" x=\"215.380859\"/>\n     </g>\n    </g>\n   </g>\n   <g id=\"text_11\">\n    <g clip-path=\"url(#p5811a91a23)\">\n     <!-- add -->\n     <g transform=\"translate(143.541128 144.332846)scale(0.12 -0.12)\">\n      <use xlink:href=\"#DejaVuSans-61\"/>\n      <use xlink:href=\"#DejaVuSans-64\" x=\"61.279297\"/>\n      <use xlink:href=\"#DejaVuSans-64\" x=\"124.755859\"/>\n     </g>\n    </g>\n   </g>\n   <g id=\"text_12\">\n    <g clip-path=\"url(#p5811a91a23)\">\n     <!-- add -->\n     <g transform=\"translate(123.777255 164.299788)scale(0.12 -0.12)\">\n      <use xlink:href=\"#DejaVuSans-61\"/>\n      <use xlink:href=\"#DejaVuSans-64\" x=\"61.279297\"/>\n      <use xlink:href=\"#DejaVuSans-64\" x=\"124.755859\"/>\n     </g>\n    </g>\n   </g>\n   <g id=\"text_13\">\n    <g clip-path=\"url(#p5811a91a23)\">\n     <!-- add -->\n     <g transform=\"translate(84.24951 184.26673)scale(0.12 -0.12)\">\n      <use xlink:href=\"#DejaVuSans-61\"/>\n      <use xlink:href=\"#DejaVuSans-64\" x=\"61.279297\"/>\n      <use xlink:href=\"#DejaVuSans-64\" x=\"124.755859\"/>\n     </g>\n    </g>\n   </g>\n   <g id=\"text_14\">\n    <g clip-path=\"url(#p5811a91a23)\">\n     <!-- ARG4 -->\n     <g transform=\"translate(39.276765 204.233673)scale(0.12 -0.12)\">\n      <use xlink:href=\"#DejaVuSans-41\"/>\n      <use xlink:href=\"#DejaVuSans-52\" x=\"68.408203\"/>\n      <use xlink:href=\"#DejaVuSans-47\" x=\"137.890625\"/>\n      <use xlink:href=\"#DejaVuSans-34\" x=\"215.380859\"/>\n     </g>\n    </g>\n   </g>\n   <g id=\"text_15\">\n    <g clip-path=\"url(#p5811a91a23)\">\n     <!-- sin -->\n     <g transform=\"translate(86.94951 204.233673)scale(0.12 -0.12)\">\n      <use xlink:href=\"#DejaVuSans-73\"/>\n      <use xlink:href=\"#DejaVuSans-69\" x=\"52.099609\"/>\n      <use xlink:href=\"#DejaVuSans-6e\" x=\"79.882812\"/>\n     </g>\n    </g>\n   </g>\n   <g id=\"text_16\">\n    <g clip-path=\"url(#p5811a91a23)\">\n     <!-- ARG5 -->\n     <g transform=\"translate(78.80451 224.200615)scale(0.12 -0.12)\">\n      <use xlink:href=\"#DejaVuSans-41\"/>\n      <use xlink:href=\"#DejaVuSans-52\" x=\"68.408203\"/>\n      <use xlink:href=\"#DejaVuSans-47\" x=\"137.890625\"/>\n      <use xlink:href=\"#DejaVuSans-35\" x=\"215.380859\"/>\n     </g>\n    </g>\n   </g>\n   <g id=\"text_17\">\n    <g clip-path=\"url(#p5811a91a23)\">\n     <!-- saveDiv -->\n     <g transform=\"translate(111.188505 184.26673)scale(0.12 -0.12)\">\n      <use xlink:href=\"#DejaVuSans-73\"/>\n      <use xlink:href=\"#DejaVuSans-61\" x=\"52.099609\"/>\n      <use xlink:href=\"#DejaVuSans-76\" x=\"113.378906\"/>\n      <use xlink:href=\"#DejaVuSans-65\" x=\"172.558594\"/>\n      <use xlink:href=\"#DejaVuSans-44\" x=\"234.082031\"/>\n      <use xlink:href=\"#DejaVuSans-69\" x=\"311.083984\"/>\n      <use xlink:href=\"#DejaVuSans-76\" x=\"338.867188\"/>\n     </g>\n    </g>\n   </g>\n   <g id=\"text_18\">\n    <g clip-path=\"url(#p5811a91a23)\">\n     <!-- sin -->\n     <g transform=\"translate(126.477255 204.233673)scale(0.12 -0.12)\">\n      <use xlink:href=\"#DejaVuSans-73\"/>\n      <use xlink:href=\"#DejaVuSans-69\" x=\"52.099609\"/>\n      <use xlink:href=\"#DejaVuSans-6e\" x=\"79.882812\"/>\n     </g>\n    </g>\n   </g>\n   <g id=\"text_19\">\n    <g clip-path=\"url(#p5811a91a23)\">\n     <!-- ARG5 -->\n     <g transform=\"translate(118.332255 224.200615)scale(0.12 -0.12)\">\n      <use xlink:href=\"#DejaVuSans-41\"/>\n      <use xlink:href=\"#DejaVuSans-52\" x=\"68.408203\"/>\n      <use xlink:href=\"#DejaVuSans-47\" x=\"137.890625\"/>\n      <use xlink:href=\"#DejaVuSans-35\" x=\"215.380859\"/>\n     </g>\n    </g>\n   </g>\n   <g id=\"text_20\">\n    <g clip-path=\"url(#p5811a91a23)\">\n     <!-- add -->\n     <g transform=\"translate(163.305 204.233673)scale(0.12 -0.12)\">\n      <use xlink:href=\"#DejaVuSans-61\"/>\n      <use xlink:href=\"#DejaVuSans-64\" x=\"61.279297\"/>\n      <use xlink:href=\"#DejaVuSans-64\" x=\"124.755859\"/>\n     </g>\n    </g>\n   </g>\n   <g id=\"text_21\">\n    <g clip-path=\"url(#p5811a91a23)\">\n     <!-- ARG5 -->\n     <g transform=\"translate(157.86 224.200615)scale(0.12 -0.12)\">\n      <use xlink:href=\"#DejaVuSans-41\"/>\n      <use xlink:href=\"#DejaVuSans-52\" x=\"68.408203\"/>\n      <use xlink:href=\"#DejaVuSans-47\" x=\"137.890625\"/>\n      <use xlink:href=\"#DejaVuSans-35\" x=\"215.380859\"/>\n     </g>\n    </g>\n   </g>\n   <g id=\"text_22\">\n    <g clip-path=\"url(#p5811a91a23)\">\n     <!-- ARG0 -->\n     <g transform=\"translate(197.387745 224.200615)scale(0.12 -0.12)\">\n      <use xlink:href=\"#DejaVuSans-41\"/>\n      <use xlink:href=\"#DejaVuSans-52\" x=\"68.408203\"/>\n      <use xlink:href=\"#DejaVuSans-47\" x=\"137.890625\"/>\n      <use xlink:href=\"#DejaVuSans-30\" x=\"215.380859\"/>\n     </g>\n    </g>\n   </g>\n   <g id=\"text_23\">\n    <g clip-path=\"url(#p5811a91a23)\">\n     <!-- ARG0 -->\n     <g transform=\"translate(157.86 164.299788)scale(0.12 -0.12)\">\n      <use xlink:href=\"#DejaVuSans-41\"/>\n      <use xlink:href=\"#DejaVuSans-52\" x=\"68.408203\"/>\n      <use xlink:href=\"#DejaVuSans-47\" x=\"137.890625\"/>\n      <use xlink:href=\"#DejaVuSans-30\" x=\"215.380859\"/>\n     </g>\n    </g>\n   </g>\n   <g id=\"text_24\">\n    <g clip-path=\"url(#p5811a91a23)\">\n     <!-- 0 -->\n     <g transform=\"translate(151.018628 104.398962)scale(0.12 -0.12)\">\n      <use xlink:href=\"#DejaVuSans-30\"/>\n     </g>\n    </g>\n   </g>\n   <g id=\"text_25\">\n    <g clip-path=\"url(#p5811a91a23)\">\n     <!-- 0 -->\n     <g transform=\"translate(190.546372 84.43202)scale(0.12 -0.12)\">\n      <use xlink:href=\"#DejaVuSans-30\"/>\n     </g>\n    </g>\n   </g>\n   <g id=\"text_26\">\n    <g clip-path=\"url(#p5811a91a23)\">\n     <!-- add -->\n     <g transform=\"translate(222.596617 64.465077)scale(0.12 -0.12)\">\n      <use xlink:href=\"#DejaVuSans-61\"/>\n      <use xlink:href=\"#DejaVuSans-64\" x=\"61.279297\"/>\n      <use xlink:href=\"#DejaVuSans-64\" x=\"124.755859\"/>\n     </g>\n    </g>\n   </g>\n   <g id=\"text_27\">\n    <g clip-path=\"url(#p5811a91a23)\">\n     <!-- add -->\n     <g transform=\"translate(222.596617 84.43202)scale(0.12 -0.12)\">\n      <use xlink:href=\"#DejaVuSans-61\"/>\n      <use xlink:href=\"#DejaVuSans-64\" x=\"61.279297\"/>\n      <use xlink:href=\"#DejaVuSans-64\" x=\"124.755859\"/>\n     </g>\n    </g>\n   </g>\n   <g id=\"text_28\">\n    <g clip-path=\"url(#p5811a91a23)\">\n     <!-- ARG5 -->\n     <g transform=\"translate(177.623872 104.398962)scale(0.12 -0.12)\">\n      <use xlink:href=\"#DejaVuSans-41\"/>\n      <use xlink:href=\"#DejaVuSans-52\" x=\"68.408203\"/>\n      <use xlink:href=\"#DejaVuSans-47\" x=\"137.890625\"/>\n      <use xlink:href=\"#DejaVuSans-35\" x=\"215.380859\"/>\n     </g>\n    </g>\n   </g>\n   <g id=\"text_29\">\n    <g clip-path=\"url(#p5811a91a23)\">\n     <!-- sin -->\n     <g transform=\"translate(225.296617 104.398962)scale(0.12 -0.12)\">\n      <use xlink:href=\"#DejaVuSans-73\"/>\n      <use xlink:href=\"#DejaVuSans-69\" x=\"52.099609\"/>\n      <use xlink:href=\"#DejaVuSans-6e\" x=\"79.882812\"/>\n     </g>\n    </g>\n   </g>\n   <g id=\"text_30\">\n    <g clip-path=\"url(#p5811a91a23)\">\n     <!-- mul -->\n     <g transform=\"translate(222.577867 124.365904)scale(0.12 -0.12)\">\n      <use xlink:href=\"#DejaVuSans-6d\"/>\n      <use xlink:href=\"#DejaVuSans-75\" x=\"97.412109\"/>\n      <use xlink:href=\"#DejaVuSans-6c\" x=\"160.791016\"/>\n     </g>\n    </g>\n   </g>\n   <g id=\"text_31\">\n    <g clip-path=\"url(#p5811a91a23)\">\n     <!-- ARG5 -->\n     <g transform=\"translate(177.623872 144.332846)scale(0.12 -0.12)\">\n      <use xlink:href=\"#DejaVuSans-41\"/>\n      <use xlink:href=\"#DejaVuSans-52\" x=\"68.408203\"/>\n      <use xlink:href=\"#DejaVuSans-47\" x=\"137.890625\"/>\n      <use xlink:href=\"#DejaVuSans-35\" x=\"215.380859\"/>\n     </g>\n    </g>\n   </g>\n   <g id=\"text_32\">\n    <g clip-path=\"url(#p5811a91a23)\">\n     <!-- ARG0 -->\n     <g transform=\"translate(217.151617 144.332846)scale(0.12 -0.12)\">\n      <use xlink:href=\"#DejaVuSans-41\"/>\n      <use xlink:href=\"#DejaVuSans-52\" x=\"68.408203\"/>\n      <use xlink:href=\"#DejaVuSans-47\" x=\"137.890625\"/>\n      <use xlink:href=\"#DejaVuSans-30\" x=\"215.380859\"/>\n     </g>\n    </g>\n   </g>\n   <g id=\"text_33\">\n    <g clip-path=\"url(#p5811a91a23)\">\n     <!-- sin -->\n     <g transform=\"translate(264.824362 84.43202)scale(0.12 -0.12)\">\n      <use xlink:href=\"#DejaVuSans-73\"/>\n      <use xlink:href=\"#DejaVuSans-69\" x=\"52.099609\"/>\n      <use xlink:href=\"#DejaVuSans-6e\" x=\"79.882812\"/>\n     </g>\n    </g>\n   </g>\n   <g id=\"text_34\">\n    <g clip-path=\"url(#p5811a91a23)\">\n     <!-- add -->\n     <g transform=\"translate(262.124362 104.398962)scale(0.12 -0.12)\">\n      <use xlink:href=\"#DejaVuSans-61\"/>\n      <use xlink:href=\"#DejaVuSans-64\" x=\"61.279297\"/>\n      <use xlink:href=\"#DejaVuSans-64\" x=\"124.755859\"/>\n     </g>\n    </g>\n   </g>\n   <g id=\"text_35\">\n    <g clip-path=\"url(#p5811a91a23)\">\n     <!-- add -->\n     <g transform=\"translate(262.124362 124.365904)scale(0.12 -0.12)\">\n      <use xlink:href=\"#DejaVuSans-61\"/>\n      <use xlink:href=\"#DejaVuSans-64\" x=\"61.279297\"/>\n      <use xlink:href=\"#DejaVuSans-64\" x=\"124.755859\"/>\n     </g>\n    </g>\n   </g>\n   <g id=\"text_36\">\n    <g clip-path=\"url(#p5811a91a23)\">\n     <!-- add -->\n     <g transform=\"translate(262.124362 144.332846)scale(0.12 -0.12)\">\n      <use xlink:href=\"#DejaVuSans-61\"/>\n      <use xlink:href=\"#DejaVuSans-64\" x=\"61.279297\"/>\n      <use xlink:href=\"#DejaVuSans-64\" x=\"124.755859\"/>\n     </g>\n    </g>\n   </g>\n   <g id=\"text_37\">\n    <g clip-path=\"url(#p5811a91a23)\">\n     <!-- add -->\n     <g transform=\"translate(242.36049 164.299788)scale(0.12 -0.12)\">\n      <use xlink:href=\"#DejaVuSans-61\"/>\n      <use xlink:href=\"#DejaVuSans-64\" x=\"61.279297\"/>\n      <use xlink:href=\"#DejaVuSans-64\" x=\"124.755859\"/>\n     </g>\n    </g>\n   </g>\n   <g id=\"text_38\">\n    <g clip-path=\"url(#p5811a91a23)\">\n     <!-- ARG4 -->\n     <g transform=\"translate(217.151617 184.26673)scale(0.12 -0.12)\">\n      <use xlink:href=\"#DejaVuSans-41\"/>\n      <use xlink:href=\"#DejaVuSans-52\" x=\"68.408203\"/>\n      <use xlink:href=\"#DejaVuSans-47\" x=\"137.890625\"/>\n      <use xlink:href=\"#DejaVuSans-34\" x=\"215.380859\"/>\n     </g>\n    </g>\n   </g>\n   <g id=\"text_39\">\n    <g clip-path=\"url(#p5811a91a23)\">\n     <!-- saveDiv -->\n     <g transform=\"translate(249.535612 184.26673)scale(0.12 -0.12)\">\n      <use xlink:href=\"#DejaVuSans-73\"/>\n      <use xlink:href=\"#DejaVuSans-61\" x=\"52.099609\"/>\n      <use xlink:href=\"#DejaVuSans-76\" x=\"113.378906\"/>\n      <use xlink:href=\"#DejaVuSans-65\" x=\"172.558594\"/>\n      <use xlink:href=\"#DejaVuSans-44\" x=\"234.082031\"/>\n      <use xlink:href=\"#DejaVuSans-69\" x=\"311.083984\"/>\n      <use xlink:href=\"#DejaVuSans-76\" x=\"338.867188\"/>\n     </g>\n    </g>\n   </g>\n   <g id=\"text_40\">\n    <g clip-path=\"url(#p5811a91a23)\">\n     <!-- ARG0 -->\n     <g transform=\"translate(236.91549 204.233673)scale(0.12 -0.12)\">\n      <use xlink:href=\"#DejaVuSans-41\"/>\n      <use xlink:href=\"#DejaVuSans-52\" x=\"68.408203\"/>\n      <use xlink:href=\"#DejaVuSans-47\" x=\"137.890625\"/>\n      <use xlink:href=\"#DejaVuSans-30\" x=\"215.380859\"/>\n     </g>\n    </g>\n   </g>\n   <g id=\"text_41\">\n    <g clip-path=\"url(#p5811a91a23)\">\n     <!-- ARG1 -->\n     <g transform=\"translate(276.443235 204.233673)scale(0.12 -0.12)\">\n      <defs>\n       <path id=\"DejaVuSans-31\" d=\"M 794 531 \nL 1825 531 \nL 1825 4091 \nL 703 3866 \nL 703 4441 \nL 1819 4666 \nL 2450 4666 \nL 2450 531 \nL 3481 531 \nL 3481 0 \nL 794 0 \nL 794 531 \nz\n\" transform=\"scale(0.015625)\"/>\n      </defs>\n      <use xlink:href=\"#DejaVuSans-41\"/>\n      <use xlink:href=\"#DejaVuSans-52\" x=\"68.408203\"/>\n      <use xlink:href=\"#DejaVuSans-47\" x=\"137.890625\"/>\n      <use xlink:href=\"#DejaVuSans-31\" x=\"215.380859\"/>\n     </g>\n    </g>\n   </g>\n   <g id=\"text_42\">\n    <g clip-path=\"url(#p5811a91a23)\">\n     <!-- 0 -->\n     <g transform=\"translate(289.365735 164.299788)scale(0.12 -0.12)\">\n      <use xlink:href=\"#DejaVuSans-30\"/>\n     </g>\n    </g>\n   </g>\n   <g id=\"text_43\">\n    <g clip-path=\"url(#p5811a91a23)\">\n     <!-- 0 -->\n     <g transform=\"translate(309.129607 144.332846)scale(0.12 -0.12)\">\n      <use xlink:href=\"#DejaVuSans-30\"/>\n     </g>\n    </g>\n   </g>\n   <g id=\"text_44\">\n    <g clip-path=\"url(#p5811a91a23)\">\n     <!-- 0 -->\n     <g transform=\"translate(309.129607 124.365904)scale(0.12 -0.12)\">\n      <use xlink:href=\"#DejaVuSans-30\"/>\n     </g>\n    </g>\n   </g>\n   <g id=\"text_45\">\n    <!-- Best Solution -->\n    <g style=\"fill: #ffffff\" transform=\"translate(134.964375 16.318125)scale(0.12 -0.12)\">\n     <defs>\n      <path id=\"DejaVuSans-42\" d=\"M 1259 2228 \nL 1259 519 \nL 2272 519 \nQ 2781 519 3026 730 \nQ 3272 941 3272 1375 \nQ 3272 1813 3026 2020 \nQ 2781 2228 2272 2228 \nL 1259 2228 \nz\nM 1259 4147 \nL 1259 2741 \nL 2194 2741 \nQ 2656 2741 2882 2914 \nQ 3109 3088 3109 3444 \nQ 3109 3797 2882 3972 \nQ 2656 4147 2194 4147 \nL 1259 4147 \nz\nM 628 4666 \nL 2241 4666 \nQ 2963 4666 3353 4366 \nQ 3744 4066 3744 3513 \nQ 3744 3084 3544 2831 \nQ 3344 2578 2956 2516 \nQ 3422 2416 3680 2098 \nQ 3938 1781 3938 1306 \nQ 3938 681 3513 340 \nQ 3088 0 2303 0 \nL 628 0 \nL 628 4666 \nz\n\" transform=\"scale(0.015625)\"/>\n      <path id=\"DejaVuSans-74\" d=\"M 1172 4494 \nL 1172 3500 \nL 2356 3500 \nL 2356 3053 \nL 1172 3053 \nL 1172 1153 \nQ 1172 725 1289 603 \nQ 1406 481 1766 481 \nL 2356 481 \nL 2356 0 \nL 1766 0 \nQ 1100 0 847 248 \nQ 594 497 594 1153 \nL 594 3053 \nL 172 3053 \nL 172 3500 \nL 594 3500 \nL 594 4494 \nL 1172 4494 \nz\n\" transform=\"scale(0.015625)\"/>\n      <path id=\"DejaVuSans-20\" transform=\"scale(0.015625)\"/>\n      <path id=\"DejaVuSans-53\" d=\"M 3425 4513 \nL 3425 3897 \nQ 3066 4069 2747 4153 \nQ 2428 4238 2131 4238 \nQ 1616 4238 1336 4038 \nQ 1056 3838 1056 3469 \nQ 1056 3159 1242 3001 \nQ 1428 2844 1947 2747 \nL 2328 2669 \nQ 3034 2534 3370 2195 \nQ 3706 1856 3706 1288 \nQ 3706 609 3251 259 \nQ 2797 -91 1919 -91 \nQ 1588 -91 1214 -16 \nQ 841 59 441 206 \nL 441 856 \nQ 825 641 1194 531 \nQ 1563 422 1919 422 \nQ 2459 422 2753 634 \nQ 3047 847 3047 1241 \nQ 3047 1584 2836 1778 \nQ 2625 1972 2144 2069 \nL 1759 2144 \nQ 1053 2284 737 2584 \nQ 422 2884 422 3419 \nQ 422 4038 858 4394 \nQ 1294 4750 2059 4750 \nQ 2388 4750 2728 4690 \nQ 3069 4631 3425 4513 \nz\n\" transform=\"scale(0.015625)\"/>\n      <path id=\"DejaVuSans-6f\" d=\"M 1959 3097 \nQ 1497 3097 1228 2736 \nQ 959 2375 959 1747 \nQ 959 1119 1226 758 \nQ 1494 397 1959 397 \nQ 2419 397 2687 759 \nQ 2956 1122 2956 1747 \nQ 2956 2369 2687 2733 \nQ 2419 3097 1959 3097 \nz\nM 1959 3584 \nQ 2709 3584 3137 3096 \nQ 3566 2609 3566 1747 \nQ 3566 888 3137 398 \nQ 2709 -91 1959 -91 \nQ 1206 -91 779 398 \nQ 353 888 353 1747 \nQ 353 2609 779 3096 \nQ 1206 3584 1959 3584 \nz\n\" transform=\"scale(0.015625)\"/>\n     </defs>\n     <use xlink:href=\"#DejaVuSans-42\"/>\n     <use xlink:href=\"#DejaVuSans-65\" x=\"68.603516\"/>\n     <use xlink:href=\"#DejaVuSans-73\" x=\"130.126953\"/>\n     <use xlink:href=\"#DejaVuSans-74\" x=\"182.226562\"/>\n     <use xlink:href=\"#DejaVuSans-20\" x=\"221.435547\"/>\n     <use xlink:href=\"#DejaVuSans-53\" x=\"253.222656\"/>\n     <use xlink:href=\"#DejaVuSans-6f\" x=\"316.699219\"/>\n     <use xlink:href=\"#DejaVuSans-6c\" x=\"377.880859\"/>\n     <use xlink:href=\"#DejaVuSans-75\" x=\"405.664062\"/>\n     <use xlink:href=\"#DejaVuSans-74\" x=\"469.042969\"/>\n     <use xlink:href=\"#DejaVuSans-69\" x=\"508.251953\"/>\n     <use xlink:href=\"#DejaVuSans-6f\" x=\"536.035156\"/>\n     <use xlink:href=\"#DejaVuSans-6e\" x=\"597.216797\"/>\n    </g>\n   </g>\n  </g>\n </g>\n <defs>\n  <clipPath id=\"p5811a91a23\">\n   <rect x=\"7.2\" y=\"22.318125\" width=\"334.8\" height=\"217.44\"/>\n  </clipPath>\n </defs>\n</svg>\n",
      "text/plain": [
       "<Figure size 432x288 with 1 Axes>"
      ]
     },
     "metadata": {},
     "output_type": "display_data"
    }
   ],
   "source": [
    "\n",
    "for elite in hof:\n",
    "    winner = elite\n",
    "    print (elite)\n",
    "    plot_exprTree(elite, \"Best Solution\")"
   ]
  },
  {
   "cell_type": "code",
   "execution_count": null,
   "metadata": {},
   "outputs": [
    {
     "name": "stdout",
     "output_type": "stream",
     "text": [
      "Mean absolute error for unknown Dataset =  3.5887379721633565\n"
     ]
    }
   ],
   "source": [
    "winner_func = gp.compile(winner, pset)\n",
    "\n",
    "abs_err_agg = 0.0\n",
    "n = len(testDF)\n",
    "\n",
    "for _, case in testDF.iterrows():\n",
    "    abs_err_agg += abs(winner_func(*case[0:8:].values) - case[8:9:].values[0])\n",
    "\n",
    "MAE = abs_err_agg / n\n",
    "\n",
    "print(\"Mean absolute error for unknown Dataset = \", MAE)"
   ]
  }
 ],
 "metadata": {
  "interpreter": {
   "hash": "090724977999aca5ae7f3b814ffb798c1875d99b6c342c4d6b6ae78fa8712948"
  },
  "kernelspec": {
   "display_name": "Python 3.9.12 ('gp_env_ubuntu')",
   "language": "python",
   "name": "python3"
  },
  "language_info": {
   "codemirror_mode": {
    "name": "ipython",
    "version": 3
   },
   "file_extension": ".py",
   "mimetype": "text/x-python",
   "name": "python",
   "nbconvert_exporter": "python",
   "pygments_lexer": "ipython3",
   "version": "3.9.13"
  }
 },
 "nbformat": 4,
 "nbformat_minor": 2
}
