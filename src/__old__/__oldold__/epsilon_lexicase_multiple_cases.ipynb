{
 "cells": [
  {
   "cell_type": "markdown",
   "metadata": {},
   "source": [
    "# Research Experiments on the effect of parent Selection on Generalization for symbolic Regression in GP\n",
    "\n",
    "## Epsilon Lexicase Selection\n",
    "\n",
    "* Masterseminar: SoSe 2022\n",
    "* JGU Mainz\n",
    "* FB 03 Recht-und Wirtschaftswissenschaften\n",
    "* Lehrstuhl für Wirtschaftsinformatik und BWL\n",
    "\n",
    "## Dependencies"
   ]
  },
  {
   "cell_type": "code",
   "execution_count": 1,
   "metadata": {},
   "outputs": [],
   "source": [
    "import numpy as np\n",
    "import pandas as pd\n",
    "import operator\n",
    "from deap import gp, tools, creator, base, algorithms\n",
    "from sklearn.model_selection import train_test_split\n",
    "from typing import Tuple, Dict, Callable\n",
    "import math\n",
    "from random import randint\n"
   ]
  },
  {
   "cell_type": "markdown",
   "metadata": {},
   "source": [
    "## Energy efficiency Data Set\n",
    "\n",
    "Source: https://archive.ics.uci.edu/ml/datasets/energy+efficiency"
   ]
  },
  {
   "cell_type": "code",
   "execution_count": 2,
   "metadata": {},
   "outputs": [],
   "source": [
    "# (re-)download file to ./data\n",
    "\n",
    "# !wget https://archive.ics.uci.edu/ml/machine-learning-databases/00242/ENB2012_data.xlsx -P ./data"
   ]
  },
  {
   "cell_type": "code",
   "execution_count": 3,
   "metadata": {},
   "outputs": [],
   "source": [
    "D_PATH = \"data/ENB2012_data.xlsx\"\n",
    "\n",
    "# TODO: research optimal splitsize!\n",
    "TRAINING_D_SPLITSIZE = 0.5\n",
    "\n",
    "def get_dataSets(datapath: str, train_size: float) -> Tuple[pd.DataFrame, pd.DataFrame]:\n",
    "    \"\"\"Read (excel) dataset at <datapath> and return two randomly split DFs for training/testing\"\"\"\n",
    "    df = pd.read_excel(datapath)\n",
    "    return train_test_split(df, train_size=train_size, test_size=(1-train_size))    \n",
    "\n",
    "trainDF, testDF = get_dataSets(D_PATH, TRAINING_D_SPLITSIZE)"
   ]
  },
  {
   "cell_type": "code",
   "execution_count": 4,
   "metadata": {},
   "outputs": [
    {
     "data": {
      "text/html": [
       "<div>\n",
       "<style scoped>\n",
       "    .dataframe tbody tr th:only-of-type {\n",
       "        vertical-align: middle;\n",
       "    }\n",
       "\n",
       "    .dataframe tbody tr th {\n",
       "        vertical-align: top;\n",
       "    }\n",
       "\n",
       "    .dataframe thead th {\n",
       "        text-align: right;\n",
       "    }\n",
       "</style>\n",
       "<table border=\"1\" class=\"dataframe\">\n",
       "  <thead>\n",
       "    <tr style=\"text-align: right;\">\n",
       "      <th></th>\n",
       "      <th>X1</th>\n",
       "      <th>X2</th>\n",
       "      <th>X3</th>\n",
       "      <th>X4</th>\n",
       "      <th>X5</th>\n",
       "      <th>X6</th>\n",
       "      <th>X7</th>\n",
       "      <th>X8</th>\n",
       "      <th>Y1</th>\n",
       "      <th>Y2</th>\n",
       "    </tr>\n",
       "  </thead>\n",
       "  <tbody>\n",
       "    <tr>\n",
       "      <th>661</th>\n",
       "      <td>0.66</td>\n",
       "      <td>759.5</td>\n",
       "      <td>318.5</td>\n",
       "      <td>220.5</td>\n",
       "      <td>3.5</td>\n",
       "      <td>3</td>\n",
       "      <td>0.40</td>\n",
       "      <td>3</td>\n",
       "      <td>15.18</td>\n",
       "      <td>17.63</td>\n",
       "    </tr>\n",
       "    <tr>\n",
       "      <th>392</th>\n",
       "      <td>0.86</td>\n",
       "      <td>588.0</td>\n",
       "      <td>294.0</td>\n",
       "      <td>147.0</td>\n",
       "      <td>7.0</td>\n",
       "      <td>2</td>\n",
       "      <td>0.25</td>\n",
       "      <td>3</td>\n",
       "      <td>28.40</td>\n",
       "      <td>33.52</td>\n",
       "    </tr>\n",
       "    <tr>\n",
       "      <th>93</th>\n",
       "      <td>0.62</td>\n",
       "      <td>808.5</td>\n",
       "      <td>367.5</td>\n",
       "      <td>220.5</td>\n",
       "      <td>3.5</td>\n",
       "      <td>3</td>\n",
       "      <td>0.10</td>\n",
       "      <td>1</td>\n",
       "      <td>12.97</td>\n",
       "      <td>14.50</td>\n",
       "    </tr>\n",
       "    <tr>\n",
       "      <th>575</th>\n",
       "      <td>0.62</td>\n",
       "      <td>808.5</td>\n",
       "      <td>367.5</td>\n",
       "      <td>220.5</td>\n",
       "      <td>3.5</td>\n",
       "      <td>5</td>\n",
       "      <td>0.40</td>\n",
       "      <td>1</td>\n",
       "      <td>17.14</td>\n",
       "      <td>17.20</td>\n",
       "    </tr>\n",
       "    <tr>\n",
       "      <th>81</th>\n",
       "      <td>0.69</td>\n",
       "      <td>735.0</td>\n",
       "      <td>294.0</td>\n",
       "      <td>220.5</td>\n",
       "      <td>3.5</td>\n",
       "      <td>3</td>\n",
       "      <td>0.10</td>\n",
       "      <td>1</td>\n",
       "      <td>11.13</td>\n",
       "      <td>14.61</td>\n",
       "    </tr>\n",
       "  </tbody>\n",
       "</table>\n",
       "</div>"
      ],
      "text/plain": [
       "       X1     X2     X3     X4   X5  X6    X7  X8     Y1     Y2\n",
       "661  0.66  759.5  318.5  220.5  3.5   3  0.40   3  15.18  17.63\n",
       "392  0.86  588.0  294.0  147.0  7.0   2  0.25   3  28.40  33.52\n",
       "93   0.62  808.5  367.5  220.5  3.5   3  0.10   1  12.97  14.50\n",
       "575  0.62  808.5  367.5  220.5  3.5   5  0.40   1  17.14  17.20\n",
       "81   0.69  735.0  294.0  220.5  3.5   3  0.10   1  11.13  14.61"
      ]
     },
     "execution_count": 4,
     "metadata": {},
     "output_type": "execute_result"
    }
   ],
   "source": [
    "trainDF.head()"
   ]
  },
  {
   "cell_type": "code",
   "execution_count": 5,
   "metadata": {},
   "outputs": [
    {
     "data": {
      "text/html": [
       "<div>\n",
       "<style scoped>\n",
       "    .dataframe tbody tr th:only-of-type {\n",
       "        vertical-align: middle;\n",
       "    }\n",
       "\n",
       "    .dataframe tbody tr th {\n",
       "        vertical-align: top;\n",
       "    }\n",
       "\n",
       "    .dataframe thead th {\n",
       "        text-align: right;\n",
       "    }\n",
       "</style>\n",
       "<table border=\"1\" class=\"dataframe\">\n",
       "  <thead>\n",
       "    <tr style=\"text-align: right;\">\n",
       "      <th></th>\n",
       "      <th>X1</th>\n",
       "      <th>X2</th>\n",
       "      <th>X3</th>\n",
       "      <th>X4</th>\n",
       "      <th>X5</th>\n",
       "      <th>X6</th>\n",
       "      <th>X7</th>\n",
       "      <th>X8</th>\n",
       "      <th>Y1</th>\n",
       "      <th>Y2</th>\n",
       "    </tr>\n",
       "  </thead>\n",
       "  <tbody>\n",
       "    <tr>\n",
       "      <th>count</th>\n",
       "      <td>384.000000</td>\n",
       "      <td>384.000000</td>\n",
       "      <td>384.000000</td>\n",
       "      <td>384.000000</td>\n",
       "      <td>384.000000</td>\n",
       "      <td>384.000000</td>\n",
       "      <td>384.000000</td>\n",
       "      <td>384.000000</td>\n",
       "      <td>384.000000</td>\n",
       "      <td>384.000000</td>\n",
       "    </tr>\n",
       "    <tr>\n",
       "      <th>mean</th>\n",
       "      <td>0.763620</td>\n",
       "      <td>671.963542</td>\n",
       "      <td>321.052083</td>\n",
       "      <td>175.455729</td>\n",
       "      <td>5.277344</td>\n",
       "      <td>3.453125</td>\n",
       "      <td>0.230990</td>\n",
       "      <td>2.888021</td>\n",
       "      <td>22.406995</td>\n",
       "      <td>24.563724</td>\n",
       "    </tr>\n",
       "    <tr>\n",
       "      <th>std</th>\n",
       "      <td>0.105175</td>\n",
       "      <td>87.703542</td>\n",
       "      <td>46.198585</td>\n",
       "      <td>45.620919</td>\n",
       "      <td>1.752069</td>\n",
       "      <td>1.068363</td>\n",
       "      <td>0.130286</td>\n",
       "      <td>1.553388</td>\n",
       "      <td>10.043404</td>\n",
       "      <td>9.419898</td>\n",
       "    </tr>\n",
       "    <tr>\n",
       "      <th>min</th>\n",
       "      <td>0.620000</td>\n",
       "      <td>514.500000</td>\n",
       "      <td>245.000000</td>\n",
       "      <td>110.250000</td>\n",
       "      <td>3.500000</td>\n",
       "      <td>2.000000</td>\n",
       "      <td>0.000000</td>\n",
       "      <td>0.000000</td>\n",
       "      <td>6.010000</td>\n",
       "      <td>10.940000</td>\n",
       "    </tr>\n",
       "    <tr>\n",
       "      <th>25%</th>\n",
       "      <td>0.690000</td>\n",
       "      <td>612.500000</td>\n",
       "      <td>294.000000</td>\n",
       "      <td>122.500000</td>\n",
       "      <td>3.500000</td>\n",
       "      <td>3.000000</td>\n",
       "      <td>0.100000</td>\n",
       "      <td>2.000000</td>\n",
       "      <td>12.945000</td>\n",
       "      <td>15.485000</td>\n",
       "    </tr>\n",
       "    <tr>\n",
       "      <th>50%</th>\n",
       "      <td>0.760000</td>\n",
       "      <td>661.500000</td>\n",
       "      <td>318.500000</td>\n",
       "      <td>147.000000</td>\n",
       "      <td>7.000000</td>\n",
       "      <td>3.000000</td>\n",
       "      <td>0.250000</td>\n",
       "      <td>3.000000</td>\n",
       "      <td>19.915000</td>\n",
       "      <td>24.610000</td>\n",
       "    </tr>\n",
       "    <tr>\n",
       "      <th>75%</th>\n",
       "      <td>0.820000</td>\n",
       "      <td>735.000000</td>\n",
       "      <td>343.000000</td>\n",
       "      <td>220.500000</td>\n",
       "      <td>7.000000</td>\n",
       "      <td>4.000000</td>\n",
       "      <td>0.400000</td>\n",
       "      <td>4.000000</td>\n",
       "      <td>31.660000</td>\n",
       "      <td>33.132500</td>\n",
       "    </tr>\n",
       "    <tr>\n",
       "      <th>max</th>\n",
       "      <td>0.980000</td>\n",
       "      <td>808.500000</td>\n",
       "      <td>416.500000</td>\n",
       "      <td>220.500000</td>\n",
       "      <td>7.000000</td>\n",
       "      <td>5.000000</td>\n",
       "      <td>0.400000</td>\n",
       "      <td>5.000000</td>\n",
       "      <td>42.770000</td>\n",
       "      <td>47.010000</td>\n",
       "    </tr>\n",
       "  </tbody>\n",
       "</table>\n",
       "</div>"
      ],
      "text/plain": [
       "               X1          X2          X3          X4          X5          X6  \\\n",
       "count  384.000000  384.000000  384.000000  384.000000  384.000000  384.000000   \n",
       "mean     0.763620  671.963542  321.052083  175.455729    5.277344    3.453125   \n",
       "std      0.105175   87.703542   46.198585   45.620919    1.752069    1.068363   \n",
       "min      0.620000  514.500000  245.000000  110.250000    3.500000    2.000000   \n",
       "25%      0.690000  612.500000  294.000000  122.500000    3.500000    3.000000   \n",
       "50%      0.760000  661.500000  318.500000  147.000000    7.000000    3.000000   \n",
       "75%      0.820000  735.000000  343.000000  220.500000    7.000000    4.000000   \n",
       "max      0.980000  808.500000  416.500000  220.500000    7.000000    5.000000   \n",
       "\n",
       "               X7          X8          Y1          Y2  \n",
       "count  384.000000  384.000000  384.000000  384.000000  \n",
       "mean     0.230990    2.888021   22.406995   24.563724  \n",
       "std      0.130286    1.553388   10.043404    9.419898  \n",
       "min      0.000000    0.000000    6.010000   10.940000  \n",
       "25%      0.100000    2.000000   12.945000   15.485000  \n",
       "50%      0.250000    3.000000   19.915000   24.610000  \n",
       "75%      0.400000    4.000000   31.660000   33.132500  \n",
       "max      0.400000    5.000000   42.770000   47.010000  "
      ]
     },
     "execution_count": 5,
     "metadata": {},
     "output_type": "execute_result"
    }
   ],
   "source": [
    "trainDF.describe()"
   ]
  },
  {
   "cell_type": "markdown",
   "metadata": {},
   "source": [
    "## Data Visualization"
   ]
  },
  {
   "cell_type": "code",
   "execution_count": 6,
   "metadata": {},
   "outputs": [],
   "source": [
    "from matplotlib import pyplot as plt\n",
    "import networkx as nx\n",
    "import pygraphviz as pgv\n",
    "\n",
    "%matplotlib inline\n",
    "\n",
    "def plot_exprTree(expr_tree, title:str) -> None:\n",
    "    \"\"\"plots an expression tree\"\"\"\n",
    "    nodes, edges, labels = gp.graph(expr_tree)\n",
    "\n",
    "    g = nx.Graph()\n",
    "    g.add_nodes_from(nodes)\n",
    "    g.add_edges_from(edges)\n",
    "    \n",
    "    pos = nx.drawing.nx_agraph.graphviz_layout(g, prog=\"dot\")\n",
    "\n",
    "    nx.draw_networkx_nodes(g, pos)\n",
    "    nx.draw_networkx_edges(g, pos)\n",
    "    nx.draw_networkx_labels(g, pos, labels)\n",
    "\n",
    "    plt.title(title)\n",
    "    plt.show()"
   ]
  },
  {
   "cell_type": "markdown",
   "metadata": {},
   "source": [
    "## GP System Setup"
   ]
  },
  {
   "cell_type": "markdown",
   "metadata": {},
   "source": [
    "### Primitive set"
   ]
  },
  {
   "cell_type": "code",
   "execution_count": 7,
   "metadata": {},
   "outputs": [],
   "source": [
    "UVS = {\n",
    "    \"ARG0\" : \"X1\",\n",
    "    \"ARG1\" : \"X2\",\n",
    "    \"ARG2\" : \"X3\",\n",
    "    \"ARG3\" : \"X4\",\n",
    "    \"ARG4\" : \"X5\",\n",
    "    \"ARG5\" : \"X6\",\n",
    "    \"ARG6\" : \"X7\",\n",
    "    \"ARG7\" : \"X8\",\n",
    "}\n",
    "\n",
    "# register the Primitive Set\n",
    "pset = gp.PrimitiveSet(\"MAIN\", arity=len(UVS))\n",
    "\n",
    "# rename ARGS to match the dataset\n",
    "for arg, des in UVS.items():\n",
    "    pset.renameArguments(arg=des)\n"
   ]
  },
  {
   "cell_type": "code",
   "execution_count": 8,
   "metadata": {},
   "outputs": [],
   "source": [
    "# adding functions\n",
    "\n",
    "def saveDiv(lhs, rhs) -> float:\n",
    "    \"\"\"\n",
    "    GP-save implementation of Division\n",
    "    [@poli08:fieldguide, p.22]\n",
    "    \"\"\"\n",
    "    if rhs == 0:\n",
    "        return 1\n",
    "    return lhs / rhs\n",
    "\n",
    "\n",
    "operators = (\n",
    "    (operator.add, 2),\n",
    "    (operator.sub, 2),\n",
    "    (operator.mul, 2),\n",
    "    (saveDiv, 2),\n",
    "    (math.sin, 1),\n",
    "    (math.cos, 1),\n",
    "    # FIXME: (math.exp, 1),\n",
    "    # FIXME: (math.log, 1),\n",
    "    (operator.neg, 1)\n",
    ")\n",
    "\n",
    "for (func, arity) in operators:\n",
    "    pset.addPrimitive(func, arity)\n",
    "\n",
    "pset.addEphemeralConstant(\"rand1\", lambda: randint(-1,1))"
   ]
  },
  {
   "cell_type": "markdown",
   "metadata": {},
   "source": [
    "### Custom Types"
   ]
  },
  {
   "cell_type": "code",
   "execution_count": 9,
   "metadata": {},
   "outputs": [],
   "source": [
    "# min fitness object\n",
    "\n",
    "# objective: minimize MAD for y1\n",
    "\n",
    "creator.create(\"FitnessMin\", base.Fitness, weights=(-1.0,))\n"
   ]
  },
  {
   "cell_type": "code",
   "execution_count": 10,
   "metadata": {},
   "outputs": [],
   "source": [
    "# individuals program\n",
    "creator.create(\"Individual\", gp.PrimitiveTree, fitness=creator.FitnessMin)"
   ]
  },
  {
   "cell_type": "markdown",
   "metadata": {},
   "source": [
    "## Algorithmic specifications"
   ]
  },
  {
   "cell_type": "code",
   "execution_count": 11,
   "metadata": {},
   "outputs": [],
   "source": [
    "# TODO: research alternatives\n",
    "\n",
    "toolbox = base.Toolbox()\n",
    "toolbox.register(\"expr\", gp.genHalfAndHalf, pset=pset, min_=1, max_=2)\n",
    "toolbox.register(\"individual\", tools.initIterate, creator.Individual, toolbox.expr)\n",
    "toolbox.register(\"population\", tools.initRepeat, list, toolbox.individual)\n",
    "toolbox.register(\"compile\", gp.compile, pset=pset)"
   ]
  },
  {
   "cell_type": "code",
   "execution_count": 12,
   "metadata": {},
   "outputs": [],
   "source": [
    "# fitness function for all fitness case:\n",
    "def evaluate_df_y1_symReg (individual:creator.Individual, df:pd.core.frame.DataFrame) -> tuple[float]:\n",
    "    \"\"\"\n",
    "    Evaluates an individual program for all fitness cases (=rows of pd.dataframe) inside the dataframe, computes and returns the mean absolute error for prediction and outcome for y1 and model prediction\n",
    "    \"\"\"\n",
    "    # Transform the tree expression in a callable function\n",
    "    compiled_individual = toolbox.compile(expr=individual)\n",
    "\n",
    "    def evaluate_single_case_y1_symReg(func:Callable, case:pd.core.series.Series) -> float:\n",
    "        \"\"\"\n",
    "        Evaluates an individual, compiled program for a single fitness case (=row of pd.dataframe), computes and returns the absolute error for prediction and outcome for y1 and model prediction\n",
    "        \"\"\"\n",
    "        # compute individual with case variables\n",
    "        y1_prediction = func(*case[0:8:].values)\n",
    "\n",
    "        # optimal value:\n",
    "        y1_value = case[8:9:].values[0]\n",
    "\n",
    "        # compute absolute difference and return\n",
    "        abs_error = abs(y1_prediction - y1_value)\n",
    "        return (abs_error)\n",
    "    \n",
    "    n = len(df)\n",
    "    abs_error_aggregate = 0.0\n",
    "\n",
    "    # iterate through all fitness cases and aggregate absolute errors\n",
    "    for _, fitness_case in df.iterrows():\n",
    "        abs_error_aggregate += evaluate_single_case_y1_symReg(func=compiled_individual, case=fitness_case)\n",
    "    \n",
    "    # compute and return MAE\n",
    "    mean_absolute_error = abs_error_aggregate / n\n",
    "    return (mean_absolute_error, )\n"
   ]
  },
  {
   "cell_type": "code",
   "execution_count": 13,
   "metadata": {},
   "outputs": [],
   "source": [
    "# GP system setup\n",
    "\n",
    "toolbox.register(\"evaluate\", evaluate_df_y1_symReg, df=trainDF)\n",
    "\n",
    "# registration:\n",
    "toolbox.register(\"select\", tools.selAutomaticEpsilonLexicase)\n",
    "toolbox.register(\"mate\", gp.cxOnePoint)\n",
    "toolbox.register(\"expr_mut\", gp.genFull, min_=0, max_=2)\n",
    "toolbox.register(\"mutate\", gp.mutUniform, expr=toolbox.expr_mut, pset=pset)\n",
    "\n",
    "# decoration:\n",
    "toolbox.decorate(\"mate\", gp.staticLimit(key=operator.attrgetter(\"height\"), max_value=17))\n",
    "toolbox.decorate(\"mutate\", gp.staticLimit(key=operator.attrgetter(\"height\"), max_value=17))"
   ]
  },
  {
   "cell_type": "markdown",
   "metadata": {},
   "source": [
    "## Statistics"
   ]
  },
  {
   "cell_type": "code",
   "execution_count": 14,
   "metadata": {},
   "outputs": [],
   "source": [
    "stats_fit = tools.Statistics(lambda ind: ind.fitness.values)\n",
    "stats_size = tools.Statistics(len)\n",
    "mstats = tools.MultiStatistics(fitness=stats_fit, size=stats_size)\n",
    "mstats.register(\"avg\", np.mean)\n",
    "mstats.register(\"std\", np.std)\n",
    "mstats.register(\"min\", np.min)\n",
    "mstats.register(\"max\", np.max)"
   ]
  },
  {
   "cell_type": "code",
   "execution_count": 18,
   "metadata": {},
   "outputs": [
    {
     "name": "stdout",
     "output_type": "stream",
     "text": [
      "   \t      \t                    fitness                    \t                      size                     \n",
      "   \t      \t-----------------------------------------------\t-----------------------------------------------\n",
      "gen\tnevals\tavg    \tgen\tmax   \tmin    \tnevals\tstd    \tavg    \tgen\tmax\tmin\tnevals\tstd    \n",
      "0  \t300   \t3370.17\t0  \t551898\t6.99196\t300   \t34933.2\t3.43333\t0  \t7  \t2  \t300   \t1.42556\n",
      "1  \t162   \t56.2195\t1  \t5113.21\t6.99196\t162   \t372.94 \t3.07333\t1  \t9  \t1  \t162   \t0.669295\n",
      "2  \t170   \t83.5211\t2  \t12131  \t6.99196\t170   \t725.223\t3.12667\t2  \t9  \t1  \t170   \t0.814835\n",
      "3  \t169   \t95.2569\t3  \t15357.5\t6.99196\t169   \t923.763\t3.1    \t3  \t9  \t1  \t169   \t0.675771\n",
      "4  \t183   \t390.236\t4  \t105181 \t6.99196\t183   \t6064.39\t3.13333\t4  \t8  \t1  \t183   \t0.689605\n",
      "5  \t164   \t1454.26\t5  \t420344 \t6.99196\t164   \t24231.5\t3.08   \t5  \t9  \t1  \t164   \t0.616658\n",
      "6  \t159   \t46.697 \t6  \t3393.75\t6.99196\t159   \t296.092\t3.18   \t6  \t9  \t1  \t159   \t0.909725\n",
      "7  \t174   \t29.5881\t7  \t1130.12\t6.99196\t174   \t130.364\t3.12333\t7  \t7  \t1  \t174   \t0.698657\n",
      "8  \t180   \t64.8391\t8  \t3393.75\t6.99196\t180   \t350.383\t3.27333\t8  \t9  \t1  \t180   \t1.08564 \n",
      "9  \t161   \t53.2463\t9  \t3393.75\t6.99196\t161   \t313.025\t3.02   \t9  \t8  \t1  \t161   \t0.553414\n",
      "10 \t155   \t28.0743\t10 \t1697.06\t6.99196\t155   \t133.731\t3.17333\t10 \t9  \t1  \t155   \t0.789486\n",
      "11 \t160   \t828.482\t11 \t219922 \t6.99196\t160   \t12682.5\t3.13333\t11 \t9  \t1  \t160   \t0.749815\n",
      "12 \t163   \t58.0396\t12 \t3438.56\t6.99196\t163   \t311.419\t3.15333\t12 \t9  \t1  \t163   \t0.695094\n",
      "13 \t166   \t1443.97\t13 \t419219 \t6.99196\t166   \t24162  \t3.11667\t13 \t9  \t1  \t166   \t0.79774 \n",
      "14 \t184   \t11859.4\t14 \t2.23531e+06\t6.99196\t184   \t148645 \t3.23   \t14 \t9  \t3  \t184   \t0.968039\n",
      "15 \t157   \t56.5212\t15 \t3399.03    \t6.99196\t157   \t330.379\t3.2    \t15 \t9  \t1  \t157   \t0.890693\n",
      "16 \t148   \t50.479 \t16 \t2296.61    \t6.99196\t148   \t259.498\t3.09   \t16 \t9  \t1  \t148   \t0.639192\n",
      "17 \t148   \t32.187 \t17 \t2296.61    \t6.99196\t148   \t199.211\t3.09667\t17 \t8  \t1  \t148   \t0.693293\n",
      "18 \t149   \t23.4792\t18 \t1920.54    \t6.99196\t149   \t135.825\t3.12   \t18 \t9  \t1  \t149   \t0.682349\n",
      "19 \t146   \t155.261\t19 \t32838.2    \t6.99196\t146   \t1901.91\t3.15333\t19 \t9  \t1  \t146   \t0.826532\n",
      "20 \t164   \t64.016 \t20 \t4400.35    \t6.99196\t164   \t362.554\t3.05667\t20 \t9  \t1  \t164   \t0.653291\n",
      "21 \t175   \t63.4369\t21 \t15402.3    \t6.96965\t175   \t888.425\t3.08333\t21 \t9  \t1  \t175   \t0.685363\n",
      "22 \t151   \t54.9967\t22 \t3934.44    \t6.9325 \t151   \t322.906\t5.13   \t22 \t13 \t1  \t151   \t1.24356 \n",
      "23 \t151   \t50.7634\t23 \t8303.96    \t6.9325 \t151   \t487.476\t6.01667\t23 \t12 \t1  \t151   \t1.35513 \n",
      "24 \t164   \t69.2361\t24 \t12042      \t6.9325 \t164   \t707.742\t6.02333\t24 \t12 \t1  \t164   \t1.27389 \n",
      "25 \t167   \t33.3447\t25 \t2314.82    \t6.9325 \t167   \t183.845\t5.99   \t25 \t12 \t1  \t167   \t1.40115 \n",
      "26 \t169   \t39.8599\t26 \t5265.13    \t6.9325 \t169   \t332.95 \t5.98   \t26 \t14 \t1  \t169   \t1.49653 \n",
      "27 \t189   \t47.3772\t27 \t3790.57    \t6.9325 \t189   \t305.69 \t6.06333\t27 \t13 \t1  \t189   \t1.49421 \n",
      "28 \t161   \t702.029\t28 \t191992     \t6.9325 \t161   \t11067.7\t6.08   \t28 \t15 \t1  \t161   \t1.8494  \n",
      "29 \t159   \t679.912\t29 \t191962     \t6.9325 \t159   \t11065.9\t5.72   \t29 \t12 \t1  \t159   \t1.66181 \n",
      "30 \t157   \t3869.23\t30 \t1.10719e+06\t6.81671\t157   \t63829.9\t6.11667\t30 \t12 \t1  \t157   \t1.24755 \n",
      "31 \t176   \t677.27 \t31 \t190543     \t6.34321\t176   \t10983  \t6.06333\t31 \t12 \t1  \t176   \t1.39976 \n",
      "32 \t179   \t684.612\t32 \t191963     \t5.01537\t179   \t11065  \t6.03   \t32 \t12 \t1  \t179   \t1.44075 \n",
      "33 \t160   \t753.052\t33 \t105335     \t4.66072\t160   \t6758.48\t10.9   \t33 \t17 \t1  \t160   \t2.38397 \n",
      "34 \t172   \t252.043\t34 \t22000.8    \t4.60098\t172   \t1690.32\t13.1133\t34 \t21 \t1  \t172   \t2.26432 \n",
      "35 \t178   \t102.124\t35 \t5757.58    \t4.5838 \t178   \t446.598\t14.5733\t35 \t33 \t2  \t178   \t4.47861 \n",
      "36 \t163   \t2033.93\t36 \t466925     \t4.59978\t163   \t27550  \t14.88  \t36 \t33 \t2  \t163   \t4.08562 \n",
      "37 \t170   \t4411.77\t37 \t1.22695e+06\t4.59978\t170   \t70776.4\t16.98  \t37 \t29 \t3  \t170   \t3.31455 \n",
      "38 \t168   \t30218.3\t38 \t6.48224e+06\t4.59978\t168   \t386274 \t16.8233\t38 \t29 \t1  \t168   \t3.55417 \n",
      "39 \t160   \t335.66 \t39 \t31162.9    \t4.59978\t160   \t2614.27\t16.7267\t39 \t29 \t5  \t160   \t3.4533  \n",
      "40 \t172   \t1192.36\t40 \t142701     \t4.49519\t172   \t8970.1 \t16.4   \t40 \t29 \t2  \t172   \t3.90896 \n"
     ]
    }
   ],
   "source": [
    "pop = toolbox.population(n=300)\n",
    "hof = tools.HallOfFame(1)\n",
    "pop, log = algorithms.eaSimple(pop, toolbox, 0.5, 0.1, 40, stats=mstats, halloffame=hof, verbose=True)"
   ]
  },
  {
   "cell_type": "code",
   "execution_count": 19,
   "metadata": {},
   "outputs": [
    {
     "name": "stdout",
     "output_type": "stream",
     "text": [
      "mul(add(ARG5, ARG4), saveDiv(saveDiv(ARG2, -1), sub(mul(saveDiv(mul(ARG4, ARG6), ARG2), mul(ARG1, ARG4)), ARG3)))\n"
     ]
    },
    {
     "data": {
      "image/png": "[encoded data removed]",
      "image/svg+xml": "<?xml version=\"1.0\" encoding=\"utf-8\" standalone=\"no\"?>\n<!DOCTYPE svg PUBLIC \"-//W3C//DTD SVG 1.1//EN\"\n  \"http://www.w3.org/Graphics/SVG/1.1/DTD/svg11.dtd\">\n<svg xmlns:xlink=\"http://www.w3.org/1999/xlink\" width=\"349.2pt\" height=\"246.958125pt\" viewBox=\"0 0 349.2 246.958125\" xmlns=\"http://www.w3.org/2000/svg\" version=\"1.1\">\n <metadata>\n  <rdf:RDF xmlns:dc=\"http://purl.org/dc/elements/1.1/\" xmlns:cc=\"http://creativecommons.org/ns#\" xmlns:rdf=\"http://www.w3.org/1999/02/22-rdf-syntax-ns#\">\n   <cc:Work>\n    <dc:type rdf:resource=\"http://purl.org/dc/dcmitype/StillImage\"/>\n    <dc:date>2022-05-17T16:06:44.209536</dc:date>\n    <dc:format>image/svg+xml</dc:format>\n    <dc:creator>\n     <cc:Agent>\n      <dc:title>Matplotlib v3.5.1, https://matplotlib.org/</dc:title>\n     </cc:Agent>\n    </dc:creator>\n   </cc:Work>\n  </rdf:RDF>\n </metadata>\n <defs>\n  <style type=\"text/css\">*{stroke-linejoin: round; stroke-linecap: butt}</style>\n </defs>\n <g id=\"figure_1\">\n  <g id=\"patch_1\">\n   <path d=\"M 0 246.958125 \nL 349.2 246.958125 \nL 349.2 0 \nL 0 0 \nL 0 246.958125 \nz\n\" style=\"fill: none\"/>\n  </g>\n  <g id=\"axes_1\">\n   <g id=\"patch_2\">\n    <path d=\"M 7.2 239.758125 \nL 342 239.758125 \nL 342 22.318125 \nL 7.2 22.318125 \nz\n\"/>\n   </g>\n   <g id=\"LineCollection_1\">\n    <path d=\"M 128.484298 41.186885 \nL 97.740496 71.137299 \n\" clip-path=\"url(#pfedcc427f2)\" style=\"fill: none; stroke: #000000\"/>\n    <path d=\"M 128.484298 41.186885 \nL 159.228099 71.137299 \n\" clip-path=\"url(#pfedcc427f2)\" style=\"fill: none; stroke: #000000\"/>\n    <path d=\"M 97.740496 71.137299 \nL 36.252893 101.087712 \n\" clip-path=\"url(#pfedcc427f2)\" style=\"fill: none; stroke: #000000\"/>\n    <path d=\"M 97.740496 71.137299 \nL 97.740496 101.087712 \n\" clip-path=\"url(#pfedcc427f2)\" style=\"fill: none; stroke: #000000\"/>\n    <path d=\"M 159.228099 71.137299 \nL 159.228099 101.087712 \n\" clip-path=\"url(#pfedcc427f2)\" style=\"fill: none; stroke: #000000\"/>\n    <path d=\"M 159.228099 71.137299 \nL 220.715702 101.087712 \n\" clip-path=\"url(#pfedcc427f2)\" style=\"fill: none; stroke: #000000\"/>\n    <path d=\"M 159.228099 101.087712 \nL 97.740496 131.038125 \n\" clip-path=\"url(#pfedcc427f2)\" style=\"fill: none; stroke: #000000\"/>\n    <path d=\"M 159.228099 101.087712 \nL 159.228099 131.038125 \n\" clip-path=\"url(#pfedcc427f2)\" style=\"fill: none; stroke: #000000\"/>\n    <path d=\"M 220.715702 101.087712 \nL 220.715702 131.038125 \n\" clip-path=\"url(#pfedcc427f2)\" style=\"fill: none; stroke: #000000\"/>\n    <path d=\"M 220.715702 101.087712 \nL 282.203306 131.038125 \n\" clip-path=\"url(#pfedcc427f2)\" style=\"fill: none; stroke: #000000\"/>\n    <path d=\"M 220.715702 131.038125 \nL 189.971901 160.988538 \n\" clip-path=\"url(#pfedcc427f2)\" style=\"fill: none; stroke: #000000\"/>\n    <path d=\"M 220.715702 131.038125 \nL 251.459504 160.988538 \n\" clip-path=\"url(#pfedcc427f2)\" style=\"fill: none; stroke: #000000\"/>\n    <path d=\"M 189.971901 160.988538 \nL 128.484298 190.938951 \n\" clip-path=\"url(#pfedcc427f2)\" style=\"fill: none; stroke: #000000\"/>\n    <path d=\"M 189.971901 160.988538 \nL 189.971901 190.938951 \n\" clip-path=\"url(#pfedcc427f2)\" style=\"fill: none; stroke: #000000\"/>\n    <path d=\"M 128.484298 190.938951 \nL 97.740496 220.889365 \n\" clip-path=\"url(#pfedcc427f2)\" style=\"fill: none; stroke: #000000\"/>\n    <path d=\"M 128.484298 190.938951 \nL 159.228099 220.889365 \n\" clip-path=\"url(#pfedcc427f2)\" style=\"fill: none; stroke: #000000\"/>\n    <path d=\"M 251.459504 160.988538 \nL 251.459504 190.938951 \n\" clip-path=\"url(#pfedcc427f2)\" style=\"fill: none; stroke: #000000\"/>\n    <path d=\"M 251.459504 160.988538 \nL 312.947107 190.938951 \n\" clip-path=\"url(#pfedcc427f2)\" style=\"fill: none; stroke: #000000\"/>\n   </g>\n   <g id=\"matplotlib.axis_1\">\n    <g id=\"xtick_1\"/>\n    <g id=\"xtick_2\"/>\n    <g id=\"xtick_3\"/>\n    <g id=\"xtick_4\"/>\n    <g id=\"xtick_5\"/>\n    <g id=\"xtick_6\"/>\n    <g id=\"xtick_7\"/>\n    <g id=\"xtick_8\"/>\n   </g>\n   <g id=\"matplotlib.axis_2\">\n    <g id=\"ytick_1\"/>\n    <g id=\"ytick_2\"/>\n    <g id=\"ytick_3\"/>\n    <g id=\"ytick_4\"/>\n    <g id=\"ytick_5\"/>\n   </g>\n   <g id=\"PathCollection_1\">\n    <defs>\n     <path id=\"m1d89ca5e1f\" d=\"M 0 8.660254 \nC 2.296726 8.660254 4.499694 7.747755 6.123724 6.123724 \nC 7.747755 4.499694 8.660254 2.296726 8.660254 0 \nC 8.660254 -2.296726 7.747755 -4.499694 6.123724 -6.123724 \nC 4.499694 -7.747755 2.296726 -8.660254 0 -8.660254 \nC -2.296726 -8.660254 -4.499694 -7.747755 -6.123724 -6.123724 \nC -7.747755 -4.499694 -8.660254 -2.296726 -8.660254 0 \nC -8.660254 2.296726 -7.747755 4.499694 -6.123724 6.123724 \nC -4.499694 7.747755 -2.296726 8.660254 0 8.660254 \nz\n\" style=\"stroke: #1f78b4\"/>\n    </defs>\n    <g clip-path=\"url(#pfedcc427f2)\">\n     <use xlink:href=\"#m1d89ca5e1f\" x=\"128.484298\" y=\"41.186885\" style=\"fill: #1f78b4; stroke: #1f78b4\"/>\n     <use xlink:href=\"#m1d89ca5e1f\" x=\"97.740496\" y=\"71.137299\" style=\"fill: #1f78b4; stroke: #1f78b4\"/>\n     <use xlink:href=\"#m1d89ca5e1f\" x=\"36.252893\" y=\"101.087712\" style=\"fill: #1f78b4; stroke: #1f78b4\"/>\n     <use xlink:href=\"#m1d89ca5e1f\" x=\"97.740496\" y=\"101.087712\" style=\"fill: #1f78b4; stroke: #1f78b4\"/>\n     <use xlink:href=\"#m1d89ca5e1f\" x=\"159.228099\" y=\"71.137299\" style=\"fill: #1f78b4; stroke: #1f78b4\"/>\n     <use xlink:href=\"#m1d89ca5e1f\" x=\"159.228099\" y=\"101.087712\" style=\"fill: #1f78b4; stroke: #1f78b4\"/>\n     <use xlink:href=\"#m1d89ca5e1f\" x=\"97.740496\" y=\"131.038125\" style=\"fill: #1f78b4; stroke: #1f78b4\"/>\n     <use xlink:href=\"#m1d89ca5e1f\" x=\"159.228099\" y=\"131.038125\" style=\"fill: #1f78b4; stroke: #1f78b4\"/>\n     <use xlink:href=\"#m1d89ca5e1f\" x=\"220.715702\" y=\"101.087712\" style=\"fill: #1f78b4; stroke: #1f78b4\"/>\n     <use xlink:href=\"#m1d89ca5e1f\" x=\"220.715702\" y=\"131.038125\" style=\"fill: #1f78b4; stroke: #1f78b4\"/>\n     <use xlink:href=\"#m1d89ca5e1f\" x=\"189.971901\" y=\"160.988538\" style=\"fill: #1f78b4; stroke: #1f78b4\"/>\n     <use xlink:href=\"#m1d89ca5e1f\" x=\"128.484298\" y=\"190.938951\" style=\"fill: #1f78b4; stroke: #1f78b4\"/>\n     <use xlink:href=\"#m1d89ca5e1f\" x=\"97.740496\" y=\"220.889365\" style=\"fill: #1f78b4; stroke: #1f78b4\"/>\n     <use xlink:href=\"#m1d89ca5e1f\" x=\"159.228099\" y=\"220.889365\" style=\"fill: #1f78b4; stroke: #1f78b4\"/>\n     <use xlink:href=\"#m1d89ca5e1f\" x=\"189.971901\" y=\"190.938951\" style=\"fill: #1f78b4; stroke: #1f78b4\"/>\n     <use xlink:href=\"#m1d89ca5e1f\" x=\"251.459504\" y=\"160.988538\" style=\"fill: #1f78b4; stroke: #1f78b4\"/>\n     <use xlink:href=\"#m1d89ca5e1f\" x=\"251.459504\" y=\"190.938951\" style=\"fill: #1f78b4; stroke: #1f78b4\"/>\n     <use xlink:href=\"#m1d89ca5e1f\" x=\"312.947107\" y=\"190.938951\" style=\"fill: #1f78b4; stroke: #1f78b4\"/>\n     <use xlink:href=\"#m1d89ca5e1f\" x=\"282.203306\" y=\"131.038125\" style=\"fill: #1f78b4; stroke: #1f78b4\"/>\n    </g>\n   </g>\n   <g id=\"patch_3\">\n    <path d=\"M 7.2 239.758125 \nL 7.2 22.318125 \n\" style=\"fill: none; stroke: #ffffff; stroke-width: 0.8; stroke-linejoin: miter; stroke-linecap: square\"/>\n   </g>\n   <g id=\"patch_4\">\n    <path d=\"M 342 239.758125 \nL 342 22.318125 \n\" style=\"fill: none; stroke: #ffffff; stroke-width: 0.8; stroke-linejoin: miter; stroke-linecap: square\"/>\n   </g>\n   <g id=\"patch_5\">\n    <path d=\"M 7.2 239.758125 \nL 342 239.758125 \n\" style=\"fill: none; stroke: #ffffff; stroke-width: 0.8; stroke-linejoin: miter; stroke-linecap: square\"/>\n   </g>\n   <g id=\"patch_6\">\n    <path d=\"M 7.2 22.318125 \nL 342 22.318125 \n\" style=\"fill: none; stroke: #ffffff; stroke-width: 0.8; stroke-linejoin: miter; stroke-linecap: square\"/>\n   </g>\n   <g id=\"text_1\">\n    <g clip-path=\"url(#pfedcc427f2)\">\n     <!-- mul -->\n     <g transform=\"translate(117.170548 44.498135)scale(0.12 -0.12)\">\n      <defs>\n       <path id=\"DejaVuSans-6d\" d=\"M 3328 2828 \nQ 3544 3216 3844 3400 \nQ 4144 3584 4550 3584 \nQ 5097 3584 5394 3201 \nQ 5691 2819 5691 2113 \nL 5691 0 \nL 5113 0 \nL 5113 2094 \nQ 5113 2597 4934 2840 \nQ 4756 3084 4391 3084 \nQ 3944 3084 3684 2787 \nQ 3425 2491 3425 1978 \nL 3425 0 \nL 2847 0 \nL 2847 2094 \nQ 2847 2600 2669 2842 \nQ 2491 3084 2119 3084 \nQ 1678 3084 1418 2786 \nQ 1159 2488 1159 1978 \nL 1159 0 \nL 581 0 \nL 581 3500 \nL 1159 3500 \nL 1159 2956 \nQ 1356 3278 1631 3431 \nQ 1906 3584 2284 3584 \nQ 2666 3584 2933 3390 \nQ 3200 3197 3328 2828 \nz\n\" transform=\"scale(0.015625)\"/>\n       <path id=\"DejaVuSans-75\" d=\"M 544 1381 \nL 544 3500 \nL 1119 3500 \nL 1119 1403 \nQ 1119 906 1312 657 \nQ 1506 409 1894 409 \nQ 2359 409 2629 706 \nQ 2900 1003 2900 1516 \nL 2900 3500 \nL 3475 3500 \nL 3475 0 \nL 2900 0 \nL 2900 538 \nQ 2691 219 2414 64 \nQ 2138 -91 1772 -91 \nQ 1169 -91 856 284 \nQ 544 659 544 1381 \nz\nM 1991 3584 \nL 1991 3584 \nz\n\" transform=\"scale(0.015625)\"/>\n       <path id=\"DejaVuSans-6c\" d=\"M 603 4863 \nL 1178 4863 \nL 1178 0 \nL 603 0 \nL 603 4863 \nz\n\" transform=\"scale(0.015625)\"/>\n      </defs>\n      <use xlink:href=\"#DejaVuSans-6d\"/>\n      <use xlink:href=\"#DejaVuSans-75\" x=\"97.412109\"/>\n      <use xlink:href=\"#DejaVuSans-6c\" x=\"160.791016\"/>\n     </g>\n    </g>\n   </g>\n   <g id=\"text_2\">\n    <g clip-path=\"url(#pfedcc427f2)\">\n     <!-- add -->\n     <g transform=\"translate(86.445496 74.448549)scale(0.12 -0.12)\">\n      <defs>\n       <path id=\"DejaVuSans-61\" d=\"M 2194 1759 \nQ 1497 1759 1228 1600 \nQ 959 1441 959 1056 \nQ 959 750 1161 570 \nQ 1363 391 1709 391 \nQ 2188 391 2477 730 \nQ 2766 1069 2766 1631 \nL 2766 1759 \nL 2194 1759 \nz\nM 3341 1997 \nL 3341 0 \nL 2766 0 \nL 2766 531 \nQ 2569 213 2275 61 \nQ 1981 -91 1556 -91 \nQ 1019 -91 701 211 \nQ 384 513 384 1019 \nQ 384 1609 779 1909 \nQ 1175 2209 1959 2209 \nL 2766 2209 \nL 2766 2266 \nQ 2766 2663 2505 2880 \nQ 2244 3097 1772 3097 \nQ 1472 3097 1187 3025 \nQ 903 2953 641 2809 \nL 641 3341 \nQ 956 3463 1253 3523 \nQ 1550 3584 1831 3584 \nQ 2591 3584 2966 3190 \nQ 3341 2797 3341 1997 \nz\n\" transform=\"scale(0.015625)\"/>\n       <path id=\"DejaVuSans-64\" d=\"M 2906 2969 \nL 2906 4863 \nL 3481 4863 \nL 3481 0 \nL 2906 0 \nL 2906 525 \nQ 2725 213 2448 61 \nQ 2172 -91 1784 -91 \nQ 1150 -91 751 415 \nQ 353 922 353 1747 \nQ 353 2572 751 3078 \nQ 1150 3584 1784 3584 \nQ 2172 3584 2448 3432 \nQ 2725 3281 2906 2969 \nz\nM 947 1747 \nQ 947 1113 1208 752 \nQ 1469 391 1925 391 \nQ 2381 391 2643 752 \nQ 2906 1113 2906 1747 \nQ 2906 2381 2643 2742 \nQ 2381 3103 1925 3103 \nQ 1469 3103 1208 2742 \nQ 947 2381 947 1747 \nz\n\" transform=\"scale(0.015625)\"/>\n      </defs>\n      <use xlink:href=\"#DejaVuSans-61\"/>\n      <use xlink:href=\"#DejaVuSans-64\" x=\"61.279297\"/>\n      <use xlink:href=\"#DejaVuSans-64\" x=\"124.755859\"/>\n     </g>\n    </g>\n   </g>\n   <g id=\"text_3\">\n    <g clip-path=\"url(#pfedcc427f2)\">\n     <!-- ARG5 -->\n     <g transform=\"translate(19.512893 104.398962)scale(0.12 -0.12)\">\n      <defs>\n       <path id=\"DejaVuSans-41\" d=\"M 2188 4044 \nL 1331 1722 \nL 3047 1722 \nL 2188 4044 \nz\nM 1831 4666 \nL 2547 4666 \nL 4325 0 \nL 3669 0 \nL 3244 1197 \nL 1141 1197 \nL 716 0 \nL 50 0 \nL 1831 4666 \nz\n\" transform=\"scale(0.015625)\"/>\n       <path id=\"DejaVuSans-52\" d=\"M 2841 2188 \nQ 3044 2119 3236 1894 \nQ 3428 1669 3622 1275 \nL 4263 0 \nL 3584 0 \nL 2988 1197 \nQ 2756 1666 2539 1819 \nQ 2322 1972 1947 1972 \nL 1259 1972 \nL 1259 0 \nL 628 0 \nL 628 4666 \nL 2053 4666 \nQ 2853 4666 3247 4331 \nQ 3641 3997 3641 3322 \nQ 3641 2881 3436 2590 \nQ 3231 2300 2841 2188 \nz\nM 1259 4147 \nL 1259 2491 \nL 2053 2491 \nQ 2509 2491 2742 2702 \nQ 2975 2913 2975 3322 \nQ 2975 3731 2742 3939 \nQ 2509 4147 2053 4147 \nL 1259 4147 \nz\n\" transform=\"scale(0.015625)\"/>\n       <path id=\"DejaVuSans-47\" d=\"M 3809 666 \nL 3809 1919 \nL 2778 1919 \nL 2778 2438 \nL 4434 2438 \nL 4434 434 \nQ 4069 175 3628 42 \nQ 3188 -91 2688 -91 \nQ 1594 -91 976 548 \nQ 359 1188 359 2328 \nQ 359 3472 976 4111 \nQ 1594 4750 2688 4750 \nQ 3144 4750 3555 4637 \nQ 3966 4525 4313 4306 \nL 4313 3634 \nQ 3963 3931 3569 4081 \nQ 3175 4231 2741 4231 \nQ 1884 4231 1454 3753 \nQ 1025 3275 1025 2328 \nQ 1025 1384 1454 906 \nQ 1884 428 2741 428 \nQ 3075 428 3337 486 \nQ 3600 544 3809 666 \nz\n\" transform=\"scale(0.015625)\"/>\n       <path id=\"DejaVuSans-35\" d=\"M 691 4666 \nL 3169 4666 \nL 3169 4134 \nL 1269 4134 \nL 1269 2991 \nQ 1406 3038 1543 3061 \nQ 1681 3084 1819 3084 \nQ 2600 3084 3056 2656 \nQ 3513 2228 3513 1497 \nQ 3513 744 3044 326 \nQ 2575 -91 1722 -91 \nQ 1428 -91 1123 -41 \nQ 819 9 494 109 \nL 494 744 \nQ 775 591 1075 516 \nQ 1375 441 1709 441 \nQ 2250 441 2565 725 \nQ 2881 1009 2881 1497 \nQ 2881 1984 2565 2268 \nQ 2250 2553 1709 2553 \nQ 1456 2553 1204 2497 \nQ 953 2441 691 2322 \nL 691 4666 \nz\n\" transform=\"scale(0.015625)\"/>\n      </defs>\n      <use xlink:href=\"#DejaVuSans-41\"/>\n      <use xlink:href=\"#DejaVuSans-52\" x=\"68.408203\"/>\n      <use xlink:href=\"#DejaVuSans-47\" x=\"137.890625\"/>\n      <use xlink:href=\"#DejaVuSans-35\" x=\"215.380859\"/>\n     </g>\n    </g>\n   </g>\n   <g id=\"text_4\">\n    <g clip-path=\"url(#pfedcc427f2)\">\n     <!-- ARG4 -->\n     <g transform=\"translate(81.000496 104.398962)scale(0.12 -0.12)\">\n      <defs>\n       <path id=\"DejaVuSans-34\" d=\"M 2419 4116 \nL 825 1625 \nL 2419 1625 \nL 2419 4116 \nz\nM 2253 4666 \nL 3047 4666 \nL 3047 1625 \nL 3713 1625 \nL 3713 1100 \nL 3047 1100 \nL 3047 0 \nL 2419 0 \nL 2419 1100 \nL 313 1100 \nL 313 1709 \nL 2253 4666 \nz\n\" transform=\"scale(0.015625)\"/>\n      </defs>\n      <use xlink:href=\"#DejaVuSans-41\"/>\n      <use xlink:href=\"#DejaVuSans-52\" x=\"68.408203\"/>\n      <use xlink:href=\"#DejaVuSans-47\" x=\"137.890625\"/>\n      <use xlink:href=\"#DejaVuSans-34\" x=\"215.380859\"/>\n     </g>\n    </g>\n   </g>\n   <g id=\"text_5\">\n    <g clip-path=\"url(#pfedcc427f2)\">\n     <!-- saveDiv -->\n     <g transform=\"translate(135.344349 74.448549)scale(0.12 -0.12)\">\n      <defs>\n       <path id=\"DejaVuSans-73\" d=\"M 2834 3397 \nL 2834 2853 \nQ 2591 2978 2328 3040 \nQ 2066 3103 1784 3103 \nQ 1356 3103 1142 2972 \nQ 928 2841 928 2578 \nQ 928 2378 1081 2264 \nQ 1234 2150 1697 2047 \nL 1894 2003 \nQ 2506 1872 2764 1633 \nQ 3022 1394 3022 966 \nQ 3022 478 2636 193 \nQ 2250 -91 1575 -91 \nQ 1294 -91 989 -36 \nQ 684 19 347 128 \nL 347 722 \nQ 666 556 975 473 \nQ 1284 391 1588 391 \nQ 1994 391 2212 530 \nQ 2431 669 2431 922 \nQ 2431 1156 2273 1281 \nQ 2116 1406 1581 1522 \nL 1381 1569 \nQ 847 1681 609 1914 \nQ 372 2147 372 2553 \nQ 372 3047 722 3315 \nQ 1072 3584 1716 3584 \nQ 2034 3584 2315 3537 \nQ 2597 3491 2834 3397 \nz\n\" transform=\"scale(0.015625)\"/>\n       <path id=\"DejaVuSans-76\" d=\"M 191 3500 \nL 800 3500 \nL 1894 563 \nL 2988 3500 \nL 3597 3500 \nL 2284 0 \nL 1503 0 \nL 191 3500 \nz\n\" transform=\"scale(0.015625)\"/>\n       <path id=\"DejaVuSans-65\" d=\"M 3597 1894 \nL 3597 1613 \nL 953 1613 \nQ 991 1019 1311 708 \nQ 1631 397 2203 397 \nQ 2534 397 2845 478 \nQ 3156 559 3463 722 \nL 3463 178 \nQ 3153 47 2828 -22 \nQ 2503 -91 2169 -91 \nQ 1331 -91 842 396 \nQ 353 884 353 1716 \nQ 353 2575 817 3079 \nQ 1281 3584 2069 3584 \nQ 2775 3584 3186 3129 \nQ 3597 2675 3597 1894 \nz\nM 3022 2063 \nQ 3016 2534 2758 2815 \nQ 2500 3097 2075 3097 \nQ 1594 3097 1305 2825 \nQ 1016 2553 972 2059 \nL 3022 2063 \nz\n\" transform=\"scale(0.015625)\"/>\n       <path id=\"DejaVuSans-44\" d=\"M 1259 4147 \nL 1259 519 \nL 2022 519 \nQ 2988 519 3436 956 \nQ 3884 1394 3884 2338 \nQ 3884 3275 3436 3711 \nQ 2988 4147 2022 4147 \nL 1259 4147 \nz\nM 628 4666 \nL 1925 4666 \nQ 3281 4666 3915 4102 \nQ 4550 3538 4550 2338 \nQ 4550 1131 3912 565 \nQ 3275 0 1925 0 \nL 628 0 \nL 628 4666 \nz\n\" transform=\"scale(0.015625)\"/>\n       <path id=\"DejaVuSans-69\" d=\"M 603 3500 \nL 1178 3500 \nL 1178 0 \nL 603 0 \nL 603 3500 \nz\nM 603 4863 \nL 1178 4863 \nL 1178 4134 \nL 603 4134 \nL 603 4863 \nz\n\" transform=\"scale(0.015625)\"/>\n      </defs>\n      <use xlink:href=\"#DejaVuSans-73\"/>\n      <use xlink:href=\"#DejaVuSans-61\" x=\"52.099609\"/>\n      <use xlink:href=\"#DejaVuSans-76\" x=\"113.378906\"/>\n      <use xlink:href=\"#DejaVuSans-65\" x=\"172.558594\"/>\n      <use xlink:href=\"#DejaVuSans-44\" x=\"234.082031\"/>\n      <use xlink:href=\"#DejaVuSans-69\" x=\"311.083984\"/>\n      <use xlink:href=\"#DejaVuSans-76\" x=\"338.867188\"/>\n     </g>\n    </g>\n   </g>\n   <g id=\"text_6\">\n    <g clip-path=\"url(#pfedcc427f2)\">\n     <!-- saveDiv -->\n     <g transform=\"translate(135.344349 104.398962)scale(0.12 -0.12)\">\n      <use xlink:href=\"#DejaVuSans-73\"/>\n      <use xlink:href=\"#DejaVuSans-61\" x=\"52.099609\"/>\n      <use xlink:href=\"#DejaVuSans-76\" x=\"113.378906\"/>\n      <use xlink:href=\"#DejaVuSans-65\" x=\"172.558594\"/>\n      <use xlink:href=\"#DejaVuSans-44\" x=\"234.082031\"/>\n      <use xlink:href=\"#DejaVuSans-69\" x=\"311.083984\"/>\n      <use xlink:href=\"#DejaVuSans-76\" x=\"338.867188\"/>\n     </g>\n    </g>\n   </g>\n   <g id=\"text_7\">\n    <g clip-path=\"url(#pfedcc427f2)\">\n     <!-- ARG2 -->\n     <g transform=\"translate(81.000496 134.349375)scale(0.12 -0.12)\">\n      <defs>\n       <path id=\"DejaVuSans-32\" d=\"M 1228 531 \nL 3431 531 \nL 3431 0 \nL 469 0 \nL 469 531 \nQ 828 903 1448 1529 \nQ 2069 2156 2228 2338 \nQ 2531 2678 2651 2914 \nQ 2772 3150 2772 3378 \nQ 2772 3750 2511 3984 \nQ 2250 4219 1831 4219 \nQ 1534 4219 1204 4116 \nQ 875 4013 500 3803 \nL 500 4441 \nQ 881 4594 1212 4672 \nQ 1544 4750 1819 4750 \nQ 2544 4750 2975 4387 \nQ 3406 4025 3406 3419 \nQ 3406 3131 3298 2873 \nQ 3191 2616 2906 2266 \nQ 2828 2175 2409 1742 \nQ 1991 1309 1228 531 \nz\n\" transform=\"scale(0.015625)\"/>\n      </defs>\n      <use xlink:href=\"#DejaVuSans-41\"/>\n      <use xlink:href=\"#DejaVuSans-52\" x=\"68.408203\"/>\n      <use xlink:href=\"#DejaVuSans-47\" x=\"137.890625\"/>\n      <use xlink:href=\"#DejaVuSans-32\" x=\"215.380859\"/>\n     </g>\n    </g>\n   </g>\n   <g id=\"text_8\">\n    <g clip-path=\"url(#pfedcc427f2)\">\n     <!-- -1 -->\n     <g transform=\"translate(153.245912 134.349375)scale(0.12 -0.12)\">\n      <defs>\n       <path id=\"DejaVuSans-2d\" d=\"M 313 2009 \nL 1997 2009 \nL 1997 1497 \nL 313 1497 \nL 313 2009 \nz\n\" transform=\"scale(0.015625)\"/>\n       <path id=\"DejaVuSans-31\" d=\"M 794 531 \nL 1825 531 \nL 1825 4091 \nL 703 3866 \nL 703 4441 \nL 1819 4666 \nL 2450 4666 \nL 2450 531 \nL 3481 531 \nL 3481 0 \nL 794 0 \nL 794 531 \nz\n\" transform=\"scale(0.015625)\"/>\n      </defs>\n      <use xlink:href=\"#DejaVuSans-2d\"/>\n      <use xlink:href=\"#DejaVuSans-31\" x=\"36.083984\"/>\n     </g>\n    </g>\n   </g>\n   <g id=\"text_9\">\n    <g clip-path=\"url(#pfedcc427f2)\">\n     <!-- sub -->\n     <g transform=\"translate(209.978515 104.398962)scale(0.12 -0.12)\">\n      <defs>\n       <path id=\"DejaVuSans-62\" d=\"M 3116 1747 \nQ 3116 2381 2855 2742 \nQ 2594 3103 2138 3103 \nQ 1681 3103 1420 2742 \nQ 1159 2381 1159 1747 \nQ 1159 1113 1420 752 \nQ 1681 391 2138 391 \nQ 2594 391 2855 752 \nQ 3116 1113 3116 1747 \nz\nM 1159 2969 \nQ 1341 3281 1617 3432 \nQ 1894 3584 2278 3584 \nQ 2916 3584 3314 3078 \nQ 3713 2572 3713 1747 \nQ 3713 922 3314 415 \nQ 2916 -91 2278 -91 \nQ 1894 -91 1617 61 \nQ 1341 213 1159 525 \nL 1159 0 \nL 581 0 \nL 581 4863 \nL 1159 4863 \nL 1159 2969 \nz\n\" transform=\"scale(0.015625)\"/>\n      </defs>\n      <use xlink:href=\"#DejaVuSans-73\"/>\n      <use xlink:href=\"#DejaVuSans-75\" x=\"52.099609\"/>\n      <use xlink:href=\"#DejaVuSans-62\" x=\"115.478516\"/>\n     </g>\n    </g>\n   </g>\n   <g id=\"text_10\">\n    <g clip-path=\"url(#pfedcc427f2)\">\n     <!-- mul -->\n     <g transform=\"translate(209.401952 134.349375)scale(0.12 -0.12)\">\n      <use xlink:href=\"#DejaVuSans-6d\"/>\n      <use xlink:href=\"#DejaVuSans-75\" x=\"97.412109\"/>\n      <use xlink:href=\"#DejaVuSans-6c\" x=\"160.791016\"/>\n     </g>\n    </g>\n   </g>\n   <g id=\"text_11\">\n    <g clip-path=\"url(#pfedcc427f2)\">\n     <!-- saveDiv -->\n     <g transform=\"translate(166.088151 164.299788)scale(0.12 -0.12)\">\n      <use xlink:href=\"#DejaVuSans-73\"/>\n      <use xlink:href=\"#DejaVuSans-61\" x=\"52.099609\"/>\n      <use xlink:href=\"#DejaVuSans-76\" x=\"113.378906\"/>\n      <use xlink:href=\"#DejaVuSans-65\" x=\"172.558594\"/>\n      <use xlink:href=\"#DejaVuSans-44\" x=\"234.082031\"/>\n      <use xlink:href=\"#DejaVuSans-69\" x=\"311.083984\"/>\n      <use xlink:href=\"#DejaVuSans-76\" x=\"338.867188\"/>\n     </g>\n    </g>\n   </g>\n   <g id=\"text_12\">\n    <g clip-path=\"url(#pfedcc427f2)\">\n     <!-- mul -->\n     <g transform=\"translate(117.170548 194.250201)scale(0.12 -0.12)\">\n      <use xlink:href=\"#DejaVuSans-6d\"/>\n      <use xlink:href=\"#DejaVuSans-75\" x=\"97.412109\"/>\n      <use xlink:href=\"#DejaVuSans-6c\" x=\"160.791016\"/>\n     </g>\n    </g>\n   </g>\n   <g id=\"text_13\">\n    <g clip-path=\"url(#pfedcc427f2)\">\n     <!-- ARG4 -->\n     <g transform=\"translate(81.000496 224.200615)scale(0.12 -0.12)\">\n      <use xlink:href=\"#DejaVuSans-41\"/>\n      <use xlink:href=\"#DejaVuSans-52\" x=\"68.408203\"/>\n      <use xlink:href=\"#DejaVuSans-47\" x=\"137.890625\"/>\n      <use xlink:href=\"#DejaVuSans-34\" x=\"215.380859\"/>\n     </g>\n    </g>\n   </g>\n   <g id=\"text_14\">\n    <g clip-path=\"url(#pfedcc427f2)\">\n     <!-- ARG6 -->\n     <g transform=\"translate(142.488099 224.200615)scale(0.12 -0.12)\">\n      <defs>\n       <path id=\"DejaVuSans-36\" d=\"M 2113 2584 \nQ 1688 2584 1439 2293 \nQ 1191 2003 1191 1497 \nQ 1191 994 1439 701 \nQ 1688 409 2113 409 \nQ 2538 409 2786 701 \nQ 3034 994 3034 1497 \nQ 3034 2003 2786 2293 \nQ 2538 2584 2113 2584 \nz\nM 3366 4563 \nL 3366 3988 \nQ 3128 4100 2886 4159 \nQ 2644 4219 2406 4219 \nQ 1781 4219 1451 3797 \nQ 1122 3375 1075 2522 \nQ 1259 2794 1537 2939 \nQ 1816 3084 2150 3084 \nQ 2853 3084 3261 2657 \nQ 3669 2231 3669 1497 \nQ 3669 778 3244 343 \nQ 2819 -91 2113 -91 \nQ 1303 -91 875 529 \nQ 447 1150 447 2328 \nQ 447 3434 972 4092 \nQ 1497 4750 2381 4750 \nQ 2619 4750 2861 4703 \nQ 3103 4656 3366 4563 \nz\n\" transform=\"scale(0.015625)\"/>\n      </defs>\n      <use xlink:href=\"#DejaVuSans-41\"/>\n      <use xlink:href=\"#DejaVuSans-52\" x=\"68.408203\"/>\n      <use xlink:href=\"#DejaVuSans-47\" x=\"137.890625\"/>\n      <use xlink:href=\"#DejaVuSans-36\" x=\"215.380859\"/>\n     </g>\n    </g>\n   </g>\n   <g id=\"text_15\">\n    <g clip-path=\"url(#pfedcc427f2)\">\n     <!-- ARG2 -->\n     <g transform=\"translate(173.231901 194.250201)scale(0.12 -0.12)\">\n      <use xlink:href=\"#DejaVuSans-41\"/>\n      <use xlink:href=\"#DejaVuSans-52\" x=\"68.408203\"/>\n      <use xlink:href=\"#DejaVuSans-47\" x=\"137.890625\"/>\n      <use xlink:href=\"#DejaVuSans-32\" x=\"215.380859\"/>\n     </g>\n    </g>\n   </g>\n   <g id=\"text_16\">\n    <g clip-path=\"url(#pfedcc427f2)\">\n     <!-- mul -->\n     <g transform=\"translate(240.145754 164.299788)scale(0.12 -0.12)\">\n      <use xlink:href=\"#DejaVuSans-6d\"/>\n      <use xlink:href=\"#DejaVuSans-75\" x=\"97.412109\"/>\n      <use xlink:href=\"#DejaVuSans-6c\" x=\"160.791016\"/>\n     </g>\n    </g>\n   </g>\n   <g id=\"text_17\">\n    <g clip-path=\"url(#pfedcc427f2)\">\n     <!-- ARG1 -->\n     <g transform=\"translate(234.719504 194.250201)scale(0.12 -0.12)\">\n      <use xlink:href=\"#DejaVuSans-41\"/>\n      <use xlink:href=\"#DejaVuSans-52\" x=\"68.408203\"/>\n      <use xlink:href=\"#DejaVuSans-47\" x=\"137.890625\"/>\n      <use xlink:href=\"#DejaVuSans-31\" x=\"215.380859\"/>\n     </g>\n    </g>\n   </g>\n   <g id=\"text_18\">\n    <g clip-path=\"url(#pfedcc427f2)\">\n     <!-- ARG4 -->\n     <g transform=\"translate(296.207107 194.250201)scale(0.12 -0.12)\">\n      <use xlink:href=\"#DejaVuSans-41\"/>\n      <use xlink:href=\"#DejaVuSans-52\" x=\"68.408203\"/>\n      <use xlink:href=\"#DejaVuSans-47\" x=\"137.890625\"/>\n      <use xlink:href=\"#DejaVuSans-34\" x=\"215.380859\"/>\n     </g>\n    </g>\n   </g>\n   <g id=\"text_19\">\n    <g clip-path=\"url(#pfedcc427f2)\">\n     <!-- ARG3 -->\n     <g transform=\"translate(265.463306 134.349375)scale(0.12 -0.12)\">\n      <defs>\n       <path id=\"DejaVuSans-33\" d=\"M 2597 2516 \nQ 3050 2419 3304 2112 \nQ 3559 1806 3559 1356 \nQ 3559 666 3084 287 \nQ 2609 -91 1734 -91 \nQ 1441 -91 1130 -33 \nQ 819 25 488 141 \nL 488 750 \nQ 750 597 1062 519 \nQ 1375 441 1716 441 \nQ 2309 441 2620 675 \nQ 2931 909 2931 1356 \nQ 2931 1769 2642 2001 \nQ 2353 2234 1838 2234 \nL 1294 2234 \nL 1294 2753 \nL 1863 2753 \nQ 2328 2753 2575 2939 \nQ 2822 3125 2822 3475 \nQ 2822 3834 2567 4026 \nQ 2313 4219 1838 4219 \nQ 1578 4219 1281 4162 \nQ 984 4106 628 3988 \nL 628 4550 \nQ 988 4650 1302 4700 \nQ 1616 4750 1894 4750 \nQ 2613 4750 3031 4423 \nQ 3450 4097 3450 3541 \nQ 3450 3153 3228 2886 \nQ 3006 2619 2597 2516 \nz\n\" transform=\"scale(0.015625)\"/>\n      </defs>\n      <use xlink:href=\"#DejaVuSans-41\"/>\n      <use xlink:href=\"#DejaVuSans-52\" x=\"68.408203\"/>\n      <use xlink:href=\"#DejaVuSans-47\" x=\"137.890625\"/>\n      <use xlink:href=\"#DejaVuSans-33\" x=\"215.380859\"/>\n     </g>\n    </g>\n   </g>\n   <g id=\"text_20\">\n    <!-- Best Solution -->\n    <g style=\"fill: #ffffff\" transform=\"translate(134.964375 16.318125)scale(0.12 -0.12)\">\n     <defs>\n      <path id=\"DejaVuSans-42\" d=\"M 1259 2228 \nL 1259 519 \nL 2272 519 \nQ 2781 519 3026 730 \nQ 3272 941 3272 1375 \nQ 3272 1813 3026 2020 \nQ 2781 2228 2272 2228 \nL 1259 2228 \nz\nM 1259 4147 \nL 1259 2741 \nL 2194 2741 \nQ 2656 2741 2882 2914 \nQ 3109 3088 3109 3444 \nQ 3109 3797 2882 3972 \nQ 2656 4147 2194 4147 \nL 1259 4147 \nz\nM 628 4666 \nL 2241 4666 \nQ 2963 4666 3353 4366 \nQ 3744 4066 3744 3513 \nQ 3744 3084 3544 2831 \nQ 3344 2578 2956 2516 \nQ 3422 2416 3680 2098 \nQ 3938 1781 3938 1306 \nQ 3938 681 3513 340 \nQ 3088 0 2303 0 \nL 628 0 \nL 628 4666 \nz\n\" transform=\"scale(0.015625)\"/>\n      <path id=\"DejaVuSans-74\" d=\"M 1172 4494 \nL 1172 3500 \nL 2356 3500 \nL 2356 3053 \nL 1172 3053 \nL 1172 1153 \nQ 1172 725 1289 603 \nQ 1406 481 1766 481 \nL 2356 481 \nL 2356 0 \nL 1766 0 \nQ 1100 0 847 248 \nQ 594 497 594 1153 \nL 594 3053 \nL 172 3053 \nL 172 3500 \nL 594 3500 \nL 594 4494 \nL 1172 4494 \nz\n\" transform=\"scale(0.015625)\"/>\n      <path id=\"DejaVuSans-20\" transform=\"scale(0.015625)\"/>\n      <path id=\"DejaVuSans-53\" d=\"M 3425 4513 \nL 3425 3897 \nQ 3066 4069 2747 4153 \nQ 2428 4238 2131 4238 \nQ 1616 4238 1336 4038 \nQ 1056 3838 1056 3469 \nQ 1056 3159 1242 3001 \nQ 1428 2844 1947 2747 \nL 2328 2669 \nQ 3034 2534 3370 2195 \nQ 3706 1856 3706 1288 \nQ 3706 609 3251 259 \nQ 2797 -91 1919 -91 \nQ 1588 -91 1214 -16 \nQ 841 59 441 206 \nL 441 856 \nQ 825 641 1194 531 \nQ 1563 422 1919 422 \nQ 2459 422 2753 634 \nQ 3047 847 3047 1241 \nQ 3047 1584 2836 1778 \nQ 2625 1972 2144 2069 \nL 1759 2144 \nQ 1053 2284 737 2584 \nQ 422 2884 422 3419 \nQ 422 4038 858 4394 \nQ 1294 4750 2059 4750 \nQ 2388 4750 2728 4690 \nQ 3069 4631 3425 4513 \nz\n\" transform=\"scale(0.015625)\"/>\n      <path id=\"DejaVuSans-6f\" d=\"M 1959 3097 \nQ 1497 3097 1228 2736 \nQ 959 2375 959 1747 \nQ 959 1119 1226 758 \nQ 1494 397 1959 397 \nQ 2419 397 2687 759 \nQ 2956 1122 2956 1747 \nQ 2956 2369 2687 2733 \nQ 2419 3097 1959 3097 \nz\nM 1959 3584 \nQ 2709 3584 3137 3096 \nQ 3566 2609 3566 1747 \nQ 3566 888 3137 398 \nQ 2709 -91 1959 -91 \nQ 1206 -91 779 398 \nQ 353 888 353 1747 \nQ 353 2609 779 3096 \nQ 1206 3584 1959 3584 \nz\n\" transform=\"scale(0.015625)\"/>\n      <path id=\"DejaVuSans-6e\" d=\"M 3513 2113 \nL 3513 0 \nL 2938 0 \nL 2938 2094 \nQ 2938 2591 2744 2837 \nQ 2550 3084 2163 3084 \nQ 1697 3084 1428 2787 \nQ 1159 2491 1159 1978 \nL 1159 0 \nL 581 0 \nL 581 3500 \nL 1159 3500 \nL 1159 2956 \nQ 1366 3272 1645 3428 \nQ 1925 3584 2291 3584 \nQ 2894 3584 3203 3211 \nQ 3513 2838 3513 2113 \nz\n\" transform=\"scale(0.015625)\"/>\n     </defs>\n     <use xlink:href=\"#DejaVuSans-42\"/>\n     <use xlink:href=\"#DejaVuSans-65\" x=\"68.603516\"/>\n     <use xlink:href=\"#DejaVuSans-73\" x=\"130.126953\"/>\n     <use xlink:href=\"#DejaVuSans-74\" x=\"182.226562\"/>\n     <use xlink:href=\"#DejaVuSans-20\" x=\"221.435547\"/>\n     <use xlink:href=\"#DejaVuSans-53\" x=\"253.222656\"/>\n     <use xlink:href=\"#DejaVuSans-6f\" x=\"316.699219\"/>\n     <use xlink:href=\"#DejaVuSans-6c\" x=\"377.880859\"/>\n     <use xlink:href=\"#DejaVuSans-75\" x=\"405.664062\"/>\n     <use xlink:href=\"#DejaVuSans-74\" x=\"469.042969\"/>\n     <use xlink:href=\"#DejaVuSans-69\" x=\"508.251953\"/>\n     <use xlink:href=\"#DejaVuSans-6f\" x=\"536.035156\"/>\n     <use xlink:href=\"#DejaVuSans-6e\" x=\"597.216797\"/>\n    </g>\n   </g>\n  </g>\n </g>\n <defs>\n  <clipPath id=\"pfedcc427f2\">\n   <rect x=\"7.2\" y=\"22.318125\" width=\"334.8\" height=\"217.44\"/>\n  </clipPath>\n </defs>\n</svg>\n",
      "text/plain": [
       "<Figure size 432x288 with 1 Axes>"
      ]
     },
     "metadata": {},
     "output_type": "display_data"
    }
   ],
   "source": [
    "\n",
    "for elite in hof:\n",
    "    winner = elite\n",
    "    print (elite)\n",
    "    plot_exprTree(elite, \"Best Solution\")"
   ]
  },
  {
   "cell_type": "code",
   "execution_count": null,
   "metadata": {},
   "outputs": [],
   "source": []
  },
  {
   "cell_type": "code",
   "execution_count": 23,
   "metadata": {},
   "outputs": [
    {
     "name": "stdout",
     "output_type": "stream",
     "text": [
      "Mean absolute error for unknown Dataset =  4.833866349720192\n"
     ]
    }
   ],
   "source": [
    "winner_func = gp.compile(winner, pset)\n",
    "\n",
    "abs_err_agg = 0.0\n",
    "n = len(testDF)\n",
    "\n",
    "for _, case in testDF.iterrows():\n",
    "    abs_err_agg += abs(winner_func(*case[0:8:].values) - case[8:9:].values[0])\n",
    "\n",
    "MAE = abs_err_agg / n\n",
    "\n",
    "print(\"Mean absolute error for unknown Dataset = \", MAE)"
   ]
  }
 ],
 "metadata": {
  "interpreter": {
   "hash": "76ccdc9e1609e02ff543acc18e37045188f863069557f4e8891716419ee222bc"
  },
  "kernelspec": {
   "display_name": "Python 3 (ipykernel)",
   "language": "python",
   "name": "python3"
  },
  "language_info": {
   "codemirror_mode": {
    "name": "ipython",
    "version": 3
   },
   "file_extension": ".py",
   "mimetype": "text/x-python",
   "name": "python",
   "nbconvert_exporter": "python",
   "pygments_lexer": "ipython3",
   "version": "3.10.4"
  }
 },
 "nbformat": 4,
 "nbformat_minor": 2
}
